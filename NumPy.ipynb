{
  "nbformat": 4,
  "nbformat_minor": 0,
  "metadata": {
    "colab": {
      "name": "NumPy.ipynb",
      "provenance": [],
      "authorship_tag": "ABX9TyNGJT45YRz4Ey3JXuCjQAcs",
      "include_colab_link": true
    },
    "kernelspec": {
      "name": "python3",
      "display_name": "Python 3"
    },
    "language_info": {
      "name": "python"
    }
  },
  "cells": [
    {
      "cell_type": "markdown",
      "metadata": {
        "id": "view-in-github",
        "colab_type": "text"
      },
      "source": [
        "<a href=\"https://colab.research.google.com/github/ISTYCSE16/ISTYCSE16-MachineLearning_mrdbourke_Udemy_Course/blob/master/NumPy.ipynb\" target=\"_parent\"><img src=\"https://colab.research.google.com/assets/colab-badge.svg\" alt=\"Open In Colab\"/></a>"
      ]
    },
    {
      "cell_type": "code",
      "metadata": {
        "id": "5SnnMvNfJgW5"
      },
      "source": [
        "import numpy as np\n",
        "import pandas as pd"
      ],
      "execution_count": null,
      "outputs": []
    },
    {
      "cell_type": "markdown",
      "metadata": {
        "id": "Yan56od4QFoJ"
      },
      "source": [
        "# Datatypes and Attributes"
      ]
    },
    {
      "cell_type": "code",
      "metadata": {
        "colab": {
          "base_uri": "https://localhost:8080/"
        },
        "id": "Gf8bp_TNQCRp",
        "outputId": "b1312b45-6c95-4719-e9ea-44dff3dd123b"
      },
      "source": [
        "# Main Datatype is ndarray --> n-dimensional array\n",
        "a1 = np.array([1, 2, 3])\n",
        "a1"
      ],
      "execution_count": null,
      "outputs": [
        {
          "output_type": "execute_result",
          "data": {
            "text/plain": [
              "array([1, 2, 3])"
            ]
          },
          "metadata": {
            "tags": []
          },
          "execution_count": 150
        }
      ]
    },
    {
      "cell_type": "code",
      "metadata": {
        "colab": {
          "base_uri": "https://localhost:8080/"
        },
        "id": "U2n7HhkrqVNR",
        "outputId": "a16f79d7-654d-4ae2-e139-afe160b6eb2e"
      },
      "source": [
        "a2 = np.array([[1, 2, 3], [4, 5, 6]])\n",
        "a2"
      ],
      "execution_count": null,
      "outputs": [
        {
          "output_type": "execute_result",
          "data": {
            "text/plain": [
              "array([[1, 2, 3],\n",
              "       [4, 5, 6]])"
            ]
          },
          "metadata": {
            "tags": []
          },
          "execution_count": 151
        }
      ]
    },
    {
      "cell_type": "code",
      "metadata": {
        "colab": {
          "base_uri": "https://localhost:8080/"
        },
        "id": "3XbkkjxgqexI",
        "outputId": "4321c40a-4c54-49a8-9ee1-af877e5f0a1e"
      },
      "source": [
        "a2.shape"
      ],
      "execution_count": null,
      "outputs": [
        {
          "output_type": "execute_result",
          "data": {
            "text/plain": [
              "(2, 3)"
            ]
          },
          "metadata": {
            "tags": []
          },
          "execution_count": 152
        }
      ]
    },
    {
      "cell_type": "code",
      "metadata": {
        "colab": {
          "base_uri": "https://localhost:8080/"
        },
        "id": "6x6tM0okqkeP",
        "outputId": "090f4a4c-dee4-4f56-c291-f99fa6905f58"
      },
      "source": [
        "a3 = np.array([[[1, 2, 3],\n",
        "               [4, 5, 6],\n",
        "               [7, 8, 9]],\n",
        "\n",
        "               [[10, 11, 12],\n",
        "                [13, 14, 15],\n",
        "                [17, 18, 19]]])\n",
        "a3"
      ],
      "execution_count": null,
      "outputs": [
        {
          "output_type": "execute_result",
          "data": {
            "text/plain": [
              "array([[[ 1,  2,  3],\n",
              "        [ 4,  5,  6],\n",
              "        [ 7,  8,  9]],\n",
              "\n",
              "       [[10, 11, 12],\n",
              "        [13, 14, 15],\n",
              "        [17, 18, 19]]])"
            ]
          },
          "metadata": {
            "tags": []
          },
          "execution_count": 153
        }
      ]
    },
    {
      "cell_type": "code",
      "metadata": {
        "colab": {
          "base_uri": "https://localhost:8080/"
        },
        "id": "QosgjKxQrO2Z",
        "outputId": "1a6b8277-8357-49de-d462-e5d79cf1d47b"
      },
      "source": [
        "a3.shape"
      ],
      "execution_count": null,
      "outputs": [
        {
          "output_type": "execute_result",
          "data": {
            "text/plain": [
              "(2, 3, 3)"
            ]
          },
          "metadata": {
            "tags": []
          },
          "execution_count": 154
        }
      ]
    },
    {
      "cell_type": "code",
      "metadata": {
        "colab": {
          "base_uri": "https://localhost:8080/"
        },
        "id": "1dI44Md8u8eb",
        "outputId": "69b10823-33af-477f-92fe-7a06a412be66"
      },
      "source": [
        "a1.ndim, a2.ndim, a3.ndim"
      ],
      "execution_count": null,
      "outputs": [
        {
          "output_type": "execute_result",
          "data": {
            "text/plain": [
              "(1, 2, 3)"
            ]
          },
          "metadata": {
            "tags": []
          },
          "execution_count": 155
        }
      ]
    },
    {
      "cell_type": "code",
      "metadata": {
        "colab": {
          "base_uri": "https://localhost:8080/"
        },
        "id": "vLTMAA3YvJOg",
        "outputId": "c27b9840-326b-4c50-d198-ffbd0de50f42"
      },
      "source": [
        "a1.dtype, a2.dtype, a3.dtype"
      ],
      "execution_count": null,
      "outputs": [
        {
          "output_type": "execute_result",
          "data": {
            "text/plain": [
              "(dtype('int64'), dtype('int64'), dtype('int64'))"
            ]
          },
          "metadata": {
            "tags": []
          },
          "execution_count": 156
        }
      ]
    },
    {
      "cell_type": "code",
      "metadata": {
        "colab": {
          "base_uri": "https://localhost:8080/"
        },
        "id": "4NE5StiyvWFg",
        "outputId": "cc3ad725-c8ae-42ae-c4d4-80e8471ce92e"
      },
      "source": [
        "a1.size, a2.size, a3.size"
      ],
      "execution_count": null,
      "outputs": [
        {
          "output_type": "execute_result",
          "data": {
            "text/plain": [
              "(3, 6, 18)"
            ]
          },
          "metadata": {
            "tags": []
          },
          "execution_count": 157
        }
      ]
    },
    {
      "cell_type": "code",
      "metadata": {
        "colab": {
          "base_uri": "https://localhost:8080/"
        },
        "id": "b24HcWb-va_V",
        "outputId": "23cb6b0b-ed1f-432d-90c1-d12762868d36"
      },
      "source": [
        "l =            [[[1, 2, 3],\n",
        "               [4, 5, 6],\n",
        "               [7, 8, 9]],\n",
        "               [[10, 11, 12],\n",
        "               [13, 14, 15],\n",
        "              [17, 18, 19]]]\n",
        "\n",
        "l"
      ],
      "execution_count": null,
      "outputs": [
        {
          "output_type": "execute_result",
          "data": {
            "text/plain": [
              "[[[1, 2, 3], [4, 5, 6], [7, 8, 9]], [[10, 11, 12], [13, 14, 15], [17, 18, 19]]]"
            ]
          },
          "metadata": {
            "tags": []
          },
          "execution_count": 158
        }
      ]
    },
    {
      "cell_type": "markdown",
      "metadata": {
        "id": "pYzhhxTfVRS8"
      },
      "source": [
        "# Creating NumPy Arrays"
      ]
    },
    {
      "cell_type": "code",
      "metadata": {
        "id": "DHbOIDzh4-xM",
        "colab": {
          "base_uri": "https://localhost:8080/"
        },
        "outputId": "9416f83b-a123-4b71-ae24-00413bef68c7"
      },
      "source": [
        "ones = np.ones((3, 3))\n",
        "ones"
      ],
      "execution_count": null,
      "outputs": [
        {
          "output_type": "execute_result",
          "data": {
            "text/plain": [
              "array([[1., 1., 1.],\n",
              "       [1., 1., 1.],\n",
              "       [1., 1., 1.]])"
            ]
          },
          "metadata": {
            "tags": []
          },
          "execution_count": 159
        }
      ]
    },
    {
      "cell_type": "code",
      "metadata": {
        "colab": {
          "base_uri": "https://localhost:8080/"
        },
        "id": "8ZV1pdIqaZAI",
        "outputId": "c64d6bd3-3943-4a5e-9b20-61d1aa4309e1"
      },
      "source": [
        "zeros = np.zeros((3, 3))\n",
        "zeros"
      ],
      "execution_count": null,
      "outputs": [
        {
          "output_type": "execute_result",
          "data": {
            "text/plain": [
              "array([[0., 0., 0.],\n",
              "       [0., 0., 0.],\n",
              "       [0., 0., 0.]])"
            ]
          },
          "metadata": {
            "tags": []
          },
          "execution_count": 160
        }
      ]
    },
    {
      "cell_type": "code",
      "metadata": {
        "id": "iVxOcNtNbuLe",
        "colab": {
          "base_uri": "https://localhost:8080/"
        },
        "outputId": "cb1dc924-9125-4fb6-e7af-c71d1deb9b52"
      },
      "source": [
        "# np.arange(low-->inclusive, high-->exclusive, step-over)\n",
        "range_array = np.arange(0, 12, 3)\n",
        "range_array"
      ],
      "execution_count": null,
      "outputs": [
        {
          "output_type": "execute_result",
          "data": {
            "text/plain": [
              "array([0, 3, 6, 9])"
            ]
          },
          "metadata": {
            "tags": []
          },
          "execution_count": 161
        }
      ]
    },
    {
      "cell_type": "code",
      "metadata": {
        "colab": {
          "base_uri": "https://localhost:8080/"
        },
        "id": "cfqASnvKU7TL",
        "outputId": "841dcedc-18d0-4880-9c60-755e383486d3"
      },
      "source": [
        "# np.random.randint(low, high, size=(depending on which dimension matrix you want))\n",
        "random_array = np.random.randint(1, 7, size= (3, 3, 4))\n",
        "random_array"
      ],
      "execution_count": null,
      "outputs": [
        {
          "output_type": "execute_result",
          "data": {
            "text/plain": [
              "array([[[1, 2, 6, 2],\n",
              "        [6, 1, 2, 5],\n",
              "        [4, 1, 4, 6]],\n",
              "\n",
              "       [[1, 3, 4, 1],\n",
              "        [2, 4, 6, 4],\n",
              "        [4, 1, 2, 2]],\n",
              "\n",
              "       [[2, 1, 3, 5],\n",
              "        [4, 4, 3, 5],\n",
              "        [3, 1, 1, 5]]])"
            ]
          },
          "metadata": {
            "tags": []
          },
          "execution_count": 162
        }
      ]
    },
    {
      "cell_type": "code",
      "metadata": {
        "colab": {
          "base_uri": "https://localhost:8080/"
        },
        "id": "PCTrF0m_Vx3o",
        "outputId": "674ae96e-f481-4b97-aa40-a0b0fde1c6d5"
      },
      "source": [
        "# np.random.rand(size=(depending on which dimensional matrix you want))\n",
        "random_array_2 = np.random.rand(3, 5)\n",
        "random_array_2"
      ],
      "execution_count": null,
      "outputs": [
        {
          "output_type": "execute_result",
          "data": {
            "text/plain": [
              "array([[0.6176355 , 0.61209572, 0.616934  , 0.94374808, 0.6818203 ],\n",
              "       [0.3595079 , 0.43703195, 0.6976312 , 0.06022547, 0.66676672],\n",
              "       [0.67063787, 0.21038256, 0.1289263 , 0.31542835, 0.36371077]])"
            ]
          },
          "metadata": {
            "tags": []
          },
          "execution_count": 163
        }
      ]
    },
    {
      "cell_type": "markdown",
      "metadata": {
        "id": "9kyA-jaeMqxl"
      },
      "source": [
        "# Viewing Arrays and Matrices"
      ]
    },
    {
      "cell_type": "code",
      "metadata": {
        "colab": {
          "base_uri": "https://localhost:8080/"
        },
        "id": "6vQqZyZKPb1l",
        "outputId": "5609b489-bd3f-46c1-eb06-446692b94653"
      },
      "source": [
        "np.unique(random_array)"
      ],
      "execution_count": null,
      "outputs": [
        {
          "output_type": "execute_result",
          "data": {
            "text/plain": [
              "array([1, 2, 3, 4, 5, 6])"
            ]
          },
          "metadata": {
            "tags": []
          },
          "execution_count": 164
        }
      ]
    },
    {
      "cell_type": "code",
      "metadata": {
        "colab": {
          "base_uri": "https://localhost:8080/"
        },
        "id": "O4hlDYvkPk_m",
        "outputId": "5b4ba110-9259-45da-b142-88a1d539fe7e"
      },
      "source": [
        "a1[:2]"
      ],
      "execution_count": null,
      "outputs": [
        {
          "output_type": "execute_result",
          "data": {
            "text/plain": [
              "array([1, 2])"
            ]
          },
          "metadata": {
            "tags": []
          },
          "execution_count": 165
        }
      ]
    },
    {
      "cell_type": "code",
      "metadata": {
        "colab": {
          "base_uri": "https://localhost:8080/"
        },
        "id": "ig9GmUG8P3tM",
        "outputId": "1ddeefb6-770a-4241-e890-5e83ea7cafd8"
      },
      "source": [
        "a3[:2, :2, :2]"
      ],
      "execution_count": null,
      "outputs": [
        {
          "output_type": "execute_result",
          "data": {
            "text/plain": [
              "array([[[ 1,  2],\n",
              "        [ 4,  5]],\n",
              "\n",
              "       [[10, 11],\n",
              "        [13, 14]]])"
            ]
          },
          "metadata": {
            "tags": []
          },
          "execution_count": 166
        }
      ]
    },
    {
      "cell_type": "code",
      "metadata": {
        "colab": {
          "base_uri": "https://localhost:8080/"
        },
        "id": "Zen761MNSaR8",
        "outputId": "0665d269-e5a9-467c-af44-cf54e5528b1e"
      },
      "source": [
        "\n",
        "random_array[2, 1, 1]"
      ],
      "execution_count": null,
      "outputs": [
        {
          "output_type": "execute_result",
          "data": {
            "text/plain": [
              "4"
            ]
          },
          "metadata": {
            "tags": []
          },
          "execution_count": 167
        }
      ]
    },
    {
      "cell_type": "code",
      "metadata": {
        "colab": {
          "base_uri": "https://localhost:8080/"
        },
        "id": "Ahx4pVBkSgIy",
        "outputId": "fa486432-ae4e-474b-8f8b-a8c2bd7c6ac9"
      },
      "source": [
        "random_array[1, 2]"
      ],
      "execution_count": null,
      "outputs": [
        {
          "output_type": "execute_result",
          "data": {
            "text/plain": [
              "array([4, 1, 2, 2])"
            ]
          },
          "metadata": {
            "tags": []
          },
          "execution_count": 168
        }
      ]
    },
    {
      "cell_type": "code",
      "metadata": {
        "colab": {
          "base_uri": "https://localhost:8080/"
        },
        "id": "FPtGYGwXU50B",
        "outputId": "71ebb89f-d872-4faf-f743-ec384cf760a7"
      },
      "source": [
        "# Get the first 4 numbers of the inner most arrays\n",
        "random_array_3 = np.random.randint(0, 10, size = (2, 3, 4, 5))\n",
        "random_array_3"
      ],
      "execution_count": null,
      "outputs": [
        {
          "output_type": "execute_result",
          "data": {
            "text/plain": [
              "array([[[[9, 4, 4, 6, 4],\n",
              "         [4, 3, 4, 4, 8],\n",
              "         [4, 3, 7, 5, 5],\n",
              "         [0, 1, 5, 9, 3]],\n",
              "\n",
              "        [[0, 5, 0, 1, 2],\n",
              "         [4, 2, 0, 3, 2],\n",
              "         [0, 7, 5, 9, 0],\n",
              "         [2, 7, 2, 9, 2]],\n",
              "\n",
              "        [[3, 3, 2, 3, 4],\n",
              "         [1, 2, 9, 1, 4],\n",
              "         [6, 8, 2, 3, 0],\n",
              "         [0, 6, 0, 6, 3]]],\n",
              "\n",
              "\n",
              "       [[[3, 8, 8, 8, 2],\n",
              "         [3, 2, 0, 8, 8],\n",
              "         [3, 8, 2, 8, 4],\n",
              "         [3, 0, 4, 3, 6]],\n",
              "\n",
              "        [[9, 8, 0, 8, 5],\n",
              "         [9, 0, 9, 6, 5],\n",
              "         [3, 1, 8, 0, 4],\n",
              "         [9, 6, 5, 7, 8]],\n",
              "\n",
              "        [[8, 9, 2, 8, 6],\n",
              "         [6, 9, 1, 6, 8],\n",
              "         [8, 3, 2, 3, 6],\n",
              "         [3, 6, 5, 7, 0]]]])"
            ]
          },
          "metadata": {
            "tags": []
          },
          "execution_count": 169
        }
      ]
    },
    {
      "cell_type": "code",
      "metadata": {
        "colab": {
          "base_uri": "https://localhost:8080/"
        },
        "id": "wPbe2EeUXJ_J",
        "outputId": "26e5d3b5-399d-44e4-e464-38c366550727"
      },
      "source": [
        "# Get the first 4 numbers of the inner most arrays\n",
        "random_array_3[:, :, :, :4]"
      ],
      "execution_count": null,
      "outputs": [
        {
          "output_type": "execute_result",
          "data": {
            "text/plain": [
              "array([[[[9, 4, 4, 6],\n",
              "         [4, 3, 4, 4],\n",
              "         [4, 3, 7, 5],\n",
              "         [0, 1, 5, 9]],\n",
              "\n",
              "        [[0, 5, 0, 1],\n",
              "         [4, 2, 0, 3],\n",
              "         [0, 7, 5, 9],\n",
              "         [2, 7, 2, 9]],\n",
              "\n",
              "        [[3, 3, 2, 3],\n",
              "         [1, 2, 9, 1],\n",
              "         [6, 8, 2, 3],\n",
              "         [0, 6, 0, 6]]],\n",
              "\n",
              "\n",
              "       [[[3, 8, 8, 8],\n",
              "         [3, 2, 0, 8],\n",
              "         [3, 8, 2, 8],\n",
              "         [3, 0, 4, 3]],\n",
              "\n",
              "        [[9, 8, 0, 8],\n",
              "         [9, 0, 9, 6],\n",
              "         [3, 1, 8, 0],\n",
              "         [9, 6, 5, 7]],\n",
              "\n",
              "        [[8, 9, 2, 8],\n",
              "         [6, 9, 1, 6],\n",
              "         [8, 3, 2, 3],\n",
              "         [3, 6, 5, 7]]]])"
            ]
          },
          "metadata": {
            "tags": []
          },
          "execution_count": 170
        }
      ]
    },
    {
      "cell_type": "code",
      "metadata": {
        "colab": {
          "base_uri": "https://localhost:8080/"
        },
        "id": "EFGhrRn-XQ8Q",
        "outputId": "4dd8360f-ae37-4804-e9c3-795287f21ac5"
      },
      "source": [
        "random_array_3.ndim"
      ],
      "execution_count": null,
      "outputs": [
        {
          "output_type": "execute_result",
          "data": {
            "text/plain": [
              "4"
            ]
          },
          "metadata": {
            "tags": []
          },
          "execution_count": 171
        }
      ]
    },
    {
      "cell_type": "markdown",
      "metadata": {
        "id": "10CbuUBVedUH"
      },
      "source": [
        "# Manipulating Arrays"
      ]
    },
    {
      "cell_type": "markdown",
      "metadata": {
        "id": "rwYGu0dxmqNY"
      },
      "source": [
        "### Arithmetic"
      ]
    },
    {
      "cell_type": "code",
      "metadata": {
        "id": "82C9CiT8dVZ7",
        "colab": {
          "base_uri": "https://localhost:8080/"
        },
        "outputId": "4850f594-a716-46c0-a3af-07246145e9f7"
      },
      "source": [
        "a1 * a2"
      ],
      "execution_count": null,
      "outputs": [
        {
          "output_type": "execute_result",
          "data": {
            "text/plain": [
              "array([[ 1,  4,  9],\n",
              "       [ 4, 10, 18]])"
            ]
          },
          "metadata": {
            "tags": []
          },
          "execution_count": 172
        }
      ]
    },
    {
      "cell_type": "code",
      "metadata": {
        "colab": {
          "base_uri": "https://localhost:8080/"
        },
        "id": "uIe7UL_0UBuV",
        "outputId": "f10454e0-634c-4a3a-a092-18fbf6b0e09c"
      },
      "source": [
        "a2 % 2"
      ],
      "execution_count": null,
      "outputs": [
        {
          "output_type": "execute_result",
          "data": {
            "text/plain": [
              "array([[1, 0, 1],\n",
              "       [0, 1, 0]])"
            ]
          },
          "metadata": {
            "tags": []
          },
          "execution_count": 173
        }
      ]
    },
    {
      "cell_type": "code",
      "metadata": {
        "colab": {
          "base_uri": "https://localhost:8080/"
        },
        "id": "hbSw62V-UGjP",
        "outputId": "b4288403-7817-40f4-ffe7-9d1b954fb8bd"
      },
      "source": [
        "a2 // 2"
      ],
      "execution_count": null,
      "outputs": [
        {
          "output_type": "execute_result",
          "data": {
            "text/plain": [
              "array([[0, 1, 1],\n",
              "       [2, 2, 3]])"
            ]
          },
          "metadata": {
            "tags": []
          },
          "execution_count": 174
        }
      ]
    },
    {
      "cell_type": "code",
      "metadata": {
        "colab": {
          "base_uri": "https://localhost:8080/"
        },
        "id": "TaXysc0-UK4m",
        "outputId": "0991d8ea-6d4f-4435-cb7b-e8f88c44a131"
      },
      "source": [
        "np.square(a2)"
      ],
      "execution_count": null,
      "outputs": [
        {
          "output_type": "execute_result",
          "data": {
            "text/plain": [
              "array([[ 1,  4,  9],\n",
              "       [16, 25, 36]])"
            ]
          },
          "metadata": {
            "tags": []
          },
          "execution_count": 175
        }
      ]
    },
    {
      "cell_type": "code",
      "metadata": {
        "colab": {
          "base_uri": "https://localhost:8080/"
        },
        "id": "Okl9BVBiUv9P",
        "outputId": "2eea7e94-7579-4cb9-891e-0b16cb53f07e"
      },
      "source": [
        "np.log(a1)"
      ],
      "execution_count": null,
      "outputs": [
        {
          "output_type": "execute_result",
          "data": {
            "text/plain": [
              "array([0.        , 0.69314718, 1.09861229])"
            ]
          },
          "metadata": {
            "tags": []
          },
          "execution_count": 176
        }
      ]
    },
    {
      "cell_type": "code",
      "metadata": {
        "colab": {
          "base_uri": "https://localhost:8080/"
        },
        "id": "KsLUsj_yZs61",
        "outputId": "9251d758-d09d-4268-9f7f-8be511763ec7"
      },
      "source": [
        "np.exp(a1)"
      ],
      "execution_count": null,
      "outputs": [
        {
          "output_type": "execute_result",
          "data": {
            "text/plain": [
              "array([ 2.71828183,  7.3890561 , 20.08553692])"
            ]
          },
          "metadata": {
            "tags": []
          },
          "execution_count": 177
        }
      ]
    },
    {
      "cell_type": "markdown",
      "metadata": {
        "id": "EVCHcRDtZwI7"
      },
      "source": [
        "### Aggregation"
      ]
    },
    {
      "cell_type": "markdown",
      "metadata": {
        "id": "O3a-auCsgkmE"
      },
      "source": [
        "**Aggregation = Performing The Same Operation On A Number of Things**"
      ]
    },
    {
      "cell_type": "markdown",
      "metadata": {
        "id": "HKTTxaZmhRHR"
      },
      "source": [
        "Use Python's methods (`sum()`) on Pyhton datatypes and use NumPy's methods on NumPy arrays (`np.sum()`)"
      ]
    },
    {
      "cell_type": "code",
      "metadata": {
        "id": "zNbB-eu3Zu1a",
        "colab": {
          "base_uri": "https://localhost:8080/"
        },
        "outputId": "10115cf2-0e02-45dd-8b72-f4000c515076"
      },
      "source": [
        "listy_list = [1, 2, 3]\n",
        "sum(listy_list) # Use Python's Methods On Python Datatypes\n"
      ],
      "execution_count": null,
      "outputs": [
        {
          "output_type": "execute_result",
          "data": {
            "text/plain": [
              "6"
            ]
          },
          "metadata": {
            "tags": []
          },
          "execution_count": 178
        }
      ]
    },
    {
      "cell_type": "code",
      "metadata": {
        "colab": {
          "base_uri": "https://localhost:8080/"
        },
        "id": "cC3z6ypIO0on",
        "outputId": "c930a965-2277-4cf8-8f69-1e7df1d83571"
      },
      "source": [
        "np.sum(a1) # Use NumPy Method on NumPy Array"
      ],
      "execution_count": null,
      "outputs": [
        {
          "output_type": "execute_result",
          "data": {
            "text/plain": [
              "6"
            ]
          },
          "metadata": {
            "tags": []
          },
          "execution_count": 179
        }
      ]
    },
    {
      "cell_type": "code",
      "metadata": {
        "colab": {
          "base_uri": "https://localhost:8080/"
        },
        "id": "1jkrmst4QEOh",
        "outputId": "49140303-0eaa-476c-e873-127a45bee958"
      },
      "source": [
        "# Creating A Massive Array\n",
        "\n",
        "massive_array = np.random.random(100000)\n",
        "massive_array.size"
      ],
      "execution_count": null,
      "outputs": [
        {
          "output_type": "execute_result",
          "data": {
            "text/plain": [
              "100000"
            ]
          },
          "metadata": {
            "tags": []
          },
          "execution_count": 180
        }
      ]
    },
    {
      "cell_type": "code",
      "metadata": {
        "colab": {
          "base_uri": "https://localhost:8080/"
        },
        "id": "_Gx9UbQvQNlu",
        "outputId": "4e549f4d-7de8-4816-aad7-ace32a511f07"
      },
      "source": [
        "massive_array[:10]"
      ],
      "execution_count": null,
      "outputs": [
        {
          "output_type": "execute_result",
          "data": {
            "text/plain": [
              "array([0.09956909, 0.35231166, 0.46924917, 0.84114013, 0.90464774,\n",
              "       0.03755938, 0.50831545, 0.16684751, 0.77905102, 0.8649333 ])"
            ]
          },
          "metadata": {
            "tags": []
          },
          "execution_count": 181
        }
      ]
    },
    {
      "cell_type": "code",
      "metadata": {
        "colab": {
          "base_uri": "https://localhost:8080/"
        },
        "id": "HDFq5LrTQP5E",
        "outputId": "6d0d5c27-90a8-4522-dc94-8b1fbb8a6cb3"
      },
      "source": [
        "%timeit sum(massive_array) #Python's Sum\n",
        "%timeit np.sum(massive_array) #NumPy's Method "
      ],
      "execution_count": null,
      "outputs": [
        {
          "output_type": "stream",
          "text": [
            "100 loops, best of 5: 17.5 ms per loop\n",
            "The slowest run took 14.60 times longer than the fastest. This could mean that an intermediate result is being cached.\n",
            "10000 loops, best of 5: 40.1 µs per loop\n"
          ],
          "name": "stdout"
        }
      ]
    },
    {
      "cell_type": "markdown",
      "metadata": {
        "id": "wzw62zjeaPMX"
      },
      "source": [
        "# Standard Deviation and Variance"
      ]
    },
    {
      "cell_type": "code",
      "metadata": {
        "id": "Tjk8G6aJQvNs"
      },
      "source": [
        "high_var_array = np.array([1, 100, 200, 300, 4000, 5000])\n",
        "low_var_array = np.array([2, 4, 6, 8, 10])\n"
      ],
      "execution_count": null,
      "outputs": []
    },
    {
      "cell_type": "code",
      "metadata": {
        "colab": {
          "base_uri": "https://localhost:8080/"
        },
        "id": "KSwhmEradDbD",
        "outputId": "0deba631-26a2-4a0c-cccf-c423fbb0a0b1"
      },
      "source": [
        "np.var(high_var_array), np.var(low_var_array)"
      ],
      "execution_count": null,
      "outputs": [
        {
          "output_type": "execute_result",
          "data": {
            "text/plain": [
              "(4296133.472222221, 8.0)"
            ]
          },
          "metadata": {
            "tags": []
          },
          "execution_count": 184
        }
      ]
    },
    {
      "cell_type": "code",
      "metadata": {
        "colab": {
          "base_uri": "https://localhost:8080/"
        },
        "id": "wTQmjZ7MdLzh",
        "outputId": "78afaa38-0450-467f-fdd0-6725bebcf319"
      },
      "source": [
        "np.std(high_var_array), np.std(low_var_array)"
      ],
      "execution_count": null,
      "outputs": [
        {
          "output_type": "execute_result",
          "data": {
            "text/plain": [
              "(2072.711623024829, 2.8284271247461903)"
            ]
          },
          "metadata": {
            "tags": []
          },
          "execution_count": 185
        }
      ]
    },
    {
      "cell_type": "markdown",
      "metadata": {
        "id": "oDkJS4rOddQf"
      },
      "source": [
        "Square Root of \"Variance\" is the \"Standard Deviation\" as you can see in this block"
      ]
    },
    {
      "cell_type": "code",
      "metadata": {
        "colab": {
          "base_uri": "https://localhost:8080/"
        },
        "id": "9U1ySE3bdSGc",
        "outputId": "6f68b38b-ed5e-47af-c063-74dac989dd2a"
      },
      "source": [
        "np.sqrt(np.var(high_var_array))"
      ],
      "execution_count": null,
      "outputs": [
        {
          "output_type": "execute_result",
          "data": {
            "text/plain": [
              "2072.711623024829"
            ]
          },
          "metadata": {
            "tags": []
          },
          "execution_count": 186
        }
      ]
    },
    {
      "cell_type": "code",
      "metadata": {
        "colab": {
          "base_uri": "https://localhost:8080/"
        },
        "id": "aRQrBP6YdaHS",
        "outputId": "15351d35-c0dc-4443-b408-f70ef062fa7c"
      },
      "source": [
        "np.mean(high_var_array), np.mean(low_var_array)"
      ],
      "execution_count": null,
      "outputs": [
        {
          "output_type": "execute_result",
          "data": {
            "text/plain": [
              "(1600.1666666666667, 6.0)"
            ]
          },
          "metadata": {
            "tags": []
          },
          "execution_count": 187
        }
      ]
    },
    {
      "cell_type": "code",
      "metadata": {
        "colab": {
          "base_uri": "https://localhost:8080/"
        },
        "id": "4VzxD7ofeNhW",
        "outputId": "746fc4f3-028a-4489-bfd9-5df1ab06a629"
      },
      "source": [
        "%matplotlib inline\n",
        "import matplotlib.pyplot as plt\n",
        "plt.hist(high_var_array)\n",
        "plt.show()\n"
      ],
      "execution_count": null,
      "outputs": [
        {
          "output_type": "display_data",
          "data": {
            "image/png": "[encoded data removed]",
            "text/plain": [
              "<Figure size 432x288 with 1 Axes>"
            ]
          },
          "metadata": {
            "tags": [],
            "needs_background": "light"
          }
        }
      ]
    },
    {
      "cell_type": "code",
      "metadata": {
        "colab": {
          "base_uri": "https://localhost:8080/"
        },
        "id": "CuviycrHedDn",
        "outputId": "0e51b4f8-f985-4475-d522-cff06a633ab0"
      },
      "source": [
        "plt.hist(low_var_array)\n",
        "plt.show()"
      ],
      "execution_count": null,
      "outputs": [
        {
          "output_type": "display_data",
          "data": {
            "image/png": "[encoded data removed]",
            "text/plain": [
              "<Figure size 432x288 with 1 Axes>"
            ]
          },
          "metadata": {
            "tags": [],
            "needs_background": "light"
          }
        }
      ]
    },
    {
      "cell_type": "markdown",
      "metadata": {
        "id": "-AsgBAtFp2of"
      },
      "source": [
        "# Reshaping & Transposing"
      ]
    },
    {
      "cell_type": "markdown",
      "metadata": {
        "id": "ImCVCxzOSSlw"
      },
      "source": [
        "To help broadcasting in NumPy we are going to reshape our 2D array into 3D array"
      ]
    },
    {
      "cell_type": "code",
      "metadata": {
        "id": "u8VUIoYWerN6"
      },
      "source": [
        "a2_reshaped = a2.reshape(2, 3, 1)"
      ],
      "execution_count": null,
      "outputs": []
    },
    {
      "cell_type": "code",
      "metadata": {
        "colab": {
          "base_uri": "https://localhost:8080/"
        },
        "id": "avpVbj54Smu9",
        "outputId": "a75b715e-ec9f-46b0-ec20-1a9b087121ea"
      },
      "source": [
        "a2_reshaped"
      ],
      "execution_count": null,
      "outputs": [
        {
          "output_type": "execute_result",
          "data": {
            "text/plain": [
              "array([[[1],\n",
              "        [2],\n",
              "        [3]],\n",
              "\n",
              "       [[4],\n",
              "        [5],\n",
              "        [6]]])"
            ]
          },
          "metadata": {
            "tags": []
          },
          "execution_count": 191
        }
      ]
    },
    {
      "cell_type": "code",
      "metadata": {
        "colab": {
          "base_uri": "https://localhost:8080/"
        },
        "id": "HfMaI8MlTExa",
        "outputId": "fbcd02c1-9b1f-4ac7-cb76-7770c3ffaebf"
      },
      "source": [
        "a2_reshaped * a3"
      ],
      "execution_count": null,
      "outputs": [
        {
          "output_type": "execute_result",
          "data": {
            "text/plain": [
              "array([[[  1,   2,   3],\n",
              "        [  8,  10,  12],\n",
              "        [ 21,  24,  27]],\n",
              "\n",
              "       [[ 40,  44,  48],\n",
              "        [ 65,  70,  75],\n",
              "        [102, 108, 114]]])"
            ]
          },
          "metadata": {
            "tags": []
          },
          "execution_count": 192
        }
      ]
    },
    {
      "cell_type": "markdown",
      "metadata": {
        "id": "-JehkXGzVlqJ"
      },
      "source": [
        "# Dot Product vs Element Wise"
      ]
    },
    {
      "cell_type": "code",
      "metadata": {
        "id": "0vA49i7RTHuj"
      },
      "source": [
        "mat1 = np.random.randint(10, size = (5,3))\n",
        "mat2 = np.random.randint(10, size = (5,3))"
      ],
      "execution_count": null,
      "outputs": []
    },
    {
      "cell_type": "code",
      "metadata": {
        "colab": {
          "base_uri": "https://localhost:8080/"
        },
        "id": "OiufI6fnVZl7",
        "outputId": "4caa4cf5-20d5-44f0-8fab-4513de1665fe"
      },
      "source": [
        "mat1"
      ],
      "execution_count": null,
      "outputs": [
        {
          "output_type": "execute_result",
          "data": {
            "text/plain": [
              "array([[7, 3, 0],\n",
              "       [5, 0, 1],\n",
              "       [9, 3, 8],\n",
              "       [7, 3, 0],\n",
              "       [0, 3, 3]])"
            ]
          },
          "metadata": {
            "tags": []
          },
          "execution_count": 194
        }
      ]
    },
    {
      "cell_type": "code",
      "metadata": {
        "colab": {
          "base_uri": "https://localhost:8080/"
        },
        "id": "D0sx5XtSVcIv",
        "outputId": "f7d16a7a-8405-4ef6-a3e4-c4d4da9b0add"
      },
      "source": [
        "mat2"
      ],
      "execution_count": null,
      "outputs": [
        {
          "output_type": "execute_result",
          "data": {
            "text/plain": [
              "array([[4, 7, 0],\n",
              "       [0, 1, 9],\n",
              "       [1, 3, 9],\n",
              "       [5, 7, 8],\n",
              "       [5, 3, 0]])"
            ]
          },
          "metadata": {
            "tags": []
          },
          "execution_count": 195
        }
      ]
    },
    {
      "cell_type": "markdown",
      "metadata": {
        "id": "UG6ASw6OVQQf"
      },
      "source": [
        "### Element Wise Multiplication (Hadamard Product)"
      ]
    },
    {
      "cell_type": "code",
      "metadata": {
        "colab": {
          "base_uri": "https://localhost:8080/"
        },
        "id": "0o5O93s2Ux-J",
        "outputId": "33d800ff-af55-44c6-e9bd-4510d080b7c1"
      },
      "source": [
        "mat1 * mat2"
      ],
      "execution_count": null,
      "outputs": [
        {
          "output_type": "execute_result",
          "data": {
            "text/plain": [
              "array([[28, 21,  0],\n",
              "       [ 0,  0,  9],\n",
              "       [ 9,  9, 72],\n",
              "       [35, 21,  0],\n",
              "       [ 0,  9,  0]])"
            ]
          },
          "metadata": {
            "tags": []
          },
          "execution_count": 196
        }
      ]
    },
    {
      "cell_type": "markdown",
      "metadata": {
        "id": "U43-MWCqVeh0"
      },
      "source": [
        "### Dot Product"
      ]
    },
    {
      "cell_type": "markdown",
      "metadata": {
        "id": "va3nxoLFVinl"
      },
      "source": [
        "For this multiplication to take place this is the rule (mat1's column number = mat2' row number). If not we will convert it using Transpose. "
      ]
    },
    {
      "cell_type": "markdown",
      "metadata": {
        "id": "2YFEbWdVV5yl"
      },
      "source": [
        "In our case mat2 is 5x3 so Transposing it will give us 3x5. mat1 is 5x3, mat2.T(Transpose) is 3x5 so the DOT multiplication is possible."
      ]
    },
    {
      "cell_type": "code",
      "metadata": {
        "colab": {
          "base_uri": "https://localhost:8080/"
        },
        "id": "cCXKxvyaVYMl",
        "outputId": "e77a6ebb-cdf6-4580-a072-1ad66f2e8273"
      },
      "source": [
        "np.dot(mat1, mat2.T)"
      ],
      "execution_count": null,
      "outputs": [
        {
          "output_type": "execute_result",
          "data": {
            "text/plain": [
              "array([[ 49,   3,  16,  56,  44],\n",
              "       [ 20,   9,  14,  33,  25],\n",
              "       [ 57,  75,  90, 130,  54],\n",
              "       [ 49,   3,  16,  56,  44],\n",
              "       [ 21,  30,  36,  45,   9]])"
            ]
          },
          "metadata": {
            "tags": []
          },
          "execution_count": 197
        }
      ]
    },
    {
      "cell_type": "markdown",
      "metadata": {
        "id": "3NUbU2PhWSJD"
      },
      "source": [
        "# Exercise: Nut Butter Store Sales"
      ]
    },
    {
      "cell_type": "code",
      "metadata": {
        "colab": {
          "base_uri": "https://localhost:8080/"
        },
        "id": "qV_d92GTWP-a",
        "outputId": "43d084fd-3862-44cd-afde-a092583a1beb"
      },
      "source": [
        "np.random.seed(0)\n",
        "#Number of Jars Sold\n",
        "sales_amounts = np.random.randint(20, size=(5,3))\n",
        "sales_amounts"
      ],
      "execution_count": null,
      "outputs": [
        {
          "output_type": "execute_result",
          "data": {
            "text/plain": [
              "array([[12, 15,  0],\n",
              "       [ 3,  3,  7],\n",
              "       [ 9, 19, 18],\n",
              "       [ 4,  6, 12],\n",
              "       [ 1,  6,  7]])"
            ]
          },
          "metadata": {
            "tags": []
          },
          "execution_count": 198
        }
      ]
    },
    {
      "cell_type": "code",
      "metadata": {
        "colab": {
          "base_uri": "https://localhost:8080/",
          "height": 204
        },
        "id": "huRxAR_fYC6u",
        "outputId": "968959d3-964d-4532-c9ba-8900750f3bf0"
      },
      "source": [
        "#Create weekly_sales DataFrame\n",
        "weekly_sales = pd.DataFrame(sales_amounts, \n",
        "                            index = [\"Mon\", \"Tues\", \"Wed\", \"Thurs\", \"Fri\"], \n",
        "                            columns = [\"Almond Butter\", \"Peanut Butter\", \"Cashew Butter\"])\n",
        "weekly_sales"
      ],
      "execution_count": null,
      "outputs": [
        {
          "output_type": "execute_result",
          "data": {
            "text/html": [
              "<div>\n",
              "<style scoped>\n",
              "    .dataframe tbody tr th:only-of-type {\n",
              "        vertical-align: middle;\n",
              "    }\n",
              "\n",
              "    .dataframe tbody tr th {\n",
              "        vertical-align: top;\n",
              "    }\n",
              "\n",
              "    .dataframe thead th {\n",
              "        text-align: right;\n",
              "    }\n",
              "</style>\n",
              "<table border=\"1\" class=\"dataframe\">\n",
              "  <thead>\n",
              "    <tr style=\"text-align: right;\">\n",
              "      <th></th>\n",
              "      <th>Almond Butter</th>\n",
              "      <th>Peanut Butter</th>\n",
              "      <th>Cashew Butter</th>\n",
              "    </tr>\n",
              "  </thead>\n",
              "  <tbody>\n",
              "    <tr>\n",
              "      <th>Mon</th>\n",
              "      <td>12</td>\n",
              "      <td>15</td>\n",
              "      <td>0</td>\n",
              "    </tr>\n",
              "    <tr>\n",
              "      <th>Tues</th>\n",
              "      <td>3</td>\n",
              "      <td>3</td>\n",
              "      <td>7</td>\n",
              "    </tr>\n",
              "    <tr>\n",
              "      <th>Wed</th>\n",
              "      <td>9</td>\n",
              "      <td>19</td>\n",
              "      <td>18</td>\n",
              "    </tr>\n",
              "    <tr>\n",
              "      <th>Thurs</th>\n",
              "      <td>4</td>\n",
              "      <td>6</td>\n",
              "      <td>12</td>\n",
              "    </tr>\n",
              "    <tr>\n",
              "      <th>Fri</th>\n",
              "      <td>1</td>\n",
              "      <td>6</td>\n",
              "      <td>7</td>\n",
              "    </tr>\n",
              "  </tbody>\n",
              "</table>\n",
              "</div>"
            ],
            "text/plain": [
              "       Almond Butter  Peanut Butter  Cashew Butter\n",
              "Mon               12             15              0\n",
              "Tues               3              3              7\n",
              "Wed                9             19             18\n",
              "Thurs              4              6             12\n",
              "Fri                1              6              7"
            ]
          },
          "metadata": {
            "tags": []
          },
          "execution_count": 199
        }
      ]
    },
    {
      "cell_type": "code",
      "metadata": {
        "colab": {
          "base_uri": "https://localhost:8080/"
        },
        "id": "Jj3wyWu9YuG9",
        "outputId": "13de171a-b393-4568-a388-3d03eb2d5531"
      },
      "source": [
        "#Create prices array\n",
        "prices = np.array([10, 8, 12])\n",
        "prices"
      ],
      "execution_count": null,
      "outputs": [
        {
          "output_type": "execute_result",
          "data": {
            "text/plain": [
              "array([10,  8, 12])"
            ]
          },
          "metadata": {
            "tags": []
          },
          "execution_count": 200
        }
      ]
    },
    {
      "cell_type": "code",
      "metadata": {
        "colab": {
          "base_uri": "https://localhost:8080/"
        },
        "id": "GfJBZ7OBZ8bv",
        "outputId": "6bb225d2-6643-4606-d5c5-7520cca391c8"
      },
      "source": [
        "prices.shape"
      ],
      "execution_count": null,
      "outputs": [
        {
          "output_type": "execute_result",
          "data": {
            "text/plain": [
              "(3,)"
            ]
          },
          "metadata": {
            "tags": []
          },
          "execution_count": 201
        }
      ]
    },
    {
      "cell_type": "code",
      "metadata": {
        "colab": {
          "base_uri": "https://localhost:8080/",
          "height": 80
        },
        "id": "EOkpmkhVZONM",
        "outputId": "1a673d51-53df-4cca-caec-deef4f9a8e45"
      },
      "source": [
        "#Create butter_prices DataFrame\n",
        "butter_prices = pd.DataFrame(prices.reshape(1, 3),\n",
        "                             index=[\"Price\"],\n",
        "                             columns=[\"Almond Butter\", \"Peanut Butter\", \"Cashew Butter\"])\n",
        "butter_prices"
      ],
      "execution_count": null,
      "outputs": [
        {
          "output_type": "execute_result",
          "data": {
            "text/html": [
              "<div>\n",
              "<style scoped>\n",
              "    .dataframe tbody tr th:only-of-type {\n",
              "        vertical-align: middle;\n",
              "    }\n",
              "\n",
              "    .dataframe tbody tr th {\n",
              "        vertical-align: top;\n",
              "    }\n",
              "\n",
              "    .dataframe thead th {\n",
              "        text-align: right;\n",
              "    }\n",
              "</style>\n",
              "<table border=\"1\" class=\"dataframe\">\n",
              "  <thead>\n",
              "    <tr style=\"text-align: right;\">\n",
              "      <th></th>\n",
              "      <th>Almond Butter</th>\n",
              "      <th>Peanut Butter</th>\n",
              "      <th>Cashew Butter</th>\n",
              "    </tr>\n",
              "  </thead>\n",
              "  <tbody>\n",
              "    <tr>\n",
              "      <th>Price</th>\n",
              "      <td>10</td>\n",
              "      <td>8</td>\n",
              "      <td>12</td>\n",
              "    </tr>\n",
              "  </tbody>\n",
              "</table>\n",
              "</div>"
            ],
            "text/plain": [
              "       Almond Butter  Peanut Butter  Cashew Butter\n",
              "Price             10              8             12"
            ]
          },
          "metadata": {
            "tags": []
          },
          "execution_count": 202
        }
      ]
    },
    {
      "cell_type": "code",
      "metadata": {
        "id": "D-88p0EqZgi-"
      },
      "source": [
        "# total_sales = prices.dot(sales_amount)\n",
        "# Doesn't work, have to Transpose one of them"
      ],
      "execution_count": null,
      "outputs": []
    },
    {
      "cell_type": "code",
      "metadata": {
        "colab": {
          "base_uri": "https://localhost:8080/"
        },
        "id": "LkfKLFfraWkL",
        "outputId": "d5ed5b13-a081-4489-9aca-50b957a7d303"
      },
      "source": [
        "#shapes aren't aligned, let's transpose\n",
        "#total_sales = np.dot(prices, sales_amounts.T)\n",
        "total_sales = prices.dot(sales_amounts.T)\n",
        "total_sales"
      ],
      "execution_count": null,
      "outputs": [
        {
          "output_type": "execute_result",
          "data": {
            "text/plain": [
              "array([240, 138, 458, 232, 142])"
            ]
          },
          "metadata": {
            "tags": []
          },
          "execution_count": 204
        }
      ]
    },
    {
      "cell_type": "code",
      "metadata": {
        "colab": {
          "base_uri": "https://localhost:8080/",
          "height": 80
        },
        "id": "xkfuVJIwamyt",
        "outputId": "24d2ef01-e197-4d26-b23e-48deead3f573"
      },
      "source": [
        "# Create Daily Sales\n",
        "butter_prices"
      ],
      "execution_count": null,
      "outputs": [
        {
          "output_type": "execute_result",
          "data": {
            "text/html": [
              "<div>\n",
              "<style scoped>\n",
              "    .dataframe tbody tr th:only-of-type {\n",
              "        vertical-align: middle;\n",
              "    }\n",
              "\n",
              "    .dataframe tbody tr th {\n",
              "        vertical-align: top;\n",
              "    }\n",
              "\n",
              "    .dataframe thead th {\n",
              "        text-align: right;\n",
              "    }\n",
              "</style>\n",
              "<table border=\"1\" class=\"dataframe\">\n",
              "  <thead>\n",
              "    <tr style=\"text-align: right;\">\n",
              "      <th></th>\n",
              "      <th>Almond Butter</th>\n",
              "      <th>Peanut Butter</th>\n",
              "      <th>Cashew Butter</th>\n",
              "    </tr>\n",
              "  </thead>\n",
              "  <tbody>\n",
              "    <tr>\n",
              "      <th>Price</th>\n",
              "      <td>10</td>\n",
              "      <td>8</td>\n",
              "      <td>12</td>\n",
              "    </tr>\n",
              "  </tbody>\n",
              "</table>\n",
              "</div>"
            ],
            "text/plain": [
              "       Almond Butter  Peanut Butter  Cashew Butter\n",
              "Price             10              8             12"
            ]
          },
          "metadata": {
            "tags": []
          },
          "execution_count": 205
        }
      ]
    },
    {
      "cell_type": "code",
      "metadata": {
        "colab": {
          "base_uri": "https://localhost:8080/",
          "height": 204
        },
        "id": "jR392nTcbXHW",
        "outputId": "3d5f8754-2cab-440e-b763-0a505926624c"
      },
      "source": [
        "weekly_sales"
      ],
      "execution_count": null,
      "outputs": [
        {
          "output_type": "execute_result",
          "data": {
            "text/html": [
              "<div>\n",
              "<style scoped>\n",
              "    .dataframe tbody tr th:only-of-type {\n",
              "        vertical-align: middle;\n",
              "    }\n",
              "\n",
              "    .dataframe tbody tr th {\n",
              "        vertical-align: top;\n",
              "    }\n",
              "\n",
              "    .dataframe thead th {\n",
              "        text-align: right;\n",
              "    }\n",
              "</style>\n",
              "<table border=\"1\" class=\"dataframe\">\n",
              "  <thead>\n",
              "    <tr style=\"text-align: right;\">\n",
              "      <th></th>\n",
              "      <th>Almond Butter</th>\n",
              "      <th>Peanut Butter</th>\n",
              "      <th>Cashew Butter</th>\n",
              "    </tr>\n",
              "  </thead>\n",
              "  <tbody>\n",
              "    <tr>\n",
              "      <th>Mon</th>\n",
              "      <td>12</td>\n",
              "      <td>15</td>\n",
              "      <td>0</td>\n",
              "    </tr>\n",
              "    <tr>\n",
              "      <th>Tues</th>\n",
              "      <td>3</td>\n",
              "      <td>3</td>\n",
              "      <td>7</td>\n",
              "    </tr>\n",
              "    <tr>\n",
              "      <th>Wed</th>\n",
              "      <td>9</td>\n",
              "      <td>19</td>\n",
              "      <td>18</td>\n",
              "    </tr>\n",
              "    <tr>\n",
              "      <th>Thurs</th>\n",
              "      <td>4</td>\n",
              "      <td>6</td>\n",
              "      <td>12</td>\n",
              "    </tr>\n",
              "    <tr>\n",
              "      <th>Fri</th>\n",
              "      <td>1</td>\n",
              "      <td>6</td>\n",
              "      <td>7</td>\n",
              "    </tr>\n",
              "  </tbody>\n",
              "</table>\n",
              "</div>"
            ],
            "text/plain": [
              "       Almond Butter  Peanut Butter  Cashew Butter\n",
              "Mon               12             15              0\n",
              "Tues               3              3              7\n",
              "Wed                9             19             18\n",
              "Thurs              4              6             12\n",
              "Fri                1              6              7"
            ]
          },
          "metadata": {
            "tags": []
          },
          "execution_count": 206
        }
      ]
    },
    {
      "cell_type": "code",
      "metadata": {
        "colab": {
          "base_uri": "https://localhost:8080/",
          "height": 142
        },
        "id": "aGf5twvrbY1N",
        "outputId": "40bd1fd0-1433-48eb-9f86-9486db412194"
      },
      "source": [
        "weekly_sales.T "
      ],
      "execution_count": null,
      "outputs": [
        {
          "output_type": "execute_result",
          "data": {
            "text/html": [
              "<div>\n",
              "<style scoped>\n",
              "    .dataframe tbody tr th:only-of-type {\n",
              "        vertical-align: middle;\n",
              "    }\n",
              "\n",
              "    .dataframe tbody tr th {\n",
              "        vertical-align: top;\n",
              "    }\n",
              "\n",
              "    .dataframe thead th {\n",
              "        text-align: right;\n",
              "    }\n",
              "</style>\n",
              "<table border=\"1\" class=\"dataframe\">\n",
              "  <thead>\n",
              "    <tr style=\"text-align: right;\">\n",
              "      <th></th>\n",
              "      <th>Mon</th>\n",
              "      <th>Tues</th>\n",
              "      <th>Wed</th>\n",
              "      <th>Thurs</th>\n",
              "      <th>Fri</th>\n",
              "    </tr>\n",
              "  </thead>\n",
              "  <tbody>\n",
              "    <tr>\n",
              "      <th>Almond Butter</th>\n",
              "      <td>12</td>\n",
              "      <td>3</td>\n",
              "      <td>9</td>\n",
              "      <td>4</td>\n",
              "      <td>1</td>\n",
              "    </tr>\n",
              "    <tr>\n",
              "      <th>Peanut Butter</th>\n",
              "      <td>15</td>\n",
              "      <td>3</td>\n",
              "      <td>19</td>\n",
              "      <td>6</td>\n",
              "      <td>6</td>\n",
              "    </tr>\n",
              "    <tr>\n",
              "      <th>Cashew Butter</th>\n",
              "      <td>0</td>\n",
              "      <td>7</td>\n",
              "      <td>18</td>\n",
              "      <td>12</td>\n",
              "      <td>7</td>\n",
              "    </tr>\n",
              "  </tbody>\n",
              "</table>\n",
              "</div>"
            ],
            "text/plain": [
              "               Mon  Tues  Wed  Thurs  Fri\n",
              "Almond Butter   12     3    9      4    1\n",
              "Peanut Butter   15     3   19      6    6\n",
              "Cashew Butter    0     7   18     12    7"
            ]
          },
          "metadata": {
            "tags": []
          },
          "execution_count": 207
        }
      ]
    },
    {
      "cell_type": "code",
      "metadata": {
        "colab": {
          "base_uri": "https://localhost:8080/",
          "height": 80
        },
        "id": "sfFzx6-qbiz3",
        "outputId": "f8d306a0-85c7-4cd0-a60f-66d854cc5e38"
      },
      "source": [
        "daily_sales = butter_prices.dot(weekly_sales.T)\n",
        "daily_sales"
      ],
      "execution_count": null,
      "outputs": [
        {
          "output_type": "execute_result",
          "data": {
            "text/html": [
              "<div>\n",
              "<style scoped>\n",
              "    .dataframe tbody tr th:only-of-type {\n",
              "        vertical-align: middle;\n",
              "    }\n",
              "\n",
              "    .dataframe tbody tr th {\n",
              "        vertical-align: top;\n",
              "    }\n",
              "\n",
              "    .dataframe thead th {\n",
              "        text-align: right;\n",
              "    }\n",
              "</style>\n",
              "<table border=\"1\" class=\"dataframe\">\n",
              "  <thead>\n",
              "    <tr style=\"text-align: right;\">\n",
              "      <th></th>\n",
              "      <th>Mon</th>\n",
              "      <th>Tues</th>\n",
              "      <th>Wed</th>\n",
              "      <th>Thurs</th>\n",
              "      <th>Fri</th>\n",
              "    </tr>\n",
              "  </thead>\n",
              "  <tbody>\n",
              "    <tr>\n",
              "      <th>Price</th>\n",
              "      <td>240</td>\n",
              "      <td>138</td>\n",
              "      <td>458</td>\n",
              "      <td>232</td>\n",
              "      <td>142</td>\n",
              "    </tr>\n",
              "  </tbody>\n",
              "</table>\n",
              "</div>"
            ],
            "text/plain": [
              "       Mon  Tues  Wed  Thurs  Fri\n",
              "Price  240   138  458    232  142"
            ]
          },
          "metadata": {
            "tags": []
          },
          "execution_count": 208
        }
      ]
    },
    {
      "cell_type": "code",
      "metadata": {
        "id": "6lHqOPs7QGWP"
      },
      "source": [
        "#weekly_sales[\"Total ($)\"] = daily_sales\n",
        "#This doesn't work because weekly_sales is 5x1 and daily_sales is 1x5"
      ],
      "execution_count": null,
      "outputs": []
    },
    {
      "cell_type": "code",
      "metadata": {
        "colab": {
          "base_uri": "https://localhost:8080/",
          "height": 204
        },
        "id": "Zj-OECjIQNKR",
        "outputId": "bbcfb502-9d3e-4381-b4c6-510be31627b4"
      },
      "source": [
        "weekly_sales[\"Total ($)\"] = daily_sales.T \n",
        "weekly_sales"
      ],
      "execution_count": null,
      "outputs": [
        {
          "output_type": "execute_result",
          "data": {
            "text/html": [
              "<div>\n",
              "<style scoped>\n",
              "    .dataframe tbody tr th:only-of-type {\n",
              "        vertical-align: middle;\n",
              "    }\n",
              "\n",
              "    .dataframe tbody tr th {\n",
              "        vertical-align: top;\n",
              "    }\n",
              "\n",
              "    .dataframe thead th {\n",
              "        text-align: right;\n",
              "    }\n",
              "</style>\n",
              "<table border=\"1\" class=\"dataframe\">\n",
              "  <thead>\n",
              "    <tr style=\"text-align: right;\">\n",
              "      <th></th>\n",
              "      <th>Almond Butter</th>\n",
              "      <th>Peanut Butter</th>\n",
              "      <th>Cashew Butter</th>\n",
              "      <th>Total ($)</th>\n",
              "    </tr>\n",
              "  </thead>\n",
              "  <tbody>\n",
              "    <tr>\n",
              "      <th>Mon</th>\n",
              "      <td>12</td>\n",
              "      <td>15</td>\n",
              "      <td>0</td>\n",
              "      <td>240</td>\n",
              "    </tr>\n",
              "    <tr>\n",
              "      <th>Tues</th>\n",
              "      <td>3</td>\n",
              "      <td>3</td>\n",
              "      <td>7</td>\n",
              "      <td>138</td>\n",
              "    </tr>\n",
              "    <tr>\n",
              "      <th>Wed</th>\n",
              "      <td>9</td>\n",
              "      <td>19</td>\n",
              "      <td>18</td>\n",
              "      <td>458</td>\n",
              "    </tr>\n",
              "    <tr>\n",
              "      <th>Thurs</th>\n",
              "      <td>4</td>\n",
              "      <td>6</td>\n",
              "      <td>12</td>\n",
              "      <td>232</td>\n",
              "    </tr>\n",
              "    <tr>\n",
              "      <th>Fri</th>\n",
              "      <td>1</td>\n",
              "      <td>6</td>\n",
              "      <td>7</td>\n",
              "      <td>142</td>\n",
              "    </tr>\n",
              "  </tbody>\n",
              "</table>\n",
              "</div>"
            ],
            "text/plain": [
              "       Almond Butter  Peanut Butter  Cashew Butter  Total ($)\n",
              "Mon               12             15              0        240\n",
              "Tues               3              3              7        138\n",
              "Wed                9             19             18        458\n",
              "Thurs              4              6             12        232\n",
              "Fri                1              6              7        142"
            ]
          },
          "metadata": {
            "tags": []
          },
          "execution_count": 210
        }
      ]
    },
    {
      "cell_type": "markdown",
      "metadata": {
        "id": "OlavHifrW8AO"
      },
      "source": [
        "# Comparison Operators"
      ]
    },
    {
      "cell_type": "code",
      "metadata": {
        "colab": {
          "base_uri": "https://localhost:8080/"
        },
        "id": "9fSKEeCoQwuT",
        "outputId": "5b29c018-4b33-49b1-cc04-d564930dc0af"
      },
      "source": [
        " a1 > a2"
      ],
      "execution_count": null,
      "outputs": [
        {
          "output_type": "execute_result",
          "data": {
            "text/plain": [
              "array([[False, False, False],\n",
              "       [False, False, False]])"
            ]
          },
          "metadata": {
            "tags": []
          },
          "execution_count": 211
        }
      ]
    },
    {
      "cell_type": "code",
      "metadata": {
        "colab": {
          "base_uri": "https://localhost:8080/"
        },
        "id": "Wqn6o662XsX6",
        "outputId": "2a6649db-36ba-48c2-9aad-06c2866ba0f2"
      },
      "source": [
        "a1 >= a2"
      ],
      "execution_count": null,
      "outputs": [
        {
          "output_type": "execute_result",
          "data": {
            "text/plain": [
              "array([[ True,  True,  True],\n",
              "       [False, False, False]])"
            ]
          },
          "metadata": {
            "tags": []
          },
          "execution_count": 212
        }
      ]
    },
    {
      "cell_type": "code",
      "metadata": {
        "colab": {
          "base_uri": "https://localhost:8080/"
        },
        "id": "aWhGCrucXuR-",
        "outputId": "c6cfaa88-4e94-47a9-d292-32102ef121a1"
      },
      "source": [
        "a1 > 5"
      ],
      "execution_count": null,
      "outputs": [
        {
          "output_type": "execute_result",
          "data": {
            "text/plain": [
              "array([False, False, False])"
            ]
          },
          "metadata": {
            "tags": []
          },
          "execution_count": 213
        }
      ]
    },
    {
      "cell_type": "markdown",
      "metadata": {
        "id": "YJ-iJh-Sep33"
      },
      "source": [
        "# Sorting Arrays"
      ]
    },
    {
      "cell_type": "code",
      "metadata": {
        "colab": {
          "base_uri": "https://localhost:8080/"
        },
        "id": "vNjiefgHgGhX",
        "outputId": "ed2ad36d-3a10-44bb-c424-ac97a1f1f42b"
      },
      "source": [
        "sort_array = np.random.randint(10, size=(3, 5))\n",
        "sort_array"
      ],
      "execution_count": null,
      "outputs": [
        {
          "output_type": "execute_result",
          "data": {
            "text/plain": [
              "array([[7, 8, 1, 5, 9],\n",
              "       [8, 9, 4, 3, 0],\n",
              "       [3, 5, 0, 2, 3]])"
            ]
          },
          "metadata": {
            "tags": []
          },
          "execution_count": 214
        }
      ]
    },
    {
      "cell_type": "code",
      "metadata": {
        "colab": {
          "base_uri": "https://localhost:8080/"
        },
        "id": "nswLlSBxgQ38",
        "outputId": "bf3331c5-46d6-42c0-951f-a7e14980d272"
      },
      "source": [
        "np.sort(sort_array)"
      ],
      "execution_count": null,
      "outputs": [
        {
          "output_type": "execute_result",
          "data": {
            "text/plain": [
              "array([[1, 5, 7, 8, 9],\n",
              "       [0, 3, 4, 8, 9],\n",
              "       [0, 2, 3, 3, 5]])"
            ]
          },
          "metadata": {
            "tags": []
          },
          "execution_count": 215
        }
      ]
    },
    {
      "cell_type": "code",
      "metadata": {
        "colab": {
          "base_uri": "https://localhost:8080/"
        },
        "id": "5bs1p1EDgU3M",
        "outputId": "af3508de-232a-4e14-88b9-91874b9fafbf"
      },
      "source": [
        "np.argsort(sort_array) # This shows the indexes but in the number's sorted position"
      ],
      "execution_count": null,
      "outputs": [
        {
          "output_type": "execute_result",
          "data": {
            "text/plain": [
              "array([[2, 3, 0, 1, 4],\n",
              "       [4, 3, 2, 0, 1],\n",
              "       [2, 3, 0, 4, 1]])"
            ]
          },
          "metadata": {
            "tags": []
          },
          "execution_count": 216
        }
      ]
    },
    {
      "cell_type": "code",
      "metadata": {
        "colab": {
          "base_uri": "https://localhost:8080/"
        },
        "id": "1-LJoYaIgdj2",
        "outputId": "19026168-5d89-4e15-8688-b81130dece7c"
      },
      "source": [
        "np.argmin(sort_array, axis=0) #Checks each column. The position of the minimum number is returned, for each column.\n",
        "#Consider each column as a single array"
      ],
      "execution_count": null,
      "outputs": [
        {
          "output_type": "execute_result",
          "data": {
            "text/plain": [
              "array([2, 2, 2, 2, 1])"
            ]
          },
          "metadata": {
            "tags": []
          },
          "execution_count": 217
        }
      ]
    },
    {
      "cell_type": "code",
      "metadata": {
        "colab": {
          "base_uri": "https://localhost:8080/"
        },
        "id": "3W8Ik60hhI_C",
        "outputId": "9c3b84f2-872a-4995-dd63-bf41c643113e"
      },
      "source": [
        "np.argmin(sort_array, axis=1) #Checks each row, the position of the minimum number is returned, for each row.\n",
        "#Consider each row as a single array"
      ],
      "execution_count": null,
      "outputs": [
        {
          "output_type": "execute_result",
          "data": {
            "text/plain": [
              "array([2, 4, 2])"
            ]
          },
          "metadata": {
            "tags": []
          },
          "execution_count": 218
        }
      ]
    },
    {
      "cell_type": "code",
      "metadata": {
        "colab": {
          "base_uri": "https://localhost:8080/"
        },
        "id": "h7FtKufThyNA",
        "outputId": "5414e4e5-8431-418f-a8ae-aafd4c1d68b1"
      },
      "source": [
        "np.argmax(sort_array, axis=0) #Same as argmin for column, but finds maximum"
      ],
      "execution_count": null,
      "outputs": [
        {
          "output_type": "execute_result",
          "data": {
            "text/plain": [
              "array([1, 1, 1, 0, 0])"
            ]
          },
          "metadata": {
            "tags": []
          },
          "execution_count": 219
        }
      ]
    },
    {
      "cell_type": "code",
      "metadata": {
        "colab": {
          "base_uri": "https://localhost:8080/"
        },
        "id": "JMzEsHrxiSwt",
        "outputId": "641fcb16-9e0f-48c4-df16-9e0d32ca5d8a"
      },
      "source": [
        "np.argmax(sort_array, axis=1) #Same as argmin for rows, but finds maximum"
      ],
      "execution_count": null,
      "outputs": [
        {
          "output_type": "execute_result",
          "data": {
            "text/plain": [
              "array([4, 1, 1])"
            ]
          },
          "metadata": {
            "tags": []
          },
          "execution_count": 220
        }
      ]
    },
    {
      "cell_type": "code",
      "metadata": {
        "colab": {
          "base_uri": "https://localhost:8080/"
        },
        "id": "LT2musSSiav2",
        "outputId": "b35fec90-628e-4e57-f509-381b88969dfa"
      },
      "source": [
        "sort_array"
      ],
      "execution_count": null,
      "outputs": [
        {
          "output_type": "execute_result",
          "data": {
            "text/plain": [
              "array([[7, 8, 1, 5, 9],\n",
              "       [8, 9, 4, 3, 0],\n",
              "       [3, 5, 0, 2, 3]])"
            ]
          },
          "metadata": {
            "tags": []
          },
          "execution_count": 221
        }
      ]
    },
    {
      "cell_type": "code",
      "metadata": {
        "colab": {
          "base_uri": "https://localhost:8080/"
        },
        "id": "NrPCRXoWkLm6",
        "outputId": "fc886855-dab6-4484-97be-de49fa642eb2"
      },
      "source": [
        "np.sort(sort_array)"
      ],
      "execution_count": null,
      "outputs": [
        {
          "output_type": "execute_result",
          "data": {
            "text/plain": [
              "array([[1, 5, 7, 8, 9],\n",
              "       [0, 3, 4, 8, 9],\n",
              "       [0, 2, 3, 3, 5]])"
            ]
          },
          "metadata": {
            "tags": []
          },
          "execution_count": 222
        }
      ]
    },
    {
      "cell_type": "code",
      "metadata": {
        "colab": {
          "base_uri": "https://localhost:8080/"
        },
        "id": "vod3Upfqj7ZA",
        "outputId": "35bff74c-43ea-4959-c388-82371d361a4f"
      },
      "source": [
        "np.sort(sort_array, axis = 0)"
      ],
      "execution_count": null,
      "outputs": [
        {
          "output_type": "execute_result",
          "data": {
            "text/plain": [
              "array([[3, 5, 0, 2, 0],\n",
              "       [7, 8, 1, 3, 3],\n",
              "       [8, 9, 4, 5, 9]])"
            ]
          },
          "metadata": {
            "tags": []
          },
          "execution_count": 223
        }
      ]
    },
    {
      "cell_type": "markdown",
      "metadata": {
        "id": "mG6uddFMopae"
      },
      "source": [
        "# Practical Example - NumPy in Action"
      ]
    },
    {
      "cell_type": "markdown",
      "metadata": {
        "id": "_yV4Y3i5q6ky"
      },
      "source": [
        "### Turn An Image Into Array"
      ]
    },
    {
      "cell_type": "code",
      "metadata": {
        "colab": {
          "base_uri": "https://localhost:8080/"
        },
        "id": "fNqVdEXKj-mX",
        "outputId": "e2c5524f-3791-4e78-ae9c-ce578d1027e2"
      },
      "source": [
        "from matplotlib.image import imread\n",
        "\n",
        "panda = imread(\"panda.png\")\n",
        "print(type(panda)) "
      ],
      "execution_count": null,
      "outputs": [
        {
          "output_type": "stream",
          "text": [
            "<class 'numpy.ndarray'>\n"
          ],
          "name": "stdout"
        }
      ]
    },
    {
      "cell_type": "code",
      "metadata": {
        "colab": {
          "base_uri": "https://localhost:8080/"
        },
        "id": "RJAXLJY6sHqG",
        "outputId": "4e759dac-c3a8-4c8b-c0e7-e8889586fff4"
      },
      "source": [
        "panda.size, panda.shape, panda.ndim"
      ],
      "execution_count": null,
      "outputs": [
        {
          "output_type": "execute_result",
          "data": {
            "text/plain": [
              "(3240000, (900, 900, 4), 3)"
            ]
          },
          "metadata": {
            "tags": []
          },
          "execution_count": 225
        }
      ]
    },
    {
      "cell_type": "code",
      "metadata": {
        "colab": {
          "base_uri": "https://localhost:8080/"
        },
        "id": "bY_CUDz_sKRi",
        "outputId": "a1a4a1fa-d963-4263-9834-20333db3be48"
      },
      "source": [
        "panda[:5]"
      ],
      "execution_count": null,
      "outputs": [
        {
          "output_type": "execute_result",
          "data": {
            "text/plain": [
              "array([[[1., 1., 1., 0.],\n",
              "        [1., 1., 1., 0.],\n",
              "        [1., 1., 1., 0.],\n",
              "        ...,\n",
              "        [1., 1., 1., 0.],\n",
              "        [1., 1., 1., 0.],\n",
              "        [1., 1., 1., 0.]],\n",
              "\n",
              "       [[1., 1., 1., 0.],\n",
              "        [1., 1., 1., 0.],\n",
              "        [1., 1., 1., 0.],\n",
              "        ...,\n",
              "        [1., 1., 1., 0.],\n",
              "        [1., 1., 1., 0.],\n",
              "        [1., 1., 1., 0.]],\n",
              "\n",
              "       [[1., 1., 1., 0.],\n",
              "        [1., 1., 1., 0.],\n",
              "        [1., 1., 1., 0.],\n",
              "        ...,\n",
              "        [1., 1., 1., 0.],\n",
              "        [1., 1., 1., 0.],\n",
              "        [1., 1., 1., 0.]],\n",
              "\n",
              "       [[1., 1., 1., 0.],\n",
              "        [1., 1., 1., 0.],\n",
              "        [1., 1., 1., 0.],\n",
              "        ...,\n",
              "        [1., 1., 1., 0.],\n",
              "        [1., 1., 1., 0.],\n",
              "        [1., 1., 1., 0.]],\n",
              "\n",
              "       [[1., 1., 1., 0.],\n",
              "        [1., 1., 1., 0.],\n",
              "        [1., 1., 1., 0.],\n",
              "        ...,\n",
              "        [1., 1., 1., 0.],\n",
              "        [1., 1., 1., 0.],\n",
              "        [1., 1., 1., 0.]]], dtype=float32)"
            ]
          },
          "metadata": {
            "tags": []
          },
          "execution_count": 226
        }
      ]
    },
    {
      "cell_type": "code",
      "metadata": {
        "id": "3NcPIe79scQk"
      },
      "source": [
        ""
      ],
      "execution_count": null,
      "outputs": []
    }
  ]
}