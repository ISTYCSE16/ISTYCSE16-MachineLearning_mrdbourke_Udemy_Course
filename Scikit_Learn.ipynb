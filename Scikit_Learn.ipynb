{
  "nbformat": 4,
  "nbformat_minor": 0,
  "metadata": {
    "colab": {
      "name": "Scikit-Learn.ipynb",
      "provenance": [],
      "collapsed_sections": [
        "8K6DddXim9kK",
        "syRnv4o0yGzh",
        "GJOtoxBdwLvc",
        "7ElREGf7T62i"
      ],
      "authorship_tag": "ABX9TyPPkTRpeEpLQ6cC8MSJARcj",
      "include_colab_link": true
    },
    "kernelspec": {
      "name": "python3",
      "display_name": "Python 3"
    },
    "language_info": {
      "name": "python"
    }
  },
  "cells": [
    {
      "cell_type": "markdown",
      "metadata": {
        "id": "view-in-github",
        "colab_type": "text"
      },
      "source": [
        "<a href=\"https://colab.research.google.com/github/ISTYCSE16/ISTYCSE16-MachineLearning_mrdbourke_Udemy_Course/blob/master/Scikit_Learn.ipynb\" target=\"_parent\"><img src=\"https://colab.research.google.com/assets/colab-badge.svg\" alt=\"Open In Colab\"/></a>"
      ]
    },
    {
      "cell_type": "markdown",
      "metadata": {
        "id": "gMz6jZJjmOpV"
      },
      "source": [
        "# Introduction To Scikit-Learn"
      ]
    },
    {
      "cell_type": "markdown",
      "metadata": {
        "id": "OTWxavkvmWEE"
      },
      "source": [
        "This notebook demonstrates some of the most useful functions of the beautiful Scikit-Learn library.\n",
        "\n",
        "What we are going to cover:\n",
        "\n",
        "0. An end-to-end Scikit-Learn Workflow\n",
        "1. Getting the data ready\n",
        "2. Choose the right estimator/algorithm for our problems\n",
        "3. Fit the model/algorithm and use it to make predictions on our data\n",
        "4. Evaluating a model\n",
        "5. Improve a model\n",
        "6. Save and load a trained model\n",
        "7. Putting it all together"
      ]
    },
    {
      "cell_type": "markdown",
      "metadata": {
        "id": "8K6DddXim9kK"
      },
      "source": [
        "### 0. An end-to-end Scikit-Learn Workflow"
      ]
    },
    {
      "cell_type": "code",
      "metadata": {
        "id": "B90zkAhOx9nt"
      },
      "source": [
        "import numpy as np\n",
        "import pandas as pd\n",
        "import matplotlib.pyplot as plt\n",
        "%matplotlib inline"
      ],
      "execution_count": null,
      "outputs": []
    },
    {
      "cell_type": "code",
      "metadata": {
        "id": "F1-pfSkTYs8R",
        "colab": {
          "base_uri": "https://localhost:8080/"
        },
        "outputId": "094f8509-53e6-4bea-b599-83fe77f2ce15"
      },
      "source": [
        "# 1. Get the data ready\n",
        "heart_disease = pd.read_csv(\"https://raw.githubusercontent.com/mrdbourke/zero-to-mastery-ml/master/data/heart-disease.csv\")\n",
        "heart_disease.head()"
      ],
      "execution_count": null,
      "outputs": [
        {
          "output_type": "execute_result",
          "data": {
            "text/html": [
              "<div>\n",
              "<style scoped>\n",
              "    .dataframe tbody tr th:only-of-type {\n",
              "        vertical-align: middle;\n",
              "    }\n",
              "\n",
              "    .dataframe tbody tr th {\n",
              "        vertical-align: top;\n",
              "    }\n",
              "\n",
              "    .dataframe thead th {\n",
              "        text-align: right;\n",
              "    }\n",
              "</style>\n",
              "<table border=\"1\" class=\"dataframe\">\n",
              "  <thead>\n",
              "    <tr style=\"text-align: right;\">\n",
              "      <th></th>\n",
              "      <th>age</th>\n",
              "      <th>sex</th>\n",
              "      <th>cp</th>\n",
              "      <th>trestbps</th>\n",
              "      <th>chol</th>\n",
              "      <th>fbs</th>\n",
              "      <th>restecg</th>\n",
              "      <th>thalach</th>\n",
              "      <th>exang</th>\n",
              "      <th>oldpeak</th>\n",
              "      <th>slope</th>\n",
              "      <th>ca</th>\n",
              "      <th>thal</th>\n",
              "      <th>target</th>\n",
              "    </tr>\n",
              "  </thead>\n",
              "  <tbody>\n",
              "    <tr>\n",
              "      <th>0</th>\n",
              "      <td>63</td>\n",
              "      <td>1</td>\n",
              "      <td>3</td>\n",
              "      <td>145</td>\n",
              "      <td>233</td>\n",
              "      <td>1</td>\n",
              "      <td>0</td>\n",
              "      <td>150</td>\n",
              "      <td>0</td>\n",
              "      <td>2.3</td>\n",
              "      <td>0</td>\n",
              "      <td>0</td>\n",
              "      <td>1</td>\n",
              "      <td>1</td>\n",
              "    </tr>\n",
              "    <tr>\n",
              "      <th>1</th>\n",
              "      <td>37</td>\n",
              "      <td>1</td>\n",
              "      <td>2</td>\n",
              "      <td>130</td>\n",
              "      <td>250</td>\n",
              "      <td>0</td>\n",
              "      <td>1</td>\n",
              "      <td>187</td>\n",
              "      <td>0</td>\n",
              "      <td>3.5</td>\n",
              "      <td>0</td>\n",
              "      <td>0</td>\n",
              "      <td>2</td>\n",
              "      <td>1</td>\n",
              "    </tr>\n",
              "    <tr>\n",
              "      <th>2</th>\n",
              "      <td>41</td>\n",
              "      <td>0</td>\n",
              "      <td>1</td>\n",
              "      <td>130</td>\n",
              "      <td>204</td>\n",
              "      <td>0</td>\n",
              "      <td>0</td>\n",
              "      <td>172</td>\n",
              "      <td>0</td>\n",
              "      <td>1.4</td>\n",
              "      <td>2</td>\n",
              "      <td>0</td>\n",
              "      <td>2</td>\n",
              "      <td>1</td>\n",
              "    </tr>\n",
              "    <tr>\n",
              "      <th>3</th>\n",
              "      <td>56</td>\n",
              "      <td>1</td>\n",
              "      <td>1</td>\n",
              "      <td>120</td>\n",
              "      <td>236</td>\n",
              "      <td>0</td>\n",
              "      <td>1</td>\n",
              "      <td>178</td>\n",
              "      <td>0</td>\n",
              "      <td>0.8</td>\n",
              "      <td>2</td>\n",
              "      <td>0</td>\n",
              "      <td>2</td>\n",
              "      <td>1</td>\n",
              "    </tr>\n",
              "    <tr>\n",
              "      <th>4</th>\n",
              "      <td>57</td>\n",
              "      <td>0</td>\n",
              "      <td>0</td>\n",
              "      <td>120</td>\n",
              "      <td>354</td>\n",
              "      <td>0</td>\n",
              "      <td>1</td>\n",
              "      <td>163</td>\n",
              "      <td>1</td>\n",
              "      <td>0.6</td>\n",
              "      <td>2</td>\n",
              "      <td>0</td>\n",
              "      <td>2</td>\n",
              "      <td>1</td>\n",
              "    </tr>\n",
              "  </tbody>\n",
              "</table>\n",
              "</div>"
            ],
            "text/plain": [
              "   age  sex  cp  trestbps  chol  fbs  ...  exang  oldpeak  slope  ca  thal  target\n",
              "0   63    1   3       145   233    1  ...      0      2.3      0   0     1       1\n",
              "1   37    1   2       130   250    0  ...      0      3.5      0   0     2       1\n",
              "2   41    0   1       130   204    0  ...      0      1.4      2   0     2       1\n",
              "3   56    1   1       120   236    0  ...      0      0.8      2   0     2       1\n",
              "4   57    0   0       120   354    0  ...      1      0.6      2   0     2       1\n",
              "\n",
              "[5 rows x 14 columns]"
            ]
          },
          "metadata": {
            "tags": []
          },
          "execution_count": 149
        }
      ]
    },
    {
      "cell_type": "code",
      "metadata": {
        "id": "n7DmaY9qnjeT"
      },
      "source": [
        "# Create X (Features Matrix)\n",
        "X = heart_disease.drop(\"target\", axis = 1)\n",
        "\n",
        "# Create Y (Labels)\n",
        "y = heart_disease[\"target\"]"
      ],
      "execution_count": null,
      "outputs": []
    },
    {
      "cell_type": "code",
      "metadata": {
        "colab": {
          "base_uri": "https://localhost:8080/"
        },
        "id": "XqWGmZDg_Ii9",
        "outputId": "c9baa9fd-a234-4312-f90f-16b806d3be71"
      },
      "source": [
        "X"
      ],
      "execution_count": null,
      "outputs": [
        {
          "output_type": "execute_result",
          "data": {
            "text/html": [
              "<div>\n",
              "<style scoped>\n",
              "    .dataframe tbody tr th:only-of-type {\n",
              "        vertical-align: middle;\n",
              "    }\n",
              "\n",
              "    .dataframe tbody tr th {\n",
              "        vertical-align: top;\n",
              "    }\n",
              "\n",
              "    .dataframe thead th {\n",
              "        text-align: right;\n",
              "    }\n",
              "</style>\n",
              "<table border=\"1\" class=\"dataframe\">\n",
              "  <thead>\n",
              "    <tr style=\"text-align: right;\">\n",
              "      <th></th>\n",
              "      <th>age</th>\n",
              "      <th>sex</th>\n",
              "      <th>cp</th>\n",
              "      <th>trestbps</th>\n",
              "      <th>chol</th>\n",
              "      <th>fbs</th>\n",
              "      <th>restecg</th>\n",
              "      <th>thalach</th>\n",
              "      <th>exang</th>\n",
              "      <th>oldpeak</th>\n",
              "      <th>slope</th>\n",
              "      <th>ca</th>\n",
              "      <th>thal</th>\n",
              "    </tr>\n",
              "  </thead>\n",
              "  <tbody>\n",
              "    <tr>\n",
              "      <th>0</th>\n",
              "      <td>63</td>\n",
              "      <td>1</td>\n",
              "      <td>3</td>\n",
              "      <td>145</td>\n",
              "      <td>233</td>\n",
              "      <td>1</td>\n",
              "      <td>0</td>\n",
              "      <td>150</td>\n",
              "      <td>0</td>\n",
              "      <td>2.3</td>\n",
              "      <td>0</td>\n",
              "      <td>0</td>\n",
              "      <td>1</td>\n",
              "    </tr>\n",
              "    <tr>\n",
              "      <th>1</th>\n",
              "      <td>37</td>\n",
              "      <td>1</td>\n",
              "      <td>2</td>\n",
              "      <td>130</td>\n",
              "      <td>250</td>\n",
              "      <td>0</td>\n",
              "      <td>1</td>\n",
              "      <td>187</td>\n",
              "      <td>0</td>\n",
              "      <td>3.5</td>\n",
              "      <td>0</td>\n",
              "      <td>0</td>\n",
              "      <td>2</td>\n",
              "    </tr>\n",
              "    <tr>\n",
              "      <th>2</th>\n",
              "      <td>41</td>\n",
              "      <td>0</td>\n",
              "      <td>1</td>\n",
              "      <td>130</td>\n",
              "      <td>204</td>\n",
              "      <td>0</td>\n",
              "      <td>0</td>\n",
              "      <td>172</td>\n",
              "      <td>0</td>\n",
              "      <td>1.4</td>\n",
              "      <td>2</td>\n",
              "      <td>0</td>\n",
              "      <td>2</td>\n",
              "    </tr>\n",
              "    <tr>\n",
              "      <th>3</th>\n",
              "      <td>56</td>\n",
              "      <td>1</td>\n",
              "      <td>1</td>\n",
              "      <td>120</td>\n",
              "      <td>236</td>\n",
              "      <td>0</td>\n",
              "      <td>1</td>\n",
              "      <td>178</td>\n",
              "      <td>0</td>\n",
              "      <td>0.8</td>\n",
              "      <td>2</td>\n",
              "      <td>0</td>\n",
              "      <td>2</td>\n",
              "    </tr>\n",
              "    <tr>\n",
              "      <th>4</th>\n",
              "      <td>57</td>\n",
              "      <td>0</td>\n",
              "      <td>0</td>\n",
              "      <td>120</td>\n",
              "      <td>354</td>\n",
              "      <td>0</td>\n",
              "      <td>1</td>\n",
              "      <td>163</td>\n",
              "      <td>1</td>\n",
              "      <td>0.6</td>\n",
              "      <td>2</td>\n",
              "      <td>0</td>\n",
              "      <td>2</td>\n",
              "    </tr>\n",
              "    <tr>\n",
              "      <th>...</th>\n",
              "      <td>...</td>\n",
              "      <td>...</td>\n",
              "      <td>...</td>\n",
              "      <td>...</td>\n",
              "      <td>...</td>\n",
              "      <td>...</td>\n",
              "      <td>...</td>\n",
              "      <td>...</td>\n",
              "      <td>...</td>\n",
              "      <td>...</td>\n",
              "      <td>...</td>\n",
              "      <td>...</td>\n",
              "      <td>...</td>\n",
              "    </tr>\n",
              "    <tr>\n",
              "      <th>298</th>\n",
              "      <td>57</td>\n",
              "      <td>0</td>\n",
              "      <td>0</td>\n",
              "      <td>140</td>\n",
              "      <td>241</td>\n",
              "      <td>0</td>\n",
              "      <td>1</td>\n",
              "      <td>123</td>\n",
              "      <td>1</td>\n",
              "      <td>0.2</td>\n",
              "      <td>1</td>\n",
              "      <td>0</td>\n",
              "      <td>3</td>\n",
              "    </tr>\n",
              "    <tr>\n",
              "      <th>299</th>\n",
              "      <td>45</td>\n",
              "      <td>1</td>\n",
              "      <td>3</td>\n",
              "      <td>110</td>\n",
              "      <td>264</td>\n",
              "      <td>0</td>\n",
              "      <td>1</td>\n",
              "      <td>132</td>\n",
              "      <td>0</td>\n",
              "      <td>1.2</td>\n",
              "      <td>1</td>\n",
              "      <td>0</td>\n",
              "      <td>3</td>\n",
              "    </tr>\n",
              "    <tr>\n",
              "      <th>300</th>\n",
              "      <td>68</td>\n",
              "      <td>1</td>\n",
              "      <td>0</td>\n",
              "      <td>144</td>\n",
              "      <td>193</td>\n",
              "      <td>1</td>\n",
              "      <td>1</td>\n",
              "      <td>141</td>\n",
              "      <td>0</td>\n",
              "      <td>3.4</td>\n",
              "      <td>1</td>\n",
              "      <td>2</td>\n",
              "      <td>3</td>\n",
              "    </tr>\n",
              "    <tr>\n",
              "      <th>301</th>\n",
              "      <td>57</td>\n",
              "      <td>1</td>\n",
              "      <td>0</td>\n",
              "      <td>130</td>\n",
              "      <td>131</td>\n",
              "      <td>0</td>\n",
              "      <td>1</td>\n",
              "      <td>115</td>\n",
              "      <td>1</td>\n",
              "      <td>1.2</td>\n",
              "      <td>1</td>\n",
              "      <td>1</td>\n",
              "      <td>3</td>\n",
              "    </tr>\n",
              "    <tr>\n",
              "      <th>302</th>\n",
              "      <td>57</td>\n",
              "      <td>0</td>\n",
              "      <td>1</td>\n",
              "      <td>130</td>\n",
              "      <td>236</td>\n",
              "      <td>0</td>\n",
              "      <td>0</td>\n",
              "      <td>174</td>\n",
              "      <td>0</td>\n",
              "      <td>0.0</td>\n",
              "      <td>1</td>\n",
              "      <td>1</td>\n",
              "      <td>2</td>\n",
              "    </tr>\n",
              "  </tbody>\n",
              "</table>\n",
              "<p>303 rows × 13 columns</p>\n",
              "</div>"
            ],
            "text/plain": [
              "     age  sex  cp  trestbps  chol  ...  exang  oldpeak  slope  ca  thal\n",
              "0     63    1   3       145   233  ...      0      2.3      0   0     1\n",
              "1     37    1   2       130   250  ...      0      3.5      0   0     2\n",
              "2     41    0   1       130   204  ...      0      1.4      2   0     2\n",
              "3     56    1   1       120   236  ...      0      0.8      2   0     2\n",
              "4     57    0   0       120   354  ...      1      0.6      2   0     2\n",
              "..   ...  ...  ..       ...   ...  ...    ...      ...    ...  ..   ...\n",
              "298   57    0   0       140   241  ...      1      0.2      1   0     3\n",
              "299   45    1   3       110   264  ...      0      1.2      1   0     3\n",
              "300   68    1   0       144   193  ...      0      3.4      1   2     3\n",
              "301   57    1   0       130   131  ...      1      1.2      1   1     3\n",
              "302   57    0   1       130   236  ...      0      0.0      1   1     2\n",
              "\n",
              "[303 rows x 13 columns]"
            ]
          },
          "metadata": {
            "tags": []
          },
          "execution_count": 151
        }
      ]
    },
    {
      "cell_type": "code",
      "metadata": {
        "colab": {
          "base_uri": "https://localhost:8080/"
        },
        "id": "uF7r4cce_Mmn",
        "outputId": "dbc95969-63ae-4ec9-978d-a5e37d7f7c3c"
      },
      "source": [
        "y"
      ],
      "execution_count": null,
      "outputs": [
        {
          "output_type": "execute_result",
          "data": {
            "text/plain": [
              "0      1\n",
              "1      1\n",
              "2      1\n",
              "3      1\n",
              "4      1\n",
              "      ..\n",
              "298    0\n",
              "299    0\n",
              "300    0\n",
              "301    0\n",
              "302    0\n",
              "Name: target, Length: 303, dtype: int64"
            ]
          },
          "metadata": {
            "tags": []
          },
          "execution_count": 152
        }
      ]
    },
    {
      "cell_type": "code",
      "metadata": {
        "colab": {
          "base_uri": "https://localhost:8080/"
        },
        "id": "gXQRkWp0oAzo",
        "outputId": "9125d4bd-7f9a-4f67-c2a1-3b0d492c3d49"
      },
      "source": [
        "   # 2. Choose the right model and hyperparameters\n",
        "from sklearn.ensemble import RandomForestClassifier\n",
        "clf = RandomForestClassifier()\n",
        "\n",
        "# We'll keep the default Hyperparameters\n",
        "clf.get_params()"
      ],
      "execution_count": null,
      "outputs": [
        {
          "output_type": "execute_result",
          "data": {
            "text/plain": [
              "{'bootstrap': True,\n",
              " 'ccp_alpha': 0.0,\n",
              " 'class_weight': None,\n",
              " 'criterion': 'gini',\n",
              " 'max_depth': None,\n",
              " 'max_features': 'auto',\n",
              " 'max_leaf_nodes': None,\n",
              " 'max_samples': None,\n",
              " 'min_impurity_decrease': 0.0,\n",
              " 'min_impurity_split': None,\n",
              " 'min_samples_leaf': 1,\n",
              " 'min_samples_split': 2,\n",
              " 'min_weight_fraction_leaf': 0.0,\n",
              " 'n_estimators': 100,\n",
              " 'n_jobs': None,\n",
              " 'oob_score': False,\n",
              " 'random_state': None,\n",
              " 'verbose': 0,\n",
              " 'warm_start': False}"
            ]
          },
          "metadata": {
            "tags": []
          },
          "execution_count": 153
        }
      ]
    },
    {
      "cell_type": "code",
      "metadata": {
        "id": "lTbcEP0noHMQ"
      },
      "source": [
        "# 3. Fit the model to the training data\n",
        "from sklearn.model_selection import train_test_split\n",
        "\n",
        "X_train, X_test, y_train, y_test = train_test_split(X, y, test_size=0.2)"
      ],
      "execution_count": null,
      "outputs": []
    },
    {
      "cell_type": "code",
      "metadata": {
        "id": "c6xKdaaRpWA-"
      },
      "source": [
        "clf.fit(X_train, y_train);"
      ],
      "execution_count": null,
      "outputs": []
    },
    {
      "cell_type": "code",
      "metadata": {
        "colab": {
          "base_uri": "https://localhost:8080/"
        },
        "id": "PSPl09i0qJPQ",
        "outputId": "a2220a54-f228-456e-eabb-9e89c98ab1b5"
      },
      "source": [
        "X_test"
      ],
      "execution_count": null,
      "outputs": [
        {
          "output_type": "execute_result",
          "data": {
            "text/html": [
              "<div>\n",
              "<style scoped>\n",
              "    .dataframe tbody tr th:only-of-type {\n",
              "        vertical-align: middle;\n",
              "    }\n",
              "\n",
              "    .dataframe tbody tr th {\n",
              "        vertical-align: top;\n",
              "    }\n",
              "\n",
              "    .dataframe thead th {\n",
              "        text-align: right;\n",
              "    }\n",
              "</style>\n",
              "<table border=\"1\" class=\"dataframe\">\n",
              "  <thead>\n",
              "    <tr style=\"text-align: right;\">\n",
              "      <th></th>\n",
              "      <th>age</th>\n",
              "      <th>sex</th>\n",
              "      <th>cp</th>\n",
              "      <th>trestbps</th>\n",
              "      <th>chol</th>\n",
              "      <th>fbs</th>\n",
              "      <th>restecg</th>\n",
              "      <th>thalach</th>\n",
              "      <th>exang</th>\n",
              "      <th>oldpeak</th>\n",
              "      <th>slope</th>\n",
              "      <th>ca</th>\n",
              "      <th>thal</th>\n",
              "    </tr>\n",
              "  </thead>\n",
              "  <tbody>\n",
              "    <tr>\n",
              "      <th>98</th>\n",
              "      <td>43</td>\n",
              "      <td>1</td>\n",
              "      <td>2</td>\n",
              "      <td>130</td>\n",
              "      <td>315</td>\n",
              "      <td>0</td>\n",
              "      <td>1</td>\n",
              "      <td>162</td>\n",
              "      <td>0</td>\n",
              "      <td>1.9</td>\n",
              "      <td>2</td>\n",
              "      <td>1</td>\n",
              "      <td>2</td>\n",
              "    </tr>\n",
              "    <tr>\n",
              "      <th>147</th>\n",
              "      <td>60</td>\n",
              "      <td>0</td>\n",
              "      <td>3</td>\n",
              "      <td>150</td>\n",
              "      <td>240</td>\n",
              "      <td>0</td>\n",
              "      <td>1</td>\n",
              "      <td>171</td>\n",
              "      <td>0</td>\n",
              "      <td>0.9</td>\n",
              "      <td>2</td>\n",
              "      <td>0</td>\n",
              "      <td>2</td>\n",
              "    </tr>\n",
              "    <tr>\n",
              "      <th>210</th>\n",
              "      <td>57</td>\n",
              "      <td>1</td>\n",
              "      <td>2</td>\n",
              "      <td>128</td>\n",
              "      <td>229</td>\n",
              "      <td>0</td>\n",
              "      <td>0</td>\n",
              "      <td>150</td>\n",
              "      <td>0</td>\n",
              "      <td>0.4</td>\n",
              "      <td>1</td>\n",
              "      <td>1</td>\n",
              "      <td>3</td>\n",
              "    </tr>\n",
              "    <tr>\n",
              "      <th>13</th>\n",
              "      <td>64</td>\n",
              "      <td>1</td>\n",
              "      <td>3</td>\n",
              "      <td>110</td>\n",
              "      <td>211</td>\n",
              "      <td>0</td>\n",
              "      <td>0</td>\n",
              "      <td>144</td>\n",
              "      <td>1</td>\n",
              "      <td>1.8</td>\n",
              "      <td>1</td>\n",
              "      <td>0</td>\n",
              "      <td>2</td>\n",
              "    </tr>\n",
              "    <tr>\n",
              "      <th>166</th>\n",
              "      <td>67</td>\n",
              "      <td>1</td>\n",
              "      <td>0</td>\n",
              "      <td>120</td>\n",
              "      <td>229</td>\n",
              "      <td>0</td>\n",
              "      <td>0</td>\n",
              "      <td>129</td>\n",
              "      <td>1</td>\n",
              "      <td>2.6</td>\n",
              "      <td>1</td>\n",
              "      <td>2</td>\n",
              "      <td>3</td>\n",
              "    </tr>\n",
              "    <tr>\n",
              "      <th>...</th>\n",
              "      <td>...</td>\n",
              "      <td>...</td>\n",
              "      <td>...</td>\n",
              "      <td>...</td>\n",
              "      <td>...</td>\n",
              "      <td>...</td>\n",
              "      <td>...</td>\n",
              "      <td>...</td>\n",
              "      <td>...</td>\n",
              "      <td>...</td>\n",
              "      <td>...</td>\n",
              "      <td>...</td>\n",
              "      <td>...</td>\n",
              "    </tr>\n",
              "    <tr>\n",
              "      <th>142</th>\n",
              "      <td>42</td>\n",
              "      <td>0</td>\n",
              "      <td>2</td>\n",
              "      <td>120</td>\n",
              "      <td>209</td>\n",
              "      <td>0</td>\n",
              "      <td>1</td>\n",
              "      <td>173</td>\n",
              "      <td>0</td>\n",
              "      <td>0.0</td>\n",
              "      <td>1</td>\n",
              "      <td>0</td>\n",
              "      <td>2</td>\n",
              "    </tr>\n",
              "    <tr>\n",
              "      <th>38</th>\n",
              "      <td>65</td>\n",
              "      <td>0</td>\n",
              "      <td>2</td>\n",
              "      <td>155</td>\n",
              "      <td>269</td>\n",
              "      <td>0</td>\n",
              "      <td>1</td>\n",
              "      <td>148</td>\n",
              "      <td>0</td>\n",
              "      <td>0.8</td>\n",
              "      <td>2</td>\n",
              "      <td>0</td>\n",
              "      <td>2</td>\n",
              "    </tr>\n",
              "    <tr>\n",
              "      <th>175</th>\n",
              "      <td>40</td>\n",
              "      <td>1</td>\n",
              "      <td>0</td>\n",
              "      <td>110</td>\n",
              "      <td>167</td>\n",
              "      <td>0</td>\n",
              "      <td>0</td>\n",
              "      <td>114</td>\n",
              "      <td>1</td>\n",
              "      <td>2.0</td>\n",
              "      <td>1</td>\n",
              "      <td>0</td>\n",
              "      <td>3</td>\n",
              "    </tr>\n",
              "    <tr>\n",
              "      <th>37</th>\n",
              "      <td>54</td>\n",
              "      <td>1</td>\n",
              "      <td>2</td>\n",
              "      <td>150</td>\n",
              "      <td>232</td>\n",
              "      <td>0</td>\n",
              "      <td>0</td>\n",
              "      <td>165</td>\n",
              "      <td>0</td>\n",
              "      <td>1.6</td>\n",
              "      <td>2</td>\n",
              "      <td>0</td>\n",
              "      <td>3</td>\n",
              "    </tr>\n",
              "    <tr>\n",
              "      <th>290</th>\n",
              "      <td>61</td>\n",
              "      <td>1</td>\n",
              "      <td>0</td>\n",
              "      <td>148</td>\n",
              "      <td>203</td>\n",
              "      <td>0</td>\n",
              "      <td>1</td>\n",
              "      <td>161</td>\n",
              "      <td>0</td>\n",
              "      <td>0.0</td>\n",
              "      <td>2</td>\n",
              "      <td>1</td>\n",
              "      <td>3</td>\n",
              "    </tr>\n",
              "  </tbody>\n",
              "</table>\n",
              "<p>61 rows × 13 columns</p>\n",
              "</div>"
            ],
            "text/plain": [
              "     age  sex  cp  trestbps  chol  ...  exang  oldpeak  slope  ca  thal\n",
              "98    43    1   2       130   315  ...      0      1.9      2   1     2\n",
              "147   60    0   3       150   240  ...      0      0.9      2   0     2\n",
              "210   57    1   2       128   229  ...      0      0.4      1   1     3\n",
              "13    64    1   3       110   211  ...      1      1.8      1   0     2\n",
              "166   67    1   0       120   229  ...      1      2.6      1   2     3\n",
              "..   ...  ...  ..       ...   ...  ...    ...      ...    ...  ..   ...\n",
              "142   42    0   2       120   209  ...      0      0.0      1   0     2\n",
              "38    65    0   2       155   269  ...      0      0.8      2   0     2\n",
              "175   40    1   0       110   167  ...      1      2.0      1   0     3\n",
              "37    54    1   2       150   232  ...      0      1.6      2   0     3\n",
              "290   61    1   0       148   203  ...      0      0.0      2   1     3\n",
              "\n",
              "[61 rows x 13 columns]"
            ]
          },
          "metadata": {
            "tags": []
          },
          "execution_count": 156
        }
      ]
    },
    {
      "cell_type": "code",
      "metadata": {
        "colab": {
          "base_uri": "https://localhost:8080/"
        },
        "id": "h6kYY3YQqPCw",
        "outputId": "99198767-aa40-43b2-acf4-775cfdba1bbc"
      },
      "source": [
        "y_preds = clf.predict(X_test)\n",
        "y_preds"
      ],
      "execution_count": null,
      "outputs": [
        {
          "output_type": "execute_result",
          "data": {
            "text/plain": [
              "array([1, 1, 1, 0, 0, 1, 0, 1, 1, 1, 1, 1, 0, 1, 1, 0, 1, 1, 0, 0, 0, 1,\n",
              "       1, 0, 0, 1, 0, 0, 1, 1, 1, 0, 0, 0, 0, 0, 0, 0, 1, 1, 1, 1, 1, 1,\n",
              "       1, 0, 1, 0, 0, 1, 1, 1, 1, 0, 0, 1, 1, 1, 0, 1, 0])"
            ]
          },
          "metadata": {
            "tags": []
          },
          "execution_count": 157
        }
      ]
    },
    {
      "cell_type": "code",
      "metadata": {
        "colab": {
          "base_uri": "https://localhost:8080/"
        },
        "id": "nQFdgZncqWwA",
        "outputId": "100d3c82-a0c2-423b-f0ec-8e7dabc46189"
      },
      "source": [
        "y_test"
      ],
      "execution_count": null,
      "outputs": [
        {
          "output_type": "execute_result",
          "data": {
            "text/plain": [
              "98     1\n",
              "147    1\n",
              "210    0\n",
              "13     1\n",
              "166    0\n",
              "      ..\n",
              "142    1\n",
              "38     1\n",
              "175    0\n",
              "37     1\n",
              "290    0\n",
              "Name: target, Length: 61, dtype: int64"
            ]
          },
          "metadata": {
            "tags": []
          },
          "execution_count": 158
        }
      ]
    },
    {
      "cell_type": "code",
      "metadata": {
        "colab": {
          "base_uri": "https://localhost:8080/"
        },
        "id": "-zeses1bqY0Q",
        "outputId": "b08f0de8-0f4f-459a-d5d8-77b95f26c4cb"
      },
      "source": [
        "# 4. Evaluate The Model On the training data and the test data\n",
        "clf.score(X_train, y_train)"
      ],
      "execution_count": null,
      "outputs": [
        {
          "output_type": "execute_result",
          "data": {
            "text/plain": [
              "1.0"
            ]
          },
          "metadata": {
            "tags": []
          },
          "execution_count": 159
        }
      ]
    },
    {
      "cell_type": "code",
      "metadata": {
        "colab": {
          "base_uri": "https://localhost:8080/"
        },
        "id": "GhEWWrqQqmrQ",
        "outputId": "83ecb004-181e-4f94-b9d4-b1067095666a"
      },
      "source": [
        "clf.score(X_test, y_test)"
      ],
      "execution_count": null,
      "outputs": [
        {
          "output_type": "execute_result",
          "data": {
            "text/plain": [
              "0.7868852459016393"
            ]
          },
          "metadata": {
            "tags": []
          },
          "execution_count": 160
        }
      ]
    },
    {
      "cell_type": "code",
      "metadata": {
        "colab": {
          "base_uri": "https://localhost:8080/"
        },
        "id": "KTd57j7Oqp_A",
        "outputId": "923952bd-a51d-4fc9-fec8-71b930c42539"
      },
      "source": [
        "from sklearn.metrics import classification_report, confusion_matrix, accuracy_score\n",
        "\n",
        "print(classification_report(y_test, y_preds))"
      ],
      "execution_count": null,
      "outputs": [
        {
          "output_type": "stream",
          "text": [
            "              precision    recall  f1-score   support\n",
            "\n",
            "           0       0.88      0.70      0.78        33\n",
            "           1       0.71      0.89      0.79        28\n",
            "\n",
            "    accuracy                           0.79        61\n",
            "   macro avg       0.80      0.79      0.79        61\n",
            "weighted avg       0.81      0.79      0.79        61\n",
            "\n"
          ],
          "name": "stdout"
        }
      ]
    },
    {
      "cell_type": "markdown",
      "metadata": {
        "id": "hpfktXvKgsaS"
      },
      "source": [
        "[In case you don't remember what \"Confusion Matrix\" is](https://towardsdatascience.com/understanding-confusion-matrix-a9ad42dcfd62)"
      ]
    },
    {
      "cell_type": "code",
      "metadata": {
        "colab": {
          "base_uri": "https://localhost:8080/"
        },
        "id": "G2bzxOErf88Z",
        "outputId": "84cd923e-6eac-4a1b-d41e-531fb2348dcf"
      },
      "source": [
        "confusion_matrix(y_test, y_preds)\n"
      ],
      "execution_count": null,
      "outputs": [
        {
          "output_type": "execute_result",
          "data": {
            "text/plain": [
              "array([[23, 10],\n",
              "       [ 3, 25]])"
            ]
          },
          "metadata": {
            "tags": []
          },
          "execution_count": 162
        }
      ]
    },
    {
      "cell_type": "code",
      "metadata": {
        "colab": {
          "base_uri": "https://localhost:8080/"
        },
        "id": "06GvlJgVgGMr",
        "outputId": "1f3cf992-094f-4342-c27b-c5cb92e25313"
      },
      "source": [
        "accuracy_score(y_test, y_preds)"
      ],
      "execution_count": null,
      "outputs": [
        {
          "output_type": "execute_result",
          "data": {
            "text/plain": [
              "0.7868852459016393"
            ]
          },
          "metadata": {
            "tags": []
          },
          "execution_count": 163
        }
      ]
    },
    {
      "cell_type": "code",
      "metadata": {
        "colab": {
          "base_uri": "https://localhost:8080/"
        },
        "id": "Q5Mtsm4KgKt7",
        "outputId": "dd24cb76-4654-4314-cf64-74cb61f4585b"
      },
      "source": [
        "# Improve a model\n",
        "# Try different amount of n_estimators (One of our hyperparameters)\n",
        "\n",
        "np.random.seed(42)\n",
        "for i in range(10, 100, 10):\n",
        "  print(f\"Trying model with {i} estimators...\")\n",
        "  clf = RandomForestClassifier(n_estimators=i).fit(X_train, y_train)\n",
        "  print(f\"Model accuracy on test set: {clf.score(X_test, y_test) * 100:.2f}%\")"
      ],
      "execution_count": null,
      "outputs": [
        {
          "output_type": "stream",
          "text": [
            "Trying model with 10 estimators...\n",
            "Model accuracy on test set: 81.97%\n",
            "Trying model with 20 estimators...\n",
            "Model accuracy on test set: 78.69%\n",
            "Trying model with 30 estimators...\n",
            "Model accuracy on test set: 80.33%\n",
            "Trying model with 40 estimators...\n",
            "Model accuracy on test set: 80.33%\n",
            "Trying model with 50 estimators...\n",
            "Model accuracy on test set: 83.61%\n",
            "Trying model with 60 estimators...\n",
            "Model accuracy on test set: 85.25%\n",
            "Trying model with 70 estimators...\n",
            "Model accuracy on test set: 78.69%\n",
            "Trying model with 80 estimators...\n",
            "Model accuracy on test set: 81.97%\n",
            "Trying model with 90 estimators...\n",
            "Model accuracy on test set: 80.33%\n"
          ],
          "name": "stdout"
        }
      ]
    },
    {
      "cell_type": "code",
      "metadata": {
        "id": "d5JQeDu-mIvF"
      },
      "source": [
        "# 6. Save A Model and load it\n",
        "import pickle\n",
        "\n",
        "pickle.dump(clf, open(\"random_forest_model_1.pkl\", \"wb\"))\n"
      ],
      "execution_count": null,
      "outputs": []
    },
    {
      "cell_type": "code",
      "metadata": {
        "colab": {
          "base_uri": "https://localhost:8080/"
        },
        "id": "J1YRO_1uvf0D",
        "outputId": "31f29a80-6d2e-40be-c395-f788dfed66aa"
      },
      "source": [
        "loaded_model = pickle.load(open(\"random_forest_model_1.pkl\", \"rb\"))\n",
        "loaded_model.score(X_test, y_test) "
      ],
      "execution_count": null,
      "outputs": [
        {
          "output_type": "execute_result",
          "data": {
            "text/plain": [
              "0.8032786885245902"
            ]
          },
          "metadata": {
            "tags": []
          },
          "execution_count": 166
        }
      ]
    },
    {
      "cell_type": "markdown",
      "metadata": {
        "id": "syRnv4o0yGzh"
      },
      "source": [
        "### 1. Getting Our Data Ready"
      ]
    },
    {
      "cell_type": "markdown",
      "metadata": {
        "id": "-KwJOdFTzfjK"
      },
      "source": [
        "**Getting Our Data Ready: Splitting Our Data**\n",
        "\n",
        "Three main things we have to do:\n",
        "1. Split the data into features and labels (Usually `X` & `y`)\n",
        "2. Filling (also called inputing) of disregarding missing values\n",
        "3. Converting non-numerical values to numerical values (Also called Feature Encoding)"
      ]
    },
    {
      "cell_type": "code",
      "metadata": {
        "colab": {
          "base_uri": "https://localhost:8080/"
        },
        "id": "mYYQhKIuv--P",
        "outputId": "953faee5-f76d-49f3-d5a4-918ae7901a4f"
      },
      "source": [
        "heart_disease.head()"
      ],
      "execution_count": null,
      "outputs": [
        {
          "output_type": "execute_result",
          "data": {
            "text/html": [
              "<div>\n",
              "<style scoped>\n",
              "    .dataframe tbody tr th:only-of-type {\n",
              "        vertical-align: middle;\n",
              "    }\n",
              "\n",
              "    .dataframe tbody tr th {\n",
              "        vertical-align: top;\n",
              "    }\n",
              "\n",
              "    .dataframe thead th {\n",
              "        text-align: right;\n",
              "    }\n",
              "</style>\n",
              "<table border=\"1\" class=\"dataframe\">\n",
              "  <thead>\n",
              "    <tr style=\"text-align: right;\">\n",
              "      <th></th>\n",
              "      <th>age</th>\n",
              "      <th>sex</th>\n",
              "      <th>cp</th>\n",
              "      <th>trestbps</th>\n",
              "      <th>chol</th>\n",
              "      <th>fbs</th>\n",
              "      <th>restecg</th>\n",
              "      <th>thalach</th>\n",
              "      <th>exang</th>\n",
              "      <th>oldpeak</th>\n",
              "      <th>slope</th>\n",
              "      <th>ca</th>\n",
              "      <th>thal</th>\n",
              "      <th>target</th>\n",
              "    </tr>\n",
              "  </thead>\n",
              "  <tbody>\n",
              "    <tr>\n",
              "      <th>0</th>\n",
              "      <td>63</td>\n",
              "      <td>1</td>\n",
              "      <td>3</td>\n",
              "      <td>145</td>\n",
              "      <td>233</td>\n",
              "      <td>1</td>\n",
              "      <td>0</td>\n",
              "      <td>150</td>\n",
              "      <td>0</td>\n",
              "      <td>2.3</td>\n",
              "      <td>0</td>\n",
              "      <td>0</td>\n",
              "      <td>1</td>\n",
              "      <td>1</td>\n",
              "    </tr>\n",
              "    <tr>\n",
              "      <th>1</th>\n",
              "      <td>37</td>\n",
              "      <td>1</td>\n",
              "      <td>2</td>\n",
              "      <td>130</td>\n",
              "      <td>250</td>\n",
              "      <td>0</td>\n",
              "      <td>1</td>\n",
              "      <td>187</td>\n",
              "      <td>0</td>\n",
              "      <td>3.5</td>\n",
              "      <td>0</td>\n",
              "      <td>0</td>\n",
              "      <td>2</td>\n",
              "      <td>1</td>\n",
              "    </tr>\n",
              "    <tr>\n",
              "      <th>2</th>\n",
              "      <td>41</td>\n",
              "      <td>0</td>\n",
              "      <td>1</td>\n",
              "      <td>130</td>\n",
              "      <td>204</td>\n",
              "      <td>0</td>\n",
              "      <td>0</td>\n",
              "      <td>172</td>\n",
              "      <td>0</td>\n",
              "      <td>1.4</td>\n",
              "      <td>2</td>\n",
              "      <td>0</td>\n",
              "      <td>2</td>\n",
              "      <td>1</td>\n",
              "    </tr>\n",
              "    <tr>\n",
              "      <th>3</th>\n",
              "      <td>56</td>\n",
              "      <td>1</td>\n",
              "      <td>1</td>\n",
              "      <td>120</td>\n",
              "      <td>236</td>\n",
              "      <td>0</td>\n",
              "      <td>1</td>\n",
              "      <td>178</td>\n",
              "      <td>0</td>\n",
              "      <td>0.8</td>\n",
              "      <td>2</td>\n",
              "      <td>0</td>\n",
              "      <td>2</td>\n",
              "      <td>1</td>\n",
              "    </tr>\n",
              "    <tr>\n",
              "      <th>4</th>\n",
              "      <td>57</td>\n",
              "      <td>0</td>\n",
              "      <td>0</td>\n",
              "      <td>120</td>\n",
              "      <td>354</td>\n",
              "      <td>0</td>\n",
              "      <td>1</td>\n",
              "      <td>163</td>\n",
              "      <td>1</td>\n",
              "      <td>0.6</td>\n",
              "      <td>2</td>\n",
              "      <td>0</td>\n",
              "      <td>2</td>\n",
              "      <td>1</td>\n",
              "    </tr>\n",
              "  </tbody>\n",
              "</table>\n",
              "</div>"
            ],
            "text/plain": [
              "   age  sex  cp  trestbps  chol  fbs  ...  exang  oldpeak  slope  ca  thal  target\n",
              "0   63    1   3       145   233    1  ...      0      2.3      0   0     1       1\n",
              "1   37    1   2       130   250    0  ...      0      3.5      0   0     2       1\n",
              "2   41    0   1       130   204    0  ...      0      1.4      2   0     2       1\n",
              "3   56    1   1       120   236    0  ...      0      0.8      2   0     2       1\n",
              "4   57    0   0       120   354    0  ...      1      0.6      2   0     2       1\n",
              "\n",
              "[5 rows x 14 columns]"
            ]
          },
          "metadata": {
            "tags": []
          },
          "execution_count": 167
        }
      ]
    },
    {
      "cell_type": "code",
      "metadata": {
        "id": "gq6iGFYr0T0F"
      },
      "source": [
        "X = heart_disease.drop(\"target\", axis = 1)\n",
        "y = heart_disease[\"target\"]"
      ],
      "execution_count": null,
      "outputs": []
    },
    {
      "cell_type": "code",
      "metadata": {
        "colab": {
          "base_uri": "https://localhost:8080/"
        },
        "id": "XoCrqDpN0c_9",
        "outputId": "316e18db-dee5-4115-826e-d166b9bcbe8c"
      },
      "source": [
        "X.head()"
      ],
      "execution_count": null,
      "outputs": [
        {
          "output_type": "execute_result",
          "data": {
            "text/html": [
              "<div>\n",
              "<style scoped>\n",
              "    .dataframe tbody tr th:only-of-type {\n",
              "        vertical-align: middle;\n",
              "    }\n",
              "\n",
              "    .dataframe tbody tr th {\n",
              "        vertical-align: top;\n",
              "    }\n",
              "\n",
              "    .dataframe thead th {\n",
              "        text-align: right;\n",
              "    }\n",
              "</style>\n",
              "<table border=\"1\" class=\"dataframe\">\n",
              "  <thead>\n",
              "    <tr style=\"text-align: right;\">\n",
              "      <th></th>\n",
              "      <th>age</th>\n",
              "      <th>sex</th>\n",
              "      <th>cp</th>\n",
              "      <th>trestbps</th>\n",
              "      <th>chol</th>\n",
              "      <th>fbs</th>\n",
              "      <th>restecg</th>\n",
              "      <th>thalach</th>\n",
              "      <th>exang</th>\n",
              "      <th>oldpeak</th>\n",
              "      <th>slope</th>\n",
              "      <th>ca</th>\n",
              "      <th>thal</th>\n",
              "    </tr>\n",
              "  </thead>\n",
              "  <tbody>\n",
              "    <tr>\n",
              "      <th>0</th>\n",
              "      <td>63</td>\n",
              "      <td>1</td>\n",
              "      <td>3</td>\n",
              "      <td>145</td>\n",
              "      <td>233</td>\n",
              "      <td>1</td>\n",
              "      <td>0</td>\n",
              "      <td>150</td>\n",
              "      <td>0</td>\n",
              "      <td>2.3</td>\n",
              "      <td>0</td>\n",
              "      <td>0</td>\n",
              "      <td>1</td>\n",
              "    </tr>\n",
              "    <tr>\n",
              "      <th>1</th>\n",
              "      <td>37</td>\n",
              "      <td>1</td>\n",
              "      <td>2</td>\n",
              "      <td>130</td>\n",
              "      <td>250</td>\n",
              "      <td>0</td>\n",
              "      <td>1</td>\n",
              "      <td>187</td>\n",
              "      <td>0</td>\n",
              "      <td>3.5</td>\n",
              "      <td>0</td>\n",
              "      <td>0</td>\n",
              "      <td>2</td>\n",
              "    </tr>\n",
              "    <tr>\n",
              "      <th>2</th>\n",
              "      <td>41</td>\n",
              "      <td>0</td>\n",
              "      <td>1</td>\n",
              "      <td>130</td>\n",
              "      <td>204</td>\n",
              "      <td>0</td>\n",
              "      <td>0</td>\n",
              "      <td>172</td>\n",
              "      <td>0</td>\n",
              "      <td>1.4</td>\n",
              "      <td>2</td>\n",
              "      <td>0</td>\n",
              "      <td>2</td>\n",
              "    </tr>\n",
              "    <tr>\n",
              "      <th>3</th>\n",
              "      <td>56</td>\n",
              "      <td>1</td>\n",
              "      <td>1</td>\n",
              "      <td>120</td>\n",
              "      <td>236</td>\n",
              "      <td>0</td>\n",
              "      <td>1</td>\n",
              "      <td>178</td>\n",
              "      <td>0</td>\n",
              "      <td>0.8</td>\n",
              "      <td>2</td>\n",
              "      <td>0</td>\n",
              "      <td>2</td>\n",
              "    </tr>\n",
              "    <tr>\n",
              "      <th>4</th>\n",
              "      <td>57</td>\n",
              "      <td>0</td>\n",
              "      <td>0</td>\n",
              "      <td>120</td>\n",
              "      <td>354</td>\n",
              "      <td>0</td>\n",
              "      <td>1</td>\n",
              "      <td>163</td>\n",
              "      <td>1</td>\n",
              "      <td>0.6</td>\n",
              "      <td>2</td>\n",
              "      <td>0</td>\n",
              "      <td>2</td>\n",
              "    </tr>\n",
              "  </tbody>\n",
              "</table>\n",
              "</div>"
            ],
            "text/plain": [
              "   age  sex  cp  trestbps  chol  fbs  ...  thalach  exang  oldpeak  slope  ca  thal\n",
              "0   63    1   3       145   233    1  ...      150      0      2.3      0   0     1\n",
              "1   37    1   2       130   250    0  ...      187      0      3.5      0   0     2\n",
              "2   41    0   1       130   204    0  ...      172      0      1.4      2   0     2\n",
              "3   56    1   1       120   236    0  ...      178      0      0.8      2   0     2\n",
              "4   57    0   0       120   354    0  ...      163      1      0.6      2   0     2\n",
              "\n",
              "[5 rows x 13 columns]"
            ]
          },
          "metadata": {
            "tags": []
          },
          "execution_count": 169
        }
      ]
    },
    {
      "cell_type": "code",
      "metadata": {
        "colab": {
          "base_uri": "https://localhost:8080/"
        },
        "id": "A1QwBMLU0eVh",
        "outputId": "37485ce5-4608-45dc-e1c8-15876c0e1c5b"
      },
      "source": [
        "y.head()"
      ],
      "execution_count": null,
      "outputs": [
        {
          "output_type": "execute_result",
          "data": {
            "text/plain": [
              "0    1\n",
              "1    1\n",
              "2    1\n",
              "3    1\n",
              "4    1\n",
              "Name: target, dtype: int64"
            ]
          },
          "metadata": {
            "tags": []
          },
          "execution_count": 170
        }
      ]
    },
    {
      "cell_type": "code",
      "metadata": {
        "id": "DZLFqYcs0fe5"
      },
      "source": [
        "# Split the data into Training and Test Sets\n",
        "from sklearn.model_selection import train_test_split\n",
        "\n",
        "X_train, X_test, y_train, y_test = train_test_split(X, y, test_size=0.2)"
      ],
      "execution_count": null,
      "outputs": []
    },
    {
      "cell_type": "code",
      "metadata": {
        "colab": {
          "base_uri": "https://localhost:8080/"
        },
        "id": "ulKXRSn30s65",
        "outputId": "2168d3f7-8cc1-40bc-97a3-d6ac42e646c4"
      },
      "source": [
        "X_train.shape, X_test.shape, y_train.shape, y_test.shape"
      ],
      "execution_count": null,
      "outputs": [
        {
          "output_type": "execute_result",
          "data": {
            "text/plain": [
              "((242, 13), (61, 13), (242,), (61,))"
            ]
          },
          "metadata": {
            "tags": []
          },
          "execution_count": 172
        }
      ]
    },
    {
      "cell_type": "markdown",
      "metadata": {
        "id": "rSJeAYGi4-Rt"
      },
      "source": [
        "*1.1 Make sure it's all numerical*"
      ]
    },
    {
      "cell_type": "code",
      "metadata": {
        "colab": {
          "base_uri": "https://localhost:8080/"
        },
        "id": "pb-T4s240876",
        "outputId": "21624027-f14d-4162-e665-61160c47ab0f"
      },
      "source": [
        "car_sales = pd.read_csv(\"https://raw.githubusercontent.com/mrdbourke/zero-to-mastery-ml/master/data/car-sales-extended.csv\")\n",
        "car_sales.head()"
      ],
      "execution_count": null,
      "outputs": [
        {
          "output_type": "execute_result",
          "data": {
            "text/html": [
              "<div>\n",
              "<style scoped>\n",
              "    .dataframe tbody tr th:only-of-type {\n",
              "        vertical-align: middle;\n",
              "    }\n",
              "\n",
              "    .dataframe tbody tr th {\n",
              "        vertical-align: top;\n",
              "    }\n",
              "\n",
              "    .dataframe thead th {\n",
              "        text-align: right;\n",
              "    }\n",
              "</style>\n",
              "<table border=\"1\" class=\"dataframe\">\n",
              "  <thead>\n",
              "    <tr style=\"text-align: right;\">\n",
              "      <th></th>\n",
              "      <th>Make</th>\n",
              "      <th>Colour</th>\n",
              "      <th>Odometer (KM)</th>\n",
              "      <th>Doors</th>\n",
              "      <th>Price</th>\n",
              "    </tr>\n",
              "  </thead>\n",
              "  <tbody>\n",
              "    <tr>\n",
              "      <th>0</th>\n",
              "      <td>Honda</td>\n",
              "      <td>White</td>\n",
              "      <td>35431</td>\n",
              "      <td>4</td>\n",
              "      <td>15323</td>\n",
              "    </tr>\n",
              "    <tr>\n",
              "      <th>1</th>\n",
              "      <td>BMW</td>\n",
              "      <td>Blue</td>\n",
              "      <td>192714</td>\n",
              "      <td>5</td>\n",
              "      <td>19943</td>\n",
              "    </tr>\n",
              "    <tr>\n",
              "      <th>2</th>\n",
              "      <td>Honda</td>\n",
              "      <td>White</td>\n",
              "      <td>84714</td>\n",
              "      <td>4</td>\n",
              "      <td>28343</td>\n",
              "    </tr>\n",
              "    <tr>\n",
              "      <th>3</th>\n",
              "      <td>Toyota</td>\n",
              "      <td>White</td>\n",
              "      <td>154365</td>\n",
              "      <td>4</td>\n",
              "      <td>13434</td>\n",
              "    </tr>\n",
              "    <tr>\n",
              "      <th>4</th>\n",
              "      <td>Nissan</td>\n",
              "      <td>Blue</td>\n",
              "      <td>181577</td>\n",
              "      <td>3</td>\n",
              "      <td>14043</td>\n",
              "    </tr>\n",
              "  </tbody>\n",
              "</table>\n",
              "</div>"
            ],
            "text/plain": [
              "     Make Colour  Odometer (KM)  Doors  Price\n",
              "0   Honda  White          35431      4  15323\n",
              "1     BMW   Blue         192714      5  19943\n",
              "2   Honda  White          84714      4  28343\n",
              "3  Toyota  White         154365      4  13434\n",
              "4  Nissan   Blue         181577      3  14043"
            ]
          },
          "metadata": {
            "tags": []
          },
          "execution_count": 173
        }
      ]
    },
    {
      "cell_type": "code",
      "metadata": {
        "colab": {
          "base_uri": "https://localhost:8080/"
        },
        "id": "cFA5beyQ5fcu",
        "outputId": "2d15e3bc-4bc5-48c2-8b26-ccc6f0b0e56a"
      },
      "source": [
        "len(car_sales)"
      ],
      "execution_count": null,
      "outputs": [
        {
          "output_type": "execute_result",
          "data": {
            "text/plain": [
              "1000"
            ]
          },
          "metadata": {
            "tags": []
          },
          "execution_count": 174
        }
      ]
    },
    {
      "cell_type": "code",
      "metadata": {
        "colab": {
          "base_uri": "https://localhost:8080/"
        },
        "id": "vS_TYUg15mFy",
        "outputId": "39fc3e8e-8579-4376-c040-7eee9e9bf1b7"
      },
      "source": [
        "car_sales.dtypes"
      ],
      "execution_count": null,
      "outputs": [
        {
          "output_type": "execute_result",
          "data": {
            "text/plain": [
              "Make             object\n",
              "Colour           object\n",
              "Odometer (KM)     int64\n",
              "Doors             int64\n",
              "Price             int64\n",
              "dtype: object"
            ]
          },
          "metadata": {
            "tags": []
          },
          "execution_count": 175
        }
      ]
    },
    {
      "cell_type": "code",
      "metadata": {
        "colab": {
          "base_uri": "https://localhost:8080/"
        },
        "id": "MKc9kgcy7Ub4",
        "outputId": "650c7063-891b-4177-e801-1aaf12f40a7e"
      },
      "source": [
        "car_sales[\"Doors\"].value_counts()"
      ],
      "execution_count": null,
      "outputs": [
        {
          "output_type": "execute_result",
          "data": {
            "text/plain": [
              "4    856\n",
              "5     79\n",
              "3     65\n",
              "Name: Doors, dtype: int64"
            ]
          },
          "metadata": {
            "tags": []
          },
          "execution_count": 176
        }
      ]
    },
    {
      "cell_type": "code",
      "metadata": {
        "colab": {
          "base_uri": "https://localhost:8080/"
        },
        "id": "mE0z4ZgY7am3",
        "outputId": "7be50195-9fc9-4f4d-a7cf-6dd5be7d3bf0"
      },
      "source": [
        "car_sales[\"Make\"].value_counts()"
      ],
      "execution_count": null,
      "outputs": [
        {
          "output_type": "execute_result",
          "data": {
            "text/plain": [
              "Toyota    398\n",
              "Honda     304\n",
              "Nissan    198\n",
              "BMW       100\n",
              "Name: Make, dtype: int64"
            ]
          },
          "metadata": {
            "tags": []
          },
          "execution_count": 177
        }
      ]
    },
    {
      "cell_type": "code",
      "metadata": {
        "id": "Rl5cuKtY5oMM"
      },
      "source": [
        "# Split the data into X/y\n",
        "X = car_sales.drop(\"Price\", axis=1)\n",
        "y = car_sales[\"Price\"]\n",
        "\n",
        "# Split into training and testing data\n",
        "X_train, X_test, y_train, y_test = train_test_split(X, y, test_size=0.2)"
      ],
      "execution_count": null,
      "outputs": []
    },
    {
      "cell_type": "code",
      "metadata": {
        "colab": {
          "base_uri": "https://localhost:8080/"
        },
        "id": "CJcjC9ld66lW",
        "outputId": "b34bd1bc-b85e-425f-b1a3-3294e0955c70"
      },
      "source": [
        "# Turn the categories into numbers\n",
        "from sklearn.preprocessing import OneHotEncoder\n",
        "from sklearn.compose import ColumnTransformer\n",
        "\n",
        "categorical_features = [\"Make\", \"Colour\", \"Doors\"]\n",
        "one_hot = OneHotEncoder()\n",
        "transformer = ColumnTransformer([(\"one_hot\", one_hot, categorical_features)], remainder=\"passthrough\")\n",
        "\n",
        "transformed_X = transformer.fit_transform(X)\n",
        "transformed_X"
      ],
      "execution_count": null,
      "outputs": [
        {
          "output_type": "execute_result",
          "data": {
            "text/plain": [
              "array([[0.00000e+00, 1.00000e+00, 0.00000e+00, ..., 1.00000e+00,\n",
              "        0.00000e+00, 3.54310e+04],\n",
              "       [1.00000e+00, 0.00000e+00, 0.00000e+00, ..., 0.00000e+00,\n",
              "        1.00000e+00, 1.92714e+05],\n",
              "       [0.00000e+00, 1.00000e+00, 0.00000e+00, ..., 1.00000e+00,\n",
              "        0.00000e+00, 8.47140e+04],\n",
              "       ...,\n",
              "       [0.00000e+00, 0.00000e+00, 1.00000e+00, ..., 1.00000e+00,\n",
              "        0.00000e+00, 6.66040e+04],\n",
              "       [0.00000e+00, 1.00000e+00, 0.00000e+00, ..., 1.00000e+00,\n",
              "        0.00000e+00, 2.15883e+05],\n",
              "       [0.00000e+00, 0.00000e+00, 0.00000e+00, ..., 1.00000e+00,\n",
              "        0.00000e+00, 2.48360e+05]])"
            ]
          },
          "metadata": {
            "tags": []
          },
          "execution_count": 179
        }
      ]
    },
    {
      "cell_type": "code",
      "metadata": {
        "colab": {
          "base_uri": "https://localhost:8080/"
        },
        "id": "dbdKJ-idiu17",
        "outputId": "7e645ade-4bb5-4dfc-f551-a7ad57330c20"
      },
      "source": [
        "X.head()"
      ],
      "execution_count": null,
      "outputs": [
        {
          "output_type": "execute_result",
          "data": {
            "text/html": [
              "<div>\n",
              "<style scoped>\n",
              "    .dataframe tbody tr th:only-of-type {\n",
              "        vertical-align: middle;\n",
              "    }\n",
              "\n",
              "    .dataframe tbody tr th {\n",
              "        vertical-align: top;\n",
              "    }\n",
              "\n",
              "    .dataframe thead th {\n",
              "        text-align: right;\n",
              "    }\n",
              "</style>\n",
              "<table border=\"1\" class=\"dataframe\">\n",
              "  <thead>\n",
              "    <tr style=\"text-align: right;\">\n",
              "      <th></th>\n",
              "      <th>Make</th>\n",
              "      <th>Colour</th>\n",
              "      <th>Odometer (KM)</th>\n",
              "      <th>Doors</th>\n",
              "    </tr>\n",
              "  </thead>\n",
              "  <tbody>\n",
              "    <tr>\n",
              "      <th>0</th>\n",
              "      <td>Honda</td>\n",
              "      <td>White</td>\n",
              "      <td>35431</td>\n",
              "      <td>4</td>\n",
              "    </tr>\n",
              "    <tr>\n",
              "      <th>1</th>\n",
              "      <td>BMW</td>\n",
              "      <td>Blue</td>\n",
              "      <td>192714</td>\n",
              "      <td>5</td>\n",
              "    </tr>\n",
              "    <tr>\n",
              "      <th>2</th>\n",
              "      <td>Honda</td>\n",
              "      <td>White</td>\n",
              "      <td>84714</td>\n",
              "      <td>4</td>\n",
              "    </tr>\n",
              "    <tr>\n",
              "      <th>3</th>\n",
              "      <td>Toyota</td>\n",
              "      <td>White</td>\n",
              "      <td>154365</td>\n",
              "      <td>4</td>\n",
              "    </tr>\n",
              "    <tr>\n",
              "      <th>4</th>\n",
              "      <td>Nissan</td>\n",
              "      <td>Blue</td>\n",
              "      <td>181577</td>\n",
              "      <td>3</td>\n",
              "    </tr>\n",
              "  </tbody>\n",
              "</table>\n",
              "</div>"
            ],
            "text/plain": [
              "     Make Colour  Odometer (KM)  Doors\n",
              "0   Honda  White          35431      4\n",
              "1     BMW   Blue         192714      5\n",
              "2   Honda  White          84714      4\n",
              "3  Toyota  White         154365      4\n",
              "4  Nissan   Blue         181577      3"
            ]
          },
          "metadata": {
            "tags": []
          },
          "execution_count": 180
        }
      ]
    },
    {
      "cell_type": "code",
      "metadata": {
        "colab": {
          "base_uri": "https://localhost:8080/"
        },
        "id": "MhtW1g6NiRA9",
        "outputId": "f13e1c08-a2e8-437a-83c2-d758d96a37e8"
      },
      "source": [
        "pd.DataFrame(transformed_X)"
      ],
      "execution_count": null,
      "outputs": [
        {
          "output_type": "execute_result",
          "data": {
            "text/html": [
              "<div>\n",
              "<style scoped>\n",
              "    .dataframe tbody tr th:only-of-type {\n",
              "        vertical-align: middle;\n",
              "    }\n",
              "\n",
              "    .dataframe tbody tr th {\n",
              "        vertical-align: top;\n",
              "    }\n",
              "\n",
              "    .dataframe thead th {\n",
              "        text-align: right;\n",
              "    }\n",
              "</style>\n",
              "<table border=\"1\" class=\"dataframe\">\n",
              "  <thead>\n",
              "    <tr style=\"text-align: right;\">\n",
              "      <th></th>\n",
              "      <th>0</th>\n",
              "      <th>1</th>\n",
              "      <th>2</th>\n",
              "      <th>3</th>\n",
              "      <th>4</th>\n",
              "      <th>5</th>\n",
              "      <th>6</th>\n",
              "      <th>7</th>\n",
              "      <th>8</th>\n",
              "      <th>9</th>\n",
              "      <th>10</th>\n",
              "      <th>11</th>\n",
              "      <th>12</th>\n",
              "    </tr>\n",
              "  </thead>\n",
              "  <tbody>\n",
              "    <tr>\n",
              "      <th>0</th>\n",
              "      <td>0.0</td>\n",
              "      <td>1.0</td>\n",
              "      <td>0.0</td>\n",
              "      <td>0.0</td>\n",
              "      <td>0.0</td>\n",
              "      <td>0.0</td>\n",
              "      <td>0.0</td>\n",
              "      <td>0.0</td>\n",
              "      <td>1.0</td>\n",
              "      <td>0.0</td>\n",
              "      <td>1.0</td>\n",
              "      <td>0.0</td>\n",
              "      <td>35431.0</td>\n",
              "    </tr>\n",
              "    <tr>\n",
              "      <th>1</th>\n",
              "      <td>1.0</td>\n",
              "      <td>0.0</td>\n",
              "      <td>0.0</td>\n",
              "      <td>0.0</td>\n",
              "      <td>0.0</td>\n",
              "      <td>1.0</td>\n",
              "      <td>0.0</td>\n",
              "      <td>0.0</td>\n",
              "      <td>0.0</td>\n",
              "      <td>0.0</td>\n",
              "      <td>0.0</td>\n",
              "      <td>1.0</td>\n",
              "      <td>192714.0</td>\n",
              "    </tr>\n",
              "    <tr>\n",
              "      <th>2</th>\n",
              "      <td>0.0</td>\n",
              "      <td>1.0</td>\n",
              "      <td>0.0</td>\n",
              "      <td>0.0</td>\n",
              "      <td>0.0</td>\n",
              "      <td>0.0</td>\n",
              "      <td>0.0</td>\n",
              "      <td>0.0</td>\n",
              "      <td>1.0</td>\n",
              "      <td>0.0</td>\n",
              "      <td>1.0</td>\n",
              "      <td>0.0</td>\n",
              "      <td>84714.0</td>\n",
              "    </tr>\n",
              "    <tr>\n",
              "      <th>3</th>\n",
              "      <td>0.0</td>\n",
              "      <td>0.0</td>\n",
              "      <td>0.0</td>\n",
              "      <td>1.0</td>\n",
              "      <td>0.0</td>\n",
              "      <td>0.0</td>\n",
              "      <td>0.0</td>\n",
              "      <td>0.0</td>\n",
              "      <td>1.0</td>\n",
              "      <td>0.0</td>\n",
              "      <td>1.0</td>\n",
              "      <td>0.0</td>\n",
              "      <td>154365.0</td>\n",
              "    </tr>\n",
              "    <tr>\n",
              "      <th>4</th>\n",
              "      <td>0.0</td>\n",
              "      <td>0.0</td>\n",
              "      <td>1.0</td>\n",
              "      <td>0.0</td>\n",
              "      <td>0.0</td>\n",
              "      <td>1.0</td>\n",
              "      <td>0.0</td>\n",
              "      <td>0.0</td>\n",
              "      <td>0.0</td>\n",
              "      <td>1.0</td>\n",
              "      <td>0.0</td>\n",
              "      <td>0.0</td>\n",
              "      <td>181577.0</td>\n",
              "    </tr>\n",
              "    <tr>\n",
              "      <th>...</th>\n",
              "      <td>...</td>\n",
              "      <td>...</td>\n",
              "      <td>...</td>\n",
              "      <td>...</td>\n",
              "      <td>...</td>\n",
              "      <td>...</td>\n",
              "      <td>...</td>\n",
              "      <td>...</td>\n",
              "      <td>...</td>\n",
              "      <td>...</td>\n",
              "      <td>...</td>\n",
              "      <td>...</td>\n",
              "      <td>...</td>\n",
              "    </tr>\n",
              "    <tr>\n",
              "      <th>995</th>\n",
              "      <td>0.0</td>\n",
              "      <td>0.0</td>\n",
              "      <td>0.0</td>\n",
              "      <td>1.0</td>\n",
              "      <td>1.0</td>\n",
              "      <td>0.0</td>\n",
              "      <td>0.0</td>\n",
              "      <td>0.0</td>\n",
              "      <td>0.0</td>\n",
              "      <td>0.0</td>\n",
              "      <td>1.0</td>\n",
              "      <td>0.0</td>\n",
              "      <td>35820.0</td>\n",
              "    </tr>\n",
              "    <tr>\n",
              "      <th>996</th>\n",
              "      <td>0.0</td>\n",
              "      <td>0.0</td>\n",
              "      <td>1.0</td>\n",
              "      <td>0.0</td>\n",
              "      <td>0.0</td>\n",
              "      <td>0.0</td>\n",
              "      <td>0.0</td>\n",
              "      <td>0.0</td>\n",
              "      <td>1.0</td>\n",
              "      <td>1.0</td>\n",
              "      <td>0.0</td>\n",
              "      <td>0.0</td>\n",
              "      <td>155144.0</td>\n",
              "    </tr>\n",
              "    <tr>\n",
              "      <th>997</th>\n",
              "      <td>0.0</td>\n",
              "      <td>0.0</td>\n",
              "      <td>1.0</td>\n",
              "      <td>0.0</td>\n",
              "      <td>0.0</td>\n",
              "      <td>1.0</td>\n",
              "      <td>0.0</td>\n",
              "      <td>0.0</td>\n",
              "      <td>0.0</td>\n",
              "      <td>0.0</td>\n",
              "      <td>1.0</td>\n",
              "      <td>0.0</td>\n",
              "      <td>66604.0</td>\n",
              "    </tr>\n",
              "    <tr>\n",
              "      <th>998</th>\n",
              "      <td>0.0</td>\n",
              "      <td>1.0</td>\n",
              "      <td>0.0</td>\n",
              "      <td>0.0</td>\n",
              "      <td>0.0</td>\n",
              "      <td>0.0</td>\n",
              "      <td>0.0</td>\n",
              "      <td>0.0</td>\n",
              "      <td>1.0</td>\n",
              "      <td>0.0</td>\n",
              "      <td>1.0</td>\n",
              "      <td>0.0</td>\n",
              "      <td>215883.0</td>\n",
              "    </tr>\n",
              "    <tr>\n",
              "      <th>999</th>\n",
              "      <td>0.0</td>\n",
              "      <td>0.0</td>\n",
              "      <td>0.0</td>\n",
              "      <td>1.0</td>\n",
              "      <td>0.0</td>\n",
              "      <td>1.0</td>\n",
              "      <td>0.0</td>\n",
              "      <td>0.0</td>\n",
              "      <td>0.0</td>\n",
              "      <td>0.0</td>\n",
              "      <td>1.0</td>\n",
              "      <td>0.0</td>\n",
              "      <td>248360.0</td>\n",
              "    </tr>\n",
              "  </tbody>\n",
              "</table>\n",
              "<p>1000 rows × 13 columns</p>\n",
              "</div>"
            ],
            "text/plain": [
              "      0    1    2    3    4    5    6    7    8    9    10   11        12\n",
              "0    0.0  1.0  0.0  0.0  0.0  0.0  0.0  0.0  1.0  0.0  1.0  0.0   35431.0\n",
              "1    1.0  0.0  0.0  0.0  0.0  1.0  0.0  0.0  0.0  0.0  0.0  1.0  192714.0\n",
              "2    0.0  1.0  0.0  0.0  0.0  0.0  0.0  0.0  1.0  0.0  1.0  0.0   84714.0\n",
              "3    0.0  0.0  0.0  1.0  0.0  0.0  0.0  0.0  1.0  0.0  1.0  0.0  154365.0\n",
              "4    0.0  0.0  1.0  0.0  0.0  1.0  0.0  0.0  0.0  1.0  0.0  0.0  181577.0\n",
              "..   ...  ...  ...  ...  ...  ...  ...  ...  ...  ...  ...  ...       ...\n",
              "995  0.0  0.0  0.0  1.0  1.0  0.0  0.0  0.0  0.0  0.0  1.0  0.0   35820.0\n",
              "996  0.0  0.0  1.0  0.0  0.0  0.0  0.0  0.0  1.0  1.0  0.0  0.0  155144.0\n",
              "997  0.0  0.0  1.0  0.0  0.0  1.0  0.0  0.0  0.0  0.0  1.0  0.0   66604.0\n",
              "998  0.0  1.0  0.0  0.0  0.0  0.0  0.0  0.0  1.0  0.0  1.0  0.0  215883.0\n",
              "999  0.0  0.0  0.0  1.0  0.0  1.0  0.0  0.0  0.0  0.0  1.0  0.0  248360.0\n",
              "\n",
              "[1000 rows x 13 columns]"
            ]
          },
          "metadata": {
            "tags": []
          },
          "execution_count": 181
        }
      ]
    },
    {
      "cell_type": "code",
      "metadata": {
        "colab": {
          "base_uri": "https://localhost:8080/"
        },
        "id": "aZQaijcHjr9t",
        "outputId": "7e275c2d-30ab-4d62-aa8c-b4a921904164"
      },
      "source": [
        "# Alternatively you can do this\n",
        "dummies = pd.get_dummies(car_sales[[\"Make\", \"Colour\", \"Doors\"]])\n",
        "dummies"
      ],
      "execution_count": null,
      "outputs": [
        {
          "output_type": "execute_result",
          "data": {
            "text/html": [
              "<div>\n",
              "<style scoped>\n",
              "    .dataframe tbody tr th:only-of-type {\n",
              "        vertical-align: middle;\n",
              "    }\n",
              "\n",
              "    .dataframe tbody tr th {\n",
              "        vertical-align: top;\n",
              "    }\n",
              "\n",
              "    .dataframe thead th {\n",
              "        text-align: right;\n",
              "    }\n",
              "</style>\n",
              "<table border=\"1\" class=\"dataframe\">\n",
              "  <thead>\n",
              "    <tr style=\"text-align: right;\">\n",
              "      <th></th>\n",
              "      <th>Doors</th>\n",
              "      <th>Make_BMW</th>\n",
              "      <th>Make_Honda</th>\n",
              "      <th>Make_Nissan</th>\n",
              "      <th>Make_Toyota</th>\n",
              "      <th>Colour_Black</th>\n",
              "      <th>Colour_Blue</th>\n",
              "      <th>Colour_Green</th>\n",
              "      <th>Colour_Red</th>\n",
              "      <th>Colour_White</th>\n",
              "    </tr>\n",
              "  </thead>\n",
              "  <tbody>\n",
              "    <tr>\n",
              "      <th>0</th>\n",
              "      <td>4</td>\n",
              "      <td>0</td>\n",
              "      <td>1</td>\n",
              "      <td>0</td>\n",
              "      <td>0</td>\n",
              "      <td>0</td>\n",
              "      <td>0</td>\n",
              "      <td>0</td>\n",
              "      <td>0</td>\n",
              "      <td>1</td>\n",
              "    </tr>\n",
              "    <tr>\n",
              "      <th>1</th>\n",
              "      <td>5</td>\n",
              "      <td>1</td>\n",
              "      <td>0</td>\n",
              "      <td>0</td>\n",
              "      <td>0</td>\n",
              "      <td>0</td>\n",
              "      <td>1</td>\n",
              "      <td>0</td>\n",
              "      <td>0</td>\n",
              "      <td>0</td>\n",
              "    </tr>\n",
              "    <tr>\n",
              "      <th>2</th>\n",
              "      <td>4</td>\n",
              "      <td>0</td>\n",
              "      <td>1</td>\n",
              "      <td>0</td>\n",
              "      <td>0</td>\n",
              "      <td>0</td>\n",
              "      <td>0</td>\n",
              "      <td>0</td>\n",
              "      <td>0</td>\n",
              "      <td>1</td>\n",
              "    </tr>\n",
              "    <tr>\n",
              "      <th>3</th>\n",
              "      <td>4</td>\n",
              "      <td>0</td>\n",
              "      <td>0</td>\n",
              "      <td>0</td>\n",
              "      <td>1</td>\n",
              "      <td>0</td>\n",
              "      <td>0</td>\n",
              "      <td>0</td>\n",
              "      <td>0</td>\n",
              "      <td>1</td>\n",
              "    </tr>\n",
              "    <tr>\n",
              "      <th>4</th>\n",
              "      <td>3</td>\n",
              "      <td>0</td>\n",
              "      <td>0</td>\n",
              "      <td>1</td>\n",
              "      <td>0</td>\n",
              "      <td>0</td>\n",
              "      <td>1</td>\n",
              "      <td>0</td>\n",
              "      <td>0</td>\n",
              "      <td>0</td>\n",
              "    </tr>\n",
              "    <tr>\n",
              "      <th>...</th>\n",
              "      <td>...</td>\n",
              "      <td>...</td>\n",
              "      <td>...</td>\n",
              "      <td>...</td>\n",
              "      <td>...</td>\n",
              "      <td>...</td>\n",
              "      <td>...</td>\n",
              "      <td>...</td>\n",
              "      <td>...</td>\n",
              "      <td>...</td>\n",
              "    </tr>\n",
              "    <tr>\n",
              "      <th>995</th>\n",
              "      <td>4</td>\n",
              "      <td>0</td>\n",
              "      <td>0</td>\n",
              "      <td>0</td>\n",
              "      <td>1</td>\n",
              "      <td>1</td>\n",
              "      <td>0</td>\n",
              "      <td>0</td>\n",
              "      <td>0</td>\n",
              "      <td>0</td>\n",
              "    </tr>\n",
              "    <tr>\n",
              "      <th>996</th>\n",
              "      <td>3</td>\n",
              "      <td>0</td>\n",
              "      <td>0</td>\n",
              "      <td>1</td>\n",
              "      <td>0</td>\n",
              "      <td>0</td>\n",
              "      <td>0</td>\n",
              "      <td>0</td>\n",
              "      <td>0</td>\n",
              "      <td>1</td>\n",
              "    </tr>\n",
              "    <tr>\n",
              "      <th>997</th>\n",
              "      <td>4</td>\n",
              "      <td>0</td>\n",
              "      <td>0</td>\n",
              "      <td>1</td>\n",
              "      <td>0</td>\n",
              "      <td>0</td>\n",
              "      <td>1</td>\n",
              "      <td>0</td>\n",
              "      <td>0</td>\n",
              "      <td>0</td>\n",
              "    </tr>\n",
              "    <tr>\n",
              "      <th>998</th>\n",
              "      <td>4</td>\n",
              "      <td>0</td>\n",
              "      <td>1</td>\n",
              "      <td>0</td>\n",
              "      <td>0</td>\n",
              "      <td>0</td>\n",
              "      <td>0</td>\n",
              "      <td>0</td>\n",
              "      <td>0</td>\n",
              "      <td>1</td>\n",
              "    </tr>\n",
              "    <tr>\n",
              "      <th>999</th>\n",
              "      <td>4</td>\n",
              "      <td>0</td>\n",
              "      <td>0</td>\n",
              "      <td>0</td>\n",
              "      <td>1</td>\n",
              "      <td>0</td>\n",
              "      <td>1</td>\n",
              "      <td>0</td>\n",
              "      <td>0</td>\n",
              "      <td>0</td>\n",
              "    </tr>\n",
              "  </tbody>\n",
              "</table>\n",
              "<p>1000 rows × 10 columns</p>\n",
              "</div>"
            ],
            "text/plain": [
              "     Doors  Make_BMW  Make_Honda  ...  Colour_Green  Colour_Red  Colour_White\n",
              "0        4         0           1  ...             0           0             1\n",
              "1        5         1           0  ...             0           0             0\n",
              "2        4         0           1  ...             0           0             1\n",
              "3        4         0           0  ...             0           0             1\n",
              "4        3         0           0  ...             0           0             0\n",
              "..     ...       ...         ...  ...           ...         ...           ...\n",
              "995      4         0           0  ...             0           0             0\n",
              "996      3         0           0  ...             0           0             1\n",
              "997      4         0           0  ...             0           0             0\n",
              "998      4         0           1  ...             0           0             1\n",
              "999      4         0           0  ...             0           0             0\n",
              "\n",
              "[1000 rows x 10 columns]"
            ]
          },
          "metadata": {
            "tags": []
          },
          "execution_count": 182
        }
      ]
    },
    {
      "cell_type": "code",
      "metadata": {
        "id": "wjcnOpt16Zzu"
      },
      "source": [
        "# Build Machine Learning Model\n",
        "from sklearn.ensemble import RandomForestRegressor\n",
        "\n",
        "model = RandomForestRegressor()\n",
        "\n",
        "# model.fit(X_train, y_train)\n",
        "# model.score(X_test, y_test)\n",
        "# These won't work because some data in the dataframe are not numerical"
      ],
      "execution_count": null,
      "outputs": []
    },
    {
      "cell_type": "code",
      "metadata": {
        "colab": {
          "base_uri": "https://localhost:8080/"
        },
        "id": "LeCb1BBilPIf",
        "outputId": "fefcb03f-c58c-4e3e-c940-d27e12ab01e5"
      },
      "source": [
        "# Let's refit the model\n",
        "np.random.seed(42)\n",
        "X_train, X_test, y_train, y_test = train_test_split(transformed_X, y, test_size = 0.2)\n",
        "\n",
        "model.fit(X_train, y_train)"
      ],
      "execution_count": null,
      "outputs": [
        {
          "output_type": "execute_result",
          "data": {
            "text/plain": [
              "RandomForestRegressor(bootstrap=True, ccp_alpha=0.0, criterion='mse',\n",
              "                      max_depth=None, max_features='auto', max_leaf_nodes=None,\n",
              "                      max_samples=None, min_impurity_decrease=0.0,\n",
              "                      min_impurity_split=None, min_samples_leaf=1,\n",
              "                      min_samples_split=2, min_weight_fraction_leaf=0.0,\n",
              "                      n_estimators=100, n_jobs=None, oob_score=False,\n",
              "                      random_state=None, verbose=0, warm_start=False)"
            ]
          },
          "metadata": {
            "tags": []
          },
          "execution_count": 184
        }
      ]
    },
    {
      "cell_type": "code",
      "metadata": {
        "colab": {
          "base_uri": "https://localhost:8080/"
        },
        "id": "x3XREUsJlmrU",
        "outputId": "feab891a-af02-4d19-9c9a-51fb957c411d"
      },
      "source": [
        "model.score(X_test, y_test)"
      ],
      "execution_count": null,
      "outputs": [
        {
          "output_type": "execute_result",
          "data": {
            "text/plain": [
              "0.3235867221569877"
            ]
          },
          "metadata": {
            "tags": []
          },
          "execution_count": 185
        }
      ]
    },
    {
      "cell_type": "markdown",
      "metadata": {
        "id": "fQZ5YlPyxIPm"
      },
      "source": [
        "**Getting Our Data Ready: Handling Missing Data using Pandas**"
      ]
    },
    {
      "cell_type": "markdown",
      "metadata": {
        "id": "JbI5YWA-onHH"
      },
      "source": [
        "*1.2 What if there were some missing values?*\n",
        "\n",
        "1. Fill them with some value (also known as imputation).\n",
        "2. Remove the samples with missing data altogether."
      ]
    },
    {
      "cell_type": "code",
      "metadata": {
        "colab": {
          "base_uri": "https://localhost:8080/"
        },
        "id": "-rzZMldmlrKZ",
        "outputId": "647a83b4-59d8-405a-f2b3-cdeb300dc0a9"
      },
      "source": [
        "# Import car sales missing data\n",
        "car_sales_missing = pd.read_csv(\"https://raw.githubusercontent.com/mrdbourke/zero-to-mastery-ml/master/data/car-sales-extended-missing-data.csv\")\n",
        "car_sales_missing.head()"
      ],
      "execution_count": null,
      "outputs": [
        {
          "output_type": "execute_result",
          "data": {
            "text/html": [
              "<div>\n",
              "<style scoped>\n",
              "    .dataframe tbody tr th:only-of-type {\n",
              "        vertical-align: middle;\n",
              "    }\n",
              "\n",
              "    .dataframe tbody tr th {\n",
              "        vertical-align: top;\n",
              "    }\n",
              "\n",
              "    .dataframe thead th {\n",
              "        text-align: right;\n",
              "    }\n",
              "</style>\n",
              "<table border=\"1\" class=\"dataframe\">\n",
              "  <thead>\n",
              "    <tr style=\"text-align: right;\">\n",
              "      <th></th>\n",
              "      <th>Make</th>\n",
              "      <th>Colour</th>\n",
              "      <th>Odometer (KM)</th>\n",
              "      <th>Doors</th>\n",
              "      <th>Price</th>\n",
              "    </tr>\n",
              "  </thead>\n",
              "  <tbody>\n",
              "    <tr>\n",
              "      <th>0</th>\n",
              "      <td>Honda</td>\n",
              "      <td>White</td>\n",
              "      <td>35431.0</td>\n",
              "      <td>4.0</td>\n",
              "      <td>15323.0</td>\n",
              "    </tr>\n",
              "    <tr>\n",
              "      <th>1</th>\n",
              "      <td>BMW</td>\n",
              "      <td>Blue</td>\n",
              "      <td>192714.0</td>\n",
              "      <td>5.0</td>\n",
              "      <td>19943.0</td>\n",
              "    </tr>\n",
              "    <tr>\n",
              "      <th>2</th>\n",
              "      <td>Honda</td>\n",
              "      <td>White</td>\n",
              "      <td>84714.0</td>\n",
              "      <td>4.0</td>\n",
              "      <td>28343.0</td>\n",
              "    </tr>\n",
              "    <tr>\n",
              "      <th>3</th>\n",
              "      <td>Toyota</td>\n",
              "      <td>White</td>\n",
              "      <td>154365.0</td>\n",
              "      <td>4.0</td>\n",
              "      <td>13434.0</td>\n",
              "    </tr>\n",
              "    <tr>\n",
              "      <th>4</th>\n",
              "      <td>Nissan</td>\n",
              "      <td>Blue</td>\n",
              "      <td>181577.0</td>\n",
              "      <td>3.0</td>\n",
              "      <td>14043.0</td>\n",
              "    </tr>\n",
              "  </tbody>\n",
              "</table>\n",
              "</div>"
            ],
            "text/plain": [
              "     Make Colour  Odometer (KM)  Doors    Price\n",
              "0   Honda  White        35431.0    4.0  15323.0\n",
              "1     BMW   Blue       192714.0    5.0  19943.0\n",
              "2   Honda  White        84714.0    4.0  28343.0\n",
              "3  Toyota  White       154365.0    4.0  13434.0\n",
              "4  Nissan   Blue       181577.0    3.0  14043.0"
            ]
          },
          "metadata": {
            "tags": []
          },
          "execution_count": 186
        }
      ]
    },
    {
      "cell_type": "code",
      "metadata": {
        "colab": {
          "base_uri": "https://localhost:8080/"
        },
        "id": "cUwkdsKftMm-",
        "outputId": "4eba9766-e9ad-4841-c722-290a548d8fbe"
      },
      "source": [
        "car_sales_missing"
      ],
      "execution_count": null,
      "outputs": [
        {
          "output_type": "execute_result",
          "data": {
            "text/html": [
              "<div>\n",
              "<style scoped>\n",
              "    .dataframe tbody tr th:only-of-type {\n",
              "        vertical-align: middle;\n",
              "    }\n",
              "\n",
              "    .dataframe tbody tr th {\n",
              "        vertical-align: top;\n",
              "    }\n",
              "\n",
              "    .dataframe thead th {\n",
              "        text-align: right;\n",
              "    }\n",
              "</style>\n",
              "<table border=\"1\" class=\"dataframe\">\n",
              "  <thead>\n",
              "    <tr style=\"text-align: right;\">\n",
              "      <th></th>\n",
              "      <th>Make</th>\n",
              "      <th>Colour</th>\n",
              "      <th>Odometer (KM)</th>\n",
              "      <th>Doors</th>\n",
              "      <th>Price</th>\n",
              "    </tr>\n",
              "  </thead>\n",
              "  <tbody>\n",
              "    <tr>\n",
              "      <th>0</th>\n",
              "      <td>Honda</td>\n",
              "      <td>White</td>\n",
              "      <td>35431.0</td>\n",
              "      <td>4.0</td>\n",
              "      <td>15323.0</td>\n",
              "    </tr>\n",
              "    <tr>\n",
              "      <th>1</th>\n",
              "      <td>BMW</td>\n",
              "      <td>Blue</td>\n",
              "      <td>192714.0</td>\n",
              "      <td>5.0</td>\n",
              "      <td>19943.0</td>\n",
              "    </tr>\n",
              "    <tr>\n",
              "      <th>2</th>\n",
              "      <td>Honda</td>\n",
              "      <td>White</td>\n",
              "      <td>84714.0</td>\n",
              "      <td>4.0</td>\n",
              "      <td>28343.0</td>\n",
              "    </tr>\n",
              "    <tr>\n",
              "      <th>3</th>\n",
              "      <td>Toyota</td>\n",
              "      <td>White</td>\n",
              "      <td>154365.0</td>\n",
              "      <td>4.0</td>\n",
              "      <td>13434.0</td>\n",
              "    </tr>\n",
              "    <tr>\n",
              "      <th>4</th>\n",
              "      <td>Nissan</td>\n",
              "      <td>Blue</td>\n",
              "      <td>181577.0</td>\n",
              "      <td>3.0</td>\n",
              "      <td>14043.0</td>\n",
              "    </tr>\n",
              "    <tr>\n",
              "      <th>...</th>\n",
              "      <td>...</td>\n",
              "      <td>...</td>\n",
              "      <td>...</td>\n",
              "      <td>...</td>\n",
              "      <td>...</td>\n",
              "    </tr>\n",
              "    <tr>\n",
              "      <th>995</th>\n",
              "      <td>Toyota</td>\n",
              "      <td>Black</td>\n",
              "      <td>35820.0</td>\n",
              "      <td>4.0</td>\n",
              "      <td>32042.0</td>\n",
              "    </tr>\n",
              "    <tr>\n",
              "      <th>996</th>\n",
              "      <td>NaN</td>\n",
              "      <td>White</td>\n",
              "      <td>155144.0</td>\n",
              "      <td>3.0</td>\n",
              "      <td>5716.0</td>\n",
              "    </tr>\n",
              "    <tr>\n",
              "      <th>997</th>\n",
              "      <td>Nissan</td>\n",
              "      <td>Blue</td>\n",
              "      <td>66604.0</td>\n",
              "      <td>4.0</td>\n",
              "      <td>31570.0</td>\n",
              "    </tr>\n",
              "    <tr>\n",
              "      <th>998</th>\n",
              "      <td>Honda</td>\n",
              "      <td>White</td>\n",
              "      <td>215883.0</td>\n",
              "      <td>4.0</td>\n",
              "      <td>4001.0</td>\n",
              "    </tr>\n",
              "    <tr>\n",
              "      <th>999</th>\n",
              "      <td>Toyota</td>\n",
              "      <td>Blue</td>\n",
              "      <td>248360.0</td>\n",
              "      <td>4.0</td>\n",
              "      <td>12732.0</td>\n",
              "    </tr>\n",
              "  </tbody>\n",
              "</table>\n",
              "<p>1000 rows × 5 columns</p>\n",
              "</div>"
            ],
            "text/plain": [
              "       Make Colour  Odometer (KM)  Doors    Price\n",
              "0     Honda  White        35431.0    4.0  15323.0\n",
              "1       BMW   Blue       192714.0    5.0  19943.0\n",
              "2     Honda  White        84714.0    4.0  28343.0\n",
              "3    Toyota  White       154365.0    4.0  13434.0\n",
              "4    Nissan   Blue       181577.0    3.0  14043.0\n",
              "..      ...    ...            ...    ...      ...\n",
              "995  Toyota  Black        35820.0    4.0  32042.0\n",
              "996     NaN  White       155144.0    3.0   5716.0\n",
              "997  Nissan   Blue        66604.0    4.0  31570.0\n",
              "998   Honda  White       215883.0    4.0   4001.0\n",
              "999  Toyota   Blue       248360.0    4.0  12732.0\n",
              "\n",
              "[1000 rows x 5 columns]"
            ]
          },
          "metadata": {
            "tags": []
          },
          "execution_count": 187
        }
      ]
    },
    {
      "cell_type": "code",
      "metadata": {
        "colab": {
          "base_uri": "https://localhost:8080/"
        },
        "id": "_zoBQ6K8tPeM",
        "outputId": "acf84376-d581-4aa6-96cd-9f8fe38ac0f4"
      },
      "source": [
        "car_sales_missing.isna().sum()"
      ],
      "execution_count": null,
      "outputs": [
        {
          "output_type": "execute_result",
          "data": {
            "text/plain": [
              "Make             49\n",
              "Colour           50\n",
              "Odometer (KM)    50\n",
              "Doors            50\n",
              "Price            50\n",
              "dtype: int64"
            ]
          },
          "metadata": {
            "tags": []
          },
          "execution_count": 188
        }
      ]
    },
    {
      "cell_type": "code",
      "metadata": {
        "id": "0AYkML7FvKTA"
      },
      "source": [
        "# Create X & y\n",
        "X = car_sales_missing.drop(\"Price\", axis=1)\n",
        "y = car_sales_missing[\"Price\"]"
      ],
      "execution_count": null,
      "outputs": []
    },
    {
      "cell_type": "markdown",
      "metadata": {
        "id": "zi2zrCVxvfZ6"
      },
      "source": [
        "Option 1. Fill Missing Data With Pandas"
      ]
    },
    {
      "cell_type": "code",
      "metadata": {
        "id": "WxflC5Ervalr"
      },
      "source": [
        "# Fill the \"Make\" column\n",
        "car_sales_missing[\"Make\"].fillna(\"missing\", inplace=True)\n",
        "\n",
        "# Fill the \"Colour\" column\n",
        "car_sales_missing[\"Colour\"].fillna(\"missing\", inplace=True)\n",
        "\n",
        "# Fill the \"Odometer\" column\n",
        "car_sales_missing[\"Odometer (KM)\"].fillna(car_sales_missing[\"Odometer (KM)\"].mean(), inplace=True)\n",
        "\n",
        "# Fill the \"Doors\" column\n",
        "car_sales_missing[\"Doors\"].fillna(4, inplace=True) # Because most of the cars have 4 doors\n"
      ],
      "execution_count": null,
      "outputs": []
    },
    {
      "cell_type": "code",
      "metadata": {
        "id": "lF6H4qyAwamB"
      },
      "source": [
        "# Remove rows with missing \"Price\" values because that is what we'll predict\n",
        "# It's not easy to make prediction using missing labels\n",
        "\n",
        "car_sales_missing.dropna(inplace=True)"
      ],
      "execution_count": null,
      "outputs": []
    },
    {
      "cell_type": "code",
      "metadata": {
        "id": "wF9juErcwyJd"
      },
      "source": [
        "X = car_sales_missing.drop(\"Price\", axis=1)\n",
        "y = car_sales_missing[\"Price\"]"
      ],
      "execution_count": null,
      "outputs": []
    },
    {
      "cell_type": "code",
      "metadata": {
        "id": "huj5g-BBtZ78",
        "colab": {
          "base_uri": "https://localhost:8080/"
        },
        "outputId": "d04f160f-4423-4d72-e25a-eaa3a1a984e3"
      },
      "source": [
        "# Let's try to convert our data to numbers\n",
        "# Doing this without filling up missing data will lead to error\n",
        "\n",
        "from sklearn.preprocessing import OneHotEncoder\n",
        "from sklearn.compose import ColumnTransformer\n",
        "\n",
        "categorical_features = [\"Make\", \"Colour\", \"Doors\"]\n",
        "one_hot = OneHotEncoder()\n",
        "transformer = ColumnTransformer([(\"one_hot\", one_hot, categorical_features)], remainder=\"passthrough\")\n",
        "\n",
        "transformed_X = transformer.fit_transform(car_sales_missing)\n",
        "transformed_X"
      ],
      "execution_count": null,
      "outputs": [
        {
          "output_type": "execute_result",
          "data": {
            "text/plain": [
              "array([[0.00000e+00, 1.00000e+00, 0.00000e+00, ..., 0.00000e+00,\n",
              "        3.54310e+04, 1.53230e+04],\n",
              "       [1.00000e+00, 0.00000e+00, 0.00000e+00, ..., 1.00000e+00,\n",
              "        1.92714e+05, 1.99430e+04],\n",
              "       [0.00000e+00, 1.00000e+00, 0.00000e+00, ..., 0.00000e+00,\n",
              "        8.47140e+04, 2.83430e+04],\n",
              "       ...,\n",
              "       [0.00000e+00, 0.00000e+00, 1.00000e+00, ..., 0.00000e+00,\n",
              "        6.66040e+04, 3.15700e+04],\n",
              "       [0.00000e+00, 1.00000e+00, 0.00000e+00, ..., 0.00000e+00,\n",
              "        2.15883e+05, 4.00100e+03],\n",
              "       [0.00000e+00, 0.00000e+00, 0.00000e+00, ..., 0.00000e+00,\n",
              "        2.48360e+05, 1.27320e+04]])"
            ]
          },
          "metadata": {
            "tags": []
          },
          "execution_count": 193
        }
      ]
    },
    {
      "cell_type": "markdown",
      "metadata": {
        "id": "3i36Hl_18utX"
      },
      "source": [
        "**Getting Our Data Ready: Handling Missing Data Using Scikit-Learn**"
      ]
    },
    {
      "cell_type": "markdown",
      "metadata": {
        "id": "Yxl-NIsU6Hcq"
      },
      "source": [
        "Option 2. Fill Missing Values Using Scikit-Learn"
      ]
    },
    {
      "cell_type": "code",
      "metadata": {
        "colab": {
          "base_uri": "https://localhost:8080/"
        },
        "id": "aO8A209g54SY",
        "outputId": "14b53000-34c6-481f-d3d2-233170852289"
      },
      "source": [
        "car_sales_missing = pd.read_csv(\"https://raw.githubusercontent.com/mrdbourke/zero-to-mastery-ml/master/data/car-sales-extended-missing-data.csv\")\n",
        "car_sales_missing.head()"
      ],
      "execution_count": null,
      "outputs": [
        {
          "output_type": "execute_result",
          "data": {
            "text/html": [
              "<div>\n",
              "<style scoped>\n",
              "    .dataframe tbody tr th:only-of-type {\n",
              "        vertical-align: middle;\n",
              "    }\n",
              "\n",
              "    .dataframe tbody tr th {\n",
              "        vertical-align: top;\n",
              "    }\n",
              "\n",
              "    .dataframe thead th {\n",
              "        text-align: right;\n",
              "    }\n",
              "</style>\n",
              "<table border=\"1\" class=\"dataframe\">\n",
              "  <thead>\n",
              "    <tr style=\"text-align: right;\">\n",
              "      <th></th>\n",
              "      <th>Make</th>\n",
              "      <th>Colour</th>\n",
              "      <th>Odometer (KM)</th>\n",
              "      <th>Doors</th>\n",
              "      <th>Price</th>\n",
              "    </tr>\n",
              "  </thead>\n",
              "  <tbody>\n",
              "    <tr>\n",
              "      <th>0</th>\n",
              "      <td>Honda</td>\n",
              "      <td>White</td>\n",
              "      <td>35431.0</td>\n",
              "      <td>4.0</td>\n",
              "      <td>15323.0</td>\n",
              "    </tr>\n",
              "    <tr>\n",
              "      <th>1</th>\n",
              "      <td>BMW</td>\n",
              "      <td>Blue</td>\n",
              "      <td>192714.0</td>\n",
              "      <td>5.0</td>\n",
              "      <td>19943.0</td>\n",
              "    </tr>\n",
              "    <tr>\n",
              "      <th>2</th>\n",
              "      <td>Honda</td>\n",
              "      <td>White</td>\n",
              "      <td>84714.0</td>\n",
              "      <td>4.0</td>\n",
              "      <td>28343.0</td>\n",
              "    </tr>\n",
              "    <tr>\n",
              "      <th>3</th>\n",
              "      <td>Toyota</td>\n",
              "      <td>White</td>\n",
              "      <td>154365.0</td>\n",
              "      <td>4.0</td>\n",
              "      <td>13434.0</td>\n",
              "    </tr>\n",
              "    <tr>\n",
              "      <th>4</th>\n",
              "      <td>Nissan</td>\n",
              "      <td>Blue</td>\n",
              "      <td>181577.0</td>\n",
              "      <td>3.0</td>\n",
              "      <td>14043.0</td>\n",
              "    </tr>\n",
              "  </tbody>\n",
              "</table>\n",
              "</div>"
            ],
            "text/plain": [
              "     Make Colour  Odometer (KM)  Doors    Price\n",
              "0   Honda  White        35431.0    4.0  15323.0\n",
              "1     BMW   Blue       192714.0    5.0  19943.0\n",
              "2   Honda  White        84714.0    4.0  28343.0\n",
              "3  Toyota  White       154365.0    4.0  13434.0\n",
              "4  Nissan   Blue       181577.0    3.0  14043.0"
            ]
          },
          "metadata": {
            "tags": []
          },
          "execution_count": 194
        }
      ]
    },
    {
      "cell_type": "code",
      "metadata": {
        "colab": {
          "base_uri": "https://localhost:8080/"
        },
        "id": "Lk4cxV_t9IFy",
        "outputId": "10205c8c-deda-4b9e-8f18-73b9a2696c09"
      },
      "source": [
        "car_sales_missing.isna().sum()"
      ],
      "execution_count": null,
      "outputs": [
        {
          "output_type": "execute_result",
          "data": {
            "text/plain": [
              "Make             49\n",
              "Colour           50\n",
              "Odometer (KM)    50\n",
              "Doors            50\n",
              "Price            50\n",
              "dtype: int64"
            ]
          },
          "metadata": {
            "tags": []
          },
          "execution_count": 195
        }
      ]
    },
    {
      "cell_type": "code",
      "metadata": {
        "colab": {
          "base_uri": "https://localhost:8080/"
        },
        "id": "4b4-SI3U9bC1",
        "outputId": "582f507c-6526-4b01-b5ea-e974e64b3990"
      },
      "source": [
        "# Drop the rows with missing \"Price\" or Labels\n",
        "car_sales_missing.dropna(subset=[\"Price\"], inplace=True) # For missing values of \"Price\" only\n",
        "car_sales_missing.isna().sum()"
      ],
      "execution_count": null,
      "outputs": [
        {
          "output_type": "execute_result",
          "data": {
            "text/plain": [
              "Make             47\n",
              "Colour           46\n",
              "Odometer (KM)    48\n",
              "Doors            47\n",
              "Price             0\n",
              "dtype: int64"
            ]
          },
          "metadata": {
            "tags": []
          },
          "execution_count": 196
        }
      ]
    },
    {
      "cell_type": "code",
      "metadata": {
        "id": "Eq-_daQB9mme"
      },
      "source": [
        "# Split data into X & y\n",
        "X = car_sales_missing.drop(\"Price\", axis=1)\n",
        "y = car_sales_missing[\"Price\"]"
      ],
      "execution_count": null,
      "outputs": []
    },
    {
      "cell_type": "code",
      "metadata": {
        "colab": {
          "base_uri": "https://localhost:8080/"
        },
        "id": "mEsChcfu92wN",
        "outputId": "e8c76a63-567f-4da4-da05-47d75279f573"
      },
      "source": [
        "from sklearn.impute import SimpleImputer \n",
        "from sklearn.compose import ColumnTransformer\n",
        "\n",
        "# Fill Categorical values with \"missing\" & numerical values with mean\n",
        "cat_imputer = SimpleImputer(strategy=\"constant\", fill_value=\"missing\")\n",
        "door_imputer = SimpleImputer(strategy=\"constant\", fill_value=4)\n",
        "num_imputer = SimpleImputer(strategy=\"mean\")\n",
        "\n",
        "# Define Columns\n",
        "cat_features = [\"Make\", \"Colour\"]\n",
        "door_features = [\"Doors\"]\n",
        "num_features = [\"Odometer (KM)\"]\n",
        "\n",
        "# Create an imputer (something that fills missing data)\n",
        "imputer = ColumnTransformer([\n",
        "     (\"cat_imputer\", cat_imputer, cat_features),\n",
        "     (\"door_imputer\", door_imputer, door_features),\n",
        "     (\"num_imputer\", num_imputer, num_features)        \n",
        "])\n",
        "\n",
        "# Transform The Data\n",
        "filled_X = imputer.fit_transform(X)\n",
        "filled_X"
      ],
      "execution_count": null,
      "outputs": [
        {
          "output_type": "execute_result",
          "data": {
            "text/plain": [
              "array([['Honda', 'White', 4.0, 35431.0],\n",
              "       ['BMW', 'Blue', 5.0, 192714.0],\n",
              "       ['Honda', 'White', 4.0, 84714.0],\n",
              "       ...,\n",
              "       ['Nissan', 'Blue', 4.0, 66604.0],\n",
              "       ['Honda', 'White', 4.0, 215883.0],\n",
              "       ['Toyota', 'Blue', 4.0, 248360.0]], dtype=object)"
            ]
          },
          "metadata": {
            "tags": []
          },
          "execution_count": 198
        }
      ]
    },
    {
      "cell_type": "code",
      "metadata": {
        "colab": {
          "base_uri": "https://localhost:8080/"
        },
        "id": "_1wx70x1_Vmw",
        "outputId": "334dbe70-c169-4e84-f32a-c8e92368ef1d"
      },
      "source": [
        "car_sales_filled = pd.DataFrame(filled_X, columns=[\"Make\", \"Colour\", \"Doors\", \"Odometer (KM)\"])\n",
        "car_sales_filled.head()"
      ],
      "execution_count": null,
      "outputs": [
        {
          "output_type": "execute_result",
          "data": {
            "text/html": [
              "<div>\n",
              "<style scoped>\n",
              "    .dataframe tbody tr th:only-of-type {\n",
              "        vertical-align: middle;\n",
              "    }\n",
              "\n",
              "    .dataframe tbody tr th {\n",
              "        vertical-align: top;\n",
              "    }\n",
              "\n",
              "    .dataframe thead th {\n",
              "        text-align: right;\n",
              "    }\n",
              "</style>\n",
              "<table border=\"1\" class=\"dataframe\">\n",
              "  <thead>\n",
              "    <tr style=\"text-align: right;\">\n",
              "      <th></th>\n",
              "      <th>Make</th>\n",
              "      <th>Colour</th>\n",
              "      <th>Doors</th>\n",
              "      <th>Odometer (KM)</th>\n",
              "    </tr>\n",
              "  </thead>\n",
              "  <tbody>\n",
              "    <tr>\n",
              "      <th>0</th>\n",
              "      <td>Honda</td>\n",
              "      <td>White</td>\n",
              "      <td>4</td>\n",
              "      <td>35431</td>\n",
              "    </tr>\n",
              "    <tr>\n",
              "      <th>1</th>\n",
              "      <td>BMW</td>\n",
              "      <td>Blue</td>\n",
              "      <td>5</td>\n",
              "      <td>192714</td>\n",
              "    </tr>\n",
              "    <tr>\n",
              "      <th>2</th>\n",
              "      <td>Honda</td>\n",
              "      <td>White</td>\n",
              "      <td>4</td>\n",
              "      <td>84714</td>\n",
              "    </tr>\n",
              "    <tr>\n",
              "      <th>3</th>\n",
              "      <td>Toyota</td>\n",
              "      <td>White</td>\n",
              "      <td>4</td>\n",
              "      <td>154365</td>\n",
              "    </tr>\n",
              "    <tr>\n",
              "      <th>4</th>\n",
              "      <td>Nissan</td>\n",
              "      <td>Blue</td>\n",
              "      <td>3</td>\n",
              "      <td>181577</td>\n",
              "    </tr>\n",
              "  </tbody>\n",
              "</table>\n",
              "</div>"
            ],
            "text/plain": [
              "     Make Colour Doors Odometer (KM)\n",
              "0   Honda  White     4         35431\n",
              "1     BMW   Blue     5        192714\n",
              "2   Honda  White     4         84714\n",
              "3  Toyota  White     4        154365\n",
              "4  Nissan   Blue     3        181577"
            ]
          },
          "metadata": {
            "tags": []
          },
          "execution_count": 199
        }
      ]
    },
    {
      "cell_type": "code",
      "metadata": {
        "colab": {
          "base_uri": "https://localhost:8080/"
        },
        "id": "_0O3ojEeEZod",
        "outputId": "bae456bf-a435-46f0-c511-eb69938b2a26"
      },
      "source": [
        "car_sales_filled.isna().sum()"
      ],
      "execution_count": null,
      "outputs": [
        {
          "output_type": "execute_result",
          "data": {
            "text/plain": [
              "Make             0\n",
              "Colour           0\n",
              "Doors            0\n",
              "Odometer (KM)    0\n",
              "dtype: int64"
            ]
          },
          "metadata": {
            "tags": []
          },
          "execution_count": 200
        }
      ]
    },
    {
      "cell_type": "code",
      "metadata": {
        "colab": {
          "base_uri": "https://localhost:8080/"
        },
        "id": "4t9DgfC4Edmq",
        "outputId": "79714a93-94e9-42ff-d46d-f61da85c1433"
      },
      "source": [
        "from sklearn.preprocessing import OneHotEncoder\n",
        "from sklearn.compose import ColumnTransformer\n",
        "\n",
        "categorical_features = [\"Make\", \"Colour\", \"Doors\"]\n",
        "one_hot = OneHotEncoder()\n",
        "transformer = ColumnTransformer([(\"one_hot\", one_hot, categorical_features)], remainder=\"passthrough\")\n",
        "\n",
        "transformed_X = transformer.fit_transform(car_sales_filled)\n",
        "transformed_X"
      ],
      "execution_count": null,
      "outputs": [
        {
          "output_type": "execute_result",
          "data": {
            "text/plain": [
              "<950x15 sparse matrix of type '<class 'numpy.float64'>'\n",
              "\twith 3800 stored elements in Compressed Sparse Row format>"
            ]
          },
          "metadata": {
            "tags": []
          },
          "execution_count": 201
        }
      ]
    },
    {
      "cell_type": "code",
      "metadata": {
        "colab": {
          "base_uri": "https://localhost:8080/"
        },
        "id": "tnpUPg_iEvgz",
        "outputId": "befbaf9c-331f-4111-81f1-710b555dfec6"
      },
      "source": [
        "# Now We've got our data as numbers and filled\n",
        "# Let's fill the model\n",
        "np.random.seed(42)\n",
        "from sklearn.ensemble import RandomForestRegressor\n",
        "from sklearn.model_selection import train_test_split\n",
        "\n",
        "X_train, X_test, y_train, y_test = train_test_split(transformed_X, y, test_size=0.2)\n",
        "\n",
        "model = RandomForestRegressor()\n",
        "model.fit(X_train, y_train)\n",
        "model.score(X_test, y_test)"
      ],
      "execution_count": null,
      "outputs": [
        {
          "output_type": "execute_result",
          "data": {
            "text/plain": [
              "0.21990196728583944"
            ]
          },
          "metadata": {
            "tags": []
          },
          "execution_count": 202
        }
      ]
    },
    {
      "cell_type": "markdown",
      "metadata": {
        "id": "GJOtoxBdwLvc"
      },
      "source": [
        "### 2. Choosing The Right Model For Our Data"
      ]
    },
    {
      "cell_type": "markdown",
      "metadata": {
        "id": "RSyRbn0xzF05"
      },
      "source": [
        "Scikit-Learn uses \"estimator\" as another term for machine learning model or algorithm.\n",
        "\n",
        "Models we'll be looking at\n",
        "\n",
        "1. Classification - Predicting whether a sample is one thing or another (0/1)\n",
        "2. Regression - Predicting a number (Could be any number)\n",
        "\n",
        "Refer this link for Machine Learning Map: https://scikit-learn.org/stable/tutorial/machine_learning_map/index.html"
      ]
    },
    {
      "cell_type": "markdown",
      "metadata": {
        "id": "9FiDpYAz0i5P"
      },
      "source": [
        "*2.1 Picking a machine learning model for a regression problem*"
      ]
    },
    {
      "cell_type": "code",
      "metadata": {
        "id": "EaObFrziFWWc"
      },
      "source": [
        "# Import Boston Housing Dataset\n",
        "from sklearn.datasets import load_boston\n",
        "boston = load_boston()\n",
        "boston;"
      ],
      "execution_count": null,
      "outputs": []
    },
    {
      "cell_type": "code",
      "metadata": {
        "colab": {
          "base_uri": "https://localhost:8080/"
        },
        "id": "JnyBzf8C04fB",
        "outputId": "9ff766ec-f0d2-4fe2-a5b9-4ab1e35e5611"
      },
      "source": [
        "boston_df = pd.DataFrame(boston[\"data\"], columns=boston[\"feature_names\"])\n",
        "# এখানে আমরা boston এর \"data\" এবং \"feature_names\" key গুলো ব্যাবহার করে এর ডেটা এবং কলাম নিয়ে আসছি\n",
        "# আর সেটা দিয়েই আমাদের DataFrame তৈরি করছি। \n",
        "\n",
        "boston_df[\"target\"] = pd.Series(boston[\"target\"])\n",
        "# যেহেতু \"target\" কলামটা নেই নাই আমরা, নতুন করে এটা একটা কলাম হিসেবে ঢুকালাম\n",
        "# pandas Series বানিয়ে \n",
        "boston_df.head()"
      ],
      "execution_count": null,
      "outputs": [
        {
          "output_type": "execute_result",
          "data": {
            "text/html": [
              "<div>\n",
              "<style scoped>\n",
              "    .dataframe tbody tr th:only-of-type {\n",
              "        vertical-align: middle;\n",
              "    }\n",
              "\n",
              "    .dataframe tbody tr th {\n",
              "        vertical-align: top;\n",
              "    }\n",
              "\n",
              "    .dataframe thead th {\n",
              "        text-align: right;\n",
              "    }\n",
              "</style>\n",
              "<table border=\"1\" class=\"dataframe\">\n",
              "  <thead>\n",
              "    <tr style=\"text-align: right;\">\n",
              "      <th></th>\n",
              "      <th>CRIM</th>\n",
              "      <th>ZN</th>\n",
              "      <th>INDUS</th>\n",
              "      <th>CHAS</th>\n",
              "      <th>NOX</th>\n",
              "      <th>RM</th>\n",
              "      <th>AGE</th>\n",
              "      <th>DIS</th>\n",
              "      <th>RAD</th>\n",
              "      <th>TAX</th>\n",
              "      <th>PTRATIO</th>\n",
              "      <th>B</th>\n",
              "      <th>LSTAT</th>\n",
              "      <th>target</th>\n",
              "    </tr>\n",
              "  </thead>\n",
              "  <tbody>\n",
              "    <tr>\n",
              "      <th>0</th>\n",
              "      <td>0.00632</td>\n",
              "      <td>18.0</td>\n",
              "      <td>2.31</td>\n",
              "      <td>0.0</td>\n",
              "      <td>0.538</td>\n",
              "      <td>6.575</td>\n",
              "      <td>65.2</td>\n",
              "      <td>4.0900</td>\n",
              "      <td>1.0</td>\n",
              "      <td>296.0</td>\n",
              "      <td>15.3</td>\n",
              "      <td>396.90</td>\n",
              "      <td>4.98</td>\n",
              "      <td>24.0</td>\n",
              "    </tr>\n",
              "    <tr>\n",
              "      <th>1</th>\n",
              "      <td>0.02731</td>\n",
              "      <td>0.0</td>\n",
              "      <td>7.07</td>\n",
              "      <td>0.0</td>\n",
              "      <td>0.469</td>\n",
              "      <td>6.421</td>\n",
              "      <td>78.9</td>\n",
              "      <td>4.9671</td>\n",
              "      <td>2.0</td>\n",
              "      <td>242.0</td>\n",
              "      <td>17.8</td>\n",
              "      <td>396.90</td>\n",
              "      <td>9.14</td>\n",
              "      <td>21.6</td>\n",
              "    </tr>\n",
              "    <tr>\n",
              "      <th>2</th>\n",
              "      <td>0.02729</td>\n",
              "      <td>0.0</td>\n",
              "      <td>7.07</td>\n",
              "      <td>0.0</td>\n",
              "      <td>0.469</td>\n",
              "      <td>7.185</td>\n",
              "      <td>61.1</td>\n",
              "      <td>4.9671</td>\n",
              "      <td>2.0</td>\n",
              "      <td>242.0</td>\n",
              "      <td>17.8</td>\n",
              "      <td>392.83</td>\n",
              "      <td>4.03</td>\n",
              "      <td>34.7</td>\n",
              "    </tr>\n",
              "    <tr>\n",
              "      <th>3</th>\n",
              "      <td>0.03237</td>\n",
              "      <td>0.0</td>\n",
              "      <td>2.18</td>\n",
              "      <td>0.0</td>\n",
              "      <td>0.458</td>\n",
              "      <td>6.998</td>\n",
              "      <td>45.8</td>\n",
              "      <td>6.0622</td>\n",
              "      <td>3.0</td>\n",
              "      <td>222.0</td>\n",
              "      <td>18.7</td>\n",
              "      <td>394.63</td>\n",
              "      <td>2.94</td>\n",
              "      <td>33.4</td>\n",
              "    </tr>\n",
              "    <tr>\n",
              "      <th>4</th>\n",
              "      <td>0.06905</td>\n",
              "      <td>0.0</td>\n",
              "      <td>2.18</td>\n",
              "      <td>0.0</td>\n",
              "      <td>0.458</td>\n",
              "      <td>7.147</td>\n",
              "      <td>54.2</td>\n",
              "      <td>6.0622</td>\n",
              "      <td>3.0</td>\n",
              "      <td>222.0</td>\n",
              "      <td>18.7</td>\n",
              "      <td>396.90</td>\n",
              "      <td>5.33</td>\n",
              "      <td>36.2</td>\n",
              "    </tr>\n",
              "  </tbody>\n",
              "</table>\n",
              "</div>"
            ],
            "text/plain": [
              "      CRIM    ZN  INDUS  CHAS    NOX  ...    TAX  PTRATIO       B  LSTAT  target\n",
              "0  0.00632  18.0   2.31   0.0  0.538  ...  296.0     15.3  396.90   4.98    24.0\n",
              "1  0.02731   0.0   7.07   0.0  0.469  ...  242.0     17.8  396.90   9.14    21.6\n",
              "2  0.02729   0.0   7.07   0.0  0.469  ...  242.0     17.8  392.83   4.03    34.7\n",
              "3  0.03237   0.0   2.18   0.0  0.458  ...  222.0     18.7  394.63   2.94    33.4\n",
              "4  0.06905   0.0   2.18   0.0  0.458  ...  222.0     18.7  396.90   5.33    36.2\n",
              "\n",
              "[5 rows x 14 columns]"
            ]
          },
          "metadata": {
            "tags": []
          },
          "execution_count": 204
        }
      ]
    },
    {
      "cell_type": "code",
      "metadata": {
        "colab": {
          "base_uri": "https://localhost:8080/"
        },
        "id": "COv45mUo1MAM",
        "outputId": "11ae3d05-9dfb-4b11-8536-afc404de7bc2"
      },
      "source": [
        "len(boston_df)"
      ],
      "execution_count": null,
      "outputs": [
        {
          "output_type": "execute_result",
          "data": {
            "text/plain": [
              "506"
            ]
          },
          "metadata": {
            "tags": []
          },
          "execution_count": 205
        }
      ]
    },
    {
      "cell_type": "code",
      "metadata": {
        "colab": {
          "base_uri": "https://localhost:8080/"
        },
        "id": "sApzeMzI_B5L",
        "outputId": "5800d234-86d0-4a69-a4b1-9fdf982a6c96"
      },
      "source": [
        "# Let's try the Ridge Regression Model\n",
        "from sklearn.linear_model import Ridge\n",
        "\n",
        "# Setup a Random Seed\n",
        "np.random.seed(42)\n",
        "\n",
        "# Create the data\n",
        "X = boston_df.drop(\"target\", axis=1)\n",
        "y = boston_df[\"target\"]\n",
        "\n",
        "# Split into train and test data\n",
        "X_train, X_test, y_train, y_test = train_test_split(X, y, test_size=0.2)\n",
        "\n",
        "# Instantiate Ridge Model\n",
        "model = Ridge()\n",
        "model.fit(X_train, y_train)\n",
        "\n",
        "# Check the score of the Ridge Model on the test data\n",
        "model.score(X_test, y_test) "
      ],
      "execution_count": null,
      "outputs": [
        {
          "output_type": "execute_result",
          "data": {
            "text/plain": [
              "0.6662221670168522"
            ]
          },
          "metadata": {
            "tags": []
          },
          "execution_count": 206
        }
      ]
    },
    {
      "cell_type": "code",
      "metadata": {
        "id": "Ghm8OqejAv1l"
      },
      "source": [
        "# How do we improve this score?\n",
        "# What if Ridge didn't work? "
      ],
      "execution_count": null,
      "outputs": []
    },
    {
      "cell_type": "code",
      "metadata": {
        "colab": {
          "base_uri": "https://localhost:8080/"
        },
        "id": "uK9AyeWEGwB3",
        "outputId": "d06579fc-5429-44ca-e3b6-e940867b7d01"
      },
      "source": [
        "# Let's try the Random Forest Regressor (Because this is \"NOT\" a classification problem)\n",
        "from sklearn.ensemble import RandomForestRegressor\n",
        "\n",
        "# Setup random seed\n",
        "np.random.seed(42)\n",
        "\n",
        "# Create the data\n",
        "X = boston_df.drop(\"target\", axis=1)\n",
        "y = boston_df[\"target\"]\n",
        "\n",
        "# Split the data\n",
        "X_train, X_test, y_train, y_test = train_test_split(X, y, test_size=0.2)\n",
        "\n",
        "# Instantiate Random Forest Regressor\n",
        "rf = RandomForestRegressor()\n",
        "rf.fit(X_train, y_train)\n",
        "\n",
        "# Evaluate The Model\n",
        "rf.score(X_test, y_test)"
      ],
      "execution_count": null,
      "outputs": [
        {
          "output_type": "execute_result",
          "data": {
            "text/plain": [
              "0.873969014117403"
            ]
          },
          "metadata": {
            "tags": []
          },
          "execution_count": 208
        }
      ]
    },
    {
      "cell_type": "code",
      "metadata": {
        "colab": {
          "base_uri": "https://localhost:8080/"
        },
        "id": "YC9gXR_QKniO",
        "outputId": "594f4caa-0190-4cc9-f979-251336b0e715"
      },
      "source": [
        "# Check the Ridge Model Again\n",
        "model.score(X_test, y_test)"
      ],
      "execution_count": null,
      "outputs": [
        {
          "output_type": "execute_result",
          "data": {
            "text/plain": [
              "0.6662221670168522"
            ]
          },
          "metadata": {
            "tags": []
          },
          "execution_count": 209
        }
      ]
    },
    {
      "cell_type": "markdown",
      "metadata": {
        "id": "FddRynpzUZbQ"
      },
      "source": [
        "*2.2 Choosing an estimator for a Classification Problem*"
      ]
    },
    {
      "cell_type": "code",
      "metadata": {
        "id": "FChilN4_K24x",
        "colab": {
          "base_uri": "https://localhost:8080/"
        },
        "outputId": "7f2c4d5c-a2ff-4661-8569-04638718d465"
      },
      "source": [
        "heart_disease = pd.read_csv(\"https://raw.githubusercontent.com/mrdbourke/zero-to-mastery-ml/master/data/heart-disease.csv\")\n",
        "heart_disease.head()"
      ],
      "execution_count": null,
      "outputs": [
        {
          "output_type": "execute_result",
          "data": {
            "text/html": [
              "<div>\n",
              "<style scoped>\n",
              "    .dataframe tbody tr th:only-of-type {\n",
              "        vertical-align: middle;\n",
              "    }\n",
              "\n",
              "    .dataframe tbody tr th {\n",
              "        vertical-align: top;\n",
              "    }\n",
              "\n",
              "    .dataframe thead th {\n",
              "        text-align: right;\n",
              "    }\n",
              "</style>\n",
              "<table border=\"1\" class=\"dataframe\">\n",
              "  <thead>\n",
              "    <tr style=\"text-align: right;\">\n",
              "      <th></th>\n",
              "      <th>age</th>\n",
              "      <th>sex</th>\n",
              "      <th>cp</th>\n",
              "      <th>trestbps</th>\n",
              "      <th>chol</th>\n",
              "      <th>fbs</th>\n",
              "      <th>restecg</th>\n",
              "      <th>thalach</th>\n",
              "      <th>exang</th>\n",
              "      <th>oldpeak</th>\n",
              "      <th>slope</th>\n",
              "      <th>ca</th>\n",
              "      <th>thal</th>\n",
              "      <th>target</th>\n",
              "    </tr>\n",
              "  </thead>\n",
              "  <tbody>\n",
              "    <tr>\n",
              "      <th>0</th>\n",
              "      <td>63</td>\n",
              "      <td>1</td>\n",
              "      <td>3</td>\n",
              "      <td>145</td>\n",
              "      <td>233</td>\n",
              "      <td>1</td>\n",
              "      <td>0</td>\n",
              "      <td>150</td>\n",
              "      <td>0</td>\n",
              "      <td>2.3</td>\n",
              "      <td>0</td>\n",
              "      <td>0</td>\n",
              "      <td>1</td>\n",
              "      <td>1</td>\n",
              "    </tr>\n",
              "    <tr>\n",
              "      <th>1</th>\n",
              "      <td>37</td>\n",
              "      <td>1</td>\n",
              "      <td>2</td>\n",
              "      <td>130</td>\n",
              "      <td>250</td>\n",
              "      <td>0</td>\n",
              "      <td>1</td>\n",
              "      <td>187</td>\n",
              "      <td>0</td>\n",
              "      <td>3.5</td>\n",
              "      <td>0</td>\n",
              "      <td>0</td>\n",
              "      <td>2</td>\n",
              "      <td>1</td>\n",
              "    </tr>\n",
              "    <tr>\n",
              "      <th>2</th>\n",
              "      <td>41</td>\n",
              "      <td>0</td>\n",
              "      <td>1</td>\n",
              "      <td>130</td>\n",
              "      <td>204</td>\n",
              "      <td>0</td>\n",
              "      <td>0</td>\n",
              "      <td>172</td>\n",
              "      <td>0</td>\n",
              "      <td>1.4</td>\n",
              "      <td>2</td>\n",
              "      <td>0</td>\n",
              "      <td>2</td>\n",
              "      <td>1</td>\n",
              "    </tr>\n",
              "    <tr>\n",
              "      <th>3</th>\n",
              "      <td>56</td>\n",
              "      <td>1</td>\n",
              "      <td>1</td>\n",
              "      <td>120</td>\n",
              "      <td>236</td>\n",
              "      <td>0</td>\n",
              "      <td>1</td>\n",
              "      <td>178</td>\n",
              "      <td>0</td>\n",
              "      <td>0.8</td>\n",
              "      <td>2</td>\n",
              "      <td>0</td>\n",
              "      <td>2</td>\n",
              "      <td>1</td>\n",
              "    </tr>\n",
              "    <tr>\n",
              "      <th>4</th>\n",
              "      <td>57</td>\n",
              "      <td>0</td>\n",
              "      <td>0</td>\n",
              "      <td>120</td>\n",
              "      <td>354</td>\n",
              "      <td>0</td>\n",
              "      <td>1</td>\n",
              "      <td>163</td>\n",
              "      <td>1</td>\n",
              "      <td>0.6</td>\n",
              "      <td>2</td>\n",
              "      <td>0</td>\n",
              "      <td>2</td>\n",
              "      <td>1</td>\n",
              "    </tr>\n",
              "  </tbody>\n",
              "</table>\n",
              "</div>"
            ],
            "text/plain": [
              "   age  sex  cp  trestbps  chol  fbs  ...  exang  oldpeak  slope  ca  thal  target\n",
              "0   63    1   3       145   233    1  ...      0      2.3      0   0     1       1\n",
              "1   37    1   2       130   250    0  ...      0      3.5      0   0     2       1\n",
              "2   41    0   1       130   204    0  ...      0      1.4      2   0     2       1\n",
              "3   56    1   1       120   236    0  ...      0      0.8      2   0     2       1\n",
              "4   57    0   0       120   354    0  ...      1      0.6      2   0     2       1\n",
              "\n",
              "[5 rows x 14 columns]"
            ]
          },
          "metadata": {
            "tags": []
          },
          "execution_count": 210
        }
      ]
    },
    {
      "cell_type": "markdown",
      "metadata": {
        "id": "p9U_wd0F1oGX"
      },
      "source": [
        "Consulting the map, it says us to try \"LinearSVC\""
      ]
    },
    {
      "cell_type": "code",
      "metadata": {
        "colab": {
          "base_uri": "https://localhost:8080/"
        },
        "id": "E0EHaQ1xV8fk",
        "outputId": "cd1b6352-a7ef-4ead-8a1f-e04db3934c8a"
      },
      "source": [
        "# Import the LinearSVC estimator class\n",
        "from sklearn.svm import LinearSVC\n",
        "\n",
        "# Setup Random Seed\n",
        "np.random.seed(42)\n",
        "\n",
        "# Make The Data\n",
        "X = heart_disease.drop(\"target\", axis=1)\n",
        "y = heart_disease[\"target\"]\n",
        "\n",
        "# Split the data\n",
        "X_train, X_test, y_train, y_test = train_test_split(X, y, test_size=0.2)\n",
        "\n",
        "# Instantiate LinearSVC\n",
        "clf = LinearSVC()\n",
        "clf.fit(X_train, y_train)\n",
        "\n",
        "# Evaluate the LinearSVC\n",
        "clf.score(X_test, y_test)"
      ],
      "execution_count": null,
      "outputs": [
        {
          "output_type": "stream",
          "text": [
            "/usr/local/lib/python3.7/dist-packages/sklearn/svm/_base.py:947: ConvergenceWarning: Liblinear failed to converge, increase the number of iterations.\n",
            "  \"the number of iterations.\", ConvergenceWarning)\n"
          ],
          "name": "stderr"
        },
        {
          "output_type": "execute_result",
          "data": {
            "text/plain": [
              "0.8688524590163934"
            ]
          },
          "metadata": {
            "tags": []
          },
          "execution_count": 211
        }
      ]
    },
    {
      "cell_type": "code",
      "metadata": {
        "colab": {
          "base_uri": "https://localhost:8080/"
        },
        "id": "LSLMhOUlFzDc",
        "outputId": "2060e64f-8680-4994-a935-e20207c04fbd"
      },
      "source": [
        "heart_disease[\"target\"].value_counts()"
      ],
      "execution_count": null,
      "outputs": [
        {
          "output_type": "execute_result",
          "data": {
            "text/plain": [
              "1    165\n",
              "0    138\n",
              "Name: target, dtype: int64"
            ]
          },
          "metadata": {
            "tags": []
          },
          "execution_count": 212
        }
      ]
    },
    {
      "cell_type": "code",
      "metadata": {
        "id": "-5TWyTCZJduz",
        "colab": {
          "base_uri": "https://localhost:8080/"
        },
        "outputId": "a5cba2f2-c4e5-479f-b4ab-a3edd5b0a54d"
      },
      "source": [
        "# Import the LinearSVC estimator class\n",
        "from sklearn.ensemble import RandomForestClassifier\n",
        "\n",
        "# Setup Random Seed\n",
        "np.random.seed(42)\n",
        "\n",
        "# Make The Data\n",
        "X = heart_disease.drop(\"target\", axis=1)\n",
        "y = heart_disease[\"target\"]\n",
        "\n",
        "# Split the data\n",
        "X_train, X_test, y_train, y_test = train_test_split(X, y, test_size=0.2)\n",
        "\n",
        "# Instantiate Random Forest Classifier\n",
        "clf = RandomForestClassifier()\n",
        "clf.fit(X_train, y_train)\n",
        "\n",
        "# Evaluate the Random Forest Classifier\n",
        "clf.score(X_test, y_test)"
      ],
      "execution_count": null,
      "outputs": [
        {
          "output_type": "execute_result",
          "data": {
            "text/plain": [
              "0.8524590163934426"
            ]
          },
          "metadata": {
            "tags": []
          },
          "execution_count": 213
        }
      ]
    },
    {
      "cell_type": "markdown",
      "metadata": {
        "id": "m8tBkTqWQp1o"
      },
      "source": [
        "Caution: This result is actually worse than the LinearSVC so better not use it. For the sake of the tutorials we will still use it here"
      ]
    },
    {
      "cell_type": "markdown",
      "metadata": {
        "id": "Q0PEIuSORW5P"
      },
      "source": [
        "TidBit:\n",
        "1. If you have structured data, use ensemble methods\n",
        "2. If you have unstructured data, use Deep Learning or Transfer Learning"
      ]
    },
    {
      "cell_type": "markdown",
      "metadata": {
        "id": "7ElREGf7T62i"
      },
      "source": [
        "### 3. Fit the model/algorithm and use it to make predictions on out data"
      ]
    },
    {
      "cell_type": "markdown",
      "metadata": {
        "id": "NZDxk6Q4UPMc"
      },
      "source": [
        "*3.1 Fitting the model to the data*\n",
        "\n",
        "* `X` = features, features variables, data\n",
        "* `y` = labels, targets, target variables"
      ]
    },
    {
      "cell_type": "code",
      "metadata": {
        "colab": {
          "base_uri": "https://localhost:8080/"
        },
        "id": "h_V-XTehQm1v",
        "outputId": "e1ffdd8b-1b79-40a7-8b7c-74dc26a89d9f"
      },
      "source": [
        "# Import the LinearSVC estimator class\n",
        "from sklearn.ensemble import RandomForestClassifier\n",
        "\n",
        "# Setup Random Seed\n",
        "np.random.seed(42)\n",
        "\n",
        "# Make The Data\n",
        "X = heart_disease.drop(\"target\", axis=1)\n",
        "y = heart_disease[\"target\"]\n",
        "\n",
        "# Split the data\n",
        "X_train, X_test, y_train, y_test = train_test_split(X, y, test_size=0.2)\n",
        "\n",
        "# Instantiate Random Forest Classifier\n",
        "clf = RandomForestClassifier()\n",
        "clf.fit(X_train, y_train)\n",
        "\n",
        "# Evaluate the Random Forest Classifier (Finds patterns inside the data)\n",
        "clf.score(X_test, y_test)"
      ],
      "execution_count": null,
      "outputs": [
        {
          "output_type": "execute_result",
          "data": {
            "text/plain": [
              "0.8524590163934426"
            ]
          },
          "metadata": {
            "tags": []
          },
          "execution_count": 214
        }
      ]
    },
    {
      "cell_type": "code",
      "metadata": {
        "colab": {
          "base_uri": "https://localhost:8080/"
        },
        "id": "Hp5QCAnFU4dx",
        "outputId": "d68fdb56-9933-4d97-83a7-be3aab6376ad"
      },
      "source": [
        "X.head()"
      ],
      "execution_count": null,
      "outputs": [
        {
          "output_type": "execute_result",
          "data": {
            "text/html": [
              "<div>\n",
              "<style scoped>\n",
              "    .dataframe tbody tr th:only-of-type {\n",
              "        vertical-align: middle;\n",
              "    }\n",
              "\n",
              "    .dataframe tbody tr th {\n",
              "        vertical-align: top;\n",
              "    }\n",
              "\n",
              "    .dataframe thead th {\n",
              "        text-align: right;\n",
              "    }\n",
              "</style>\n",
              "<table border=\"1\" class=\"dataframe\">\n",
              "  <thead>\n",
              "    <tr style=\"text-align: right;\">\n",
              "      <th></th>\n",
              "      <th>age</th>\n",
              "      <th>sex</th>\n",
              "      <th>cp</th>\n",
              "      <th>trestbps</th>\n",
              "      <th>chol</th>\n",
              "      <th>fbs</th>\n",
              "      <th>restecg</th>\n",
              "      <th>thalach</th>\n",
              "      <th>exang</th>\n",
              "      <th>oldpeak</th>\n",
              "      <th>slope</th>\n",
              "      <th>ca</th>\n",
              "      <th>thal</th>\n",
              "    </tr>\n",
              "  </thead>\n",
              "  <tbody>\n",
              "    <tr>\n",
              "      <th>0</th>\n",
              "      <td>63</td>\n",
              "      <td>1</td>\n",
              "      <td>3</td>\n",
              "      <td>145</td>\n",
              "      <td>233</td>\n",
              "      <td>1</td>\n",
              "      <td>0</td>\n",
              "      <td>150</td>\n",
              "      <td>0</td>\n",
              "      <td>2.3</td>\n",
              "      <td>0</td>\n",
              "      <td>0</td>\n",
              "      <td>1</td>\n",
              "    </tr>\n",
              "    <tr>\n",
              "      <th>1</th>\n",
              "      <td>37</td>\n",
              "      <td>1</td>\n",
              "      <td>2</td>\n",
              "      <td>130</td>\n",
              "      <td>250</td>\n",
              "      <td>0</td>\n",
              "      <td>1</td>\n",
              "      <td>187</td>\n",
              "      <td>0</td>\n",
              "      <td>3.5</td>\n",
              "      <td>0</td>\n",
              "      <td>0</td>\n",
              "      <td>2</td>\n",
              "    </tr>\n",
              "    <tr>\n",
              "      <th>2</th>\n",
              "      <td>41</td>\n",
              "      <td>0</td>\n",
              "      <td>1</td>\n",
              "      <td>130</td>\n",
              "      <td>204</td>\n",
              "      <td>0</td>\n",
              "      <td>0</td>\n",
              "      <td>172</td>\n",
              "      <td>0</td>\n",
              "      <td>1.4</td>\n",
              "      <td>2</td>\n",
              "      <td>0</td>\n",
              "      <td>2</td>\n",
              "    </tr>\n",
              "    <tr>\n",
              "      <th>3</th>\n",
              "      <td>56</td>\n",
              "      <td>1</td>\n",
              "      <td>1</td>\n",
              "      <td>120</td>\n",
              "      <td>236</td>\n",
              "      <td>0</td>\n",
              "      <td>1</td>\n",
              "      <td>178</td>\n",
              "      <td>0</td>\n",
              "      <td>0.8</td>\n",
              "      <td>2</td>\n",
              "      <td>0</td>\n",
              "      <td>2</td>\n",
              "    </tr>\n",
              "    <tr>\n",
              "      <th>4</th>\n",
              "      <td>57</td>\n",
              "      <td>0</td>\n",
              "      <td>0</td>\n",
              "      <td>120</td>\n",
              "      <td>354</td>\n",
              "      <td>0</td>\n",
              "      <td>1</td>\n",
              "      <td>163</td>\n",
              "      <td>1</td>\n",
              "      <td>0.6</td>\n",
              "      <td>2</td>\n",
              "      <td>0</td>\n",
              "      <td>2</td>\n",
              "    </tr>\n",
              "  </tbody>\n",
              "</table>\n",
              "</div>"
            ],
            "text/plain": [
              "   age  sex  cp  trestbps  chol  fbs  ...  thalach  exang  oldpeak  slope  ca  thal\n",
              "0   63    1   3       145   233    1  ...      150      0      2.3      0   0     1\n",
              "1   37    1   2       130   250    0  ...      187      0      3.5      0   0     2\n",
              "2   41    0   1       130   204    0  ...      172      0      1.4      2   0     2\n",
              "3   56    1   1       120   236    0  ...      178      0      0.8      2   0     2\n",
              "4   57    0   0       120   354    0  ...      163      1      0.6      2   0     2\n",
              "\n",
              "[5 rows x 13 columns]"
            ]
          },
          "metadata": {
            "tags": []
          },
          "execution_count": 215
        }
      ]
    },
    {
      "cell_type": "code",
      "metadata": {
        "colab": {
          "base_uri": "https://localhost:8080/"
        },
        "id": "GgcDgl8ZU5al",
        "outputId": "14a00a91-aa8a-4311-feda-e056bbd3f918"
      },
      "source": [
        "y.head()"
      ],
      "execution_count": null,
      "outputs": [
        {
          "output_type": "execute_result",
          "data": {
            "text/plain": [
              "0    1\n",
              "1    1\n",
              "2    1\n",
              "3    1\n",
              "4    1\n",
              "Name: target, dtype: int64"
            ]
          },
          "metadata": {
            "tags": []
          },
          "execution_count": 216
        }
      ]
    },
    {
      "cell_type": "markdown",
      "metadata": {
        "id": "cZV1MKw1WiEY"
      },
      "source": [
        "*3.2 Make Predictions Using a Machine Learning Model*\n",
        "2 ways to make predictions:\n",
        "1. `predict()` \n",
        "2. `predict_proba()`"
      ]
    },
    {
      "cell_type": "code",
      "metadata": {
        "id": "YPqiM_TzU6di"
      },
      "source": [
        "# Use a trained model to make a prediction\n",
        "#clf.predict(np.array([1, 7, 8, 3, 4])) # this doesn't work...\n"
      ],
      "execution_count": null,
      "outputs": []
    },
    {
      "cell_type": "code",
      "metadata": {
        "colab": {
          "base_uri": "https://localhost:8080/"
        },
        "id": "LyEXs9FgXTDg",
        "outputId": "791602f9-cd30-4dee-9886-5a3a36b91860"
      },
      "source": [
        "clf.predict(X_test)"
      ],
      "execution_count": null,
      "outputs": [
        {
          "output_type": "execute_result",
          "data": {
            "text/plain": [
              "array([0, 1, 1, 0, 1, 1, 1, 0, 0, 1, 1, 0, 1, 0, 1, 1, 1, 0, 0, 0, 0, 0,\n",
              "       1, 1, 1, 1, 1, 1, 0, 1, 0, 0, 0, 0, 1, 0, 1, 1, 1, 1, 1, 1, 1, 1,\n",
              "       1, 0, 1, 1, 0, 0, 0, 0, 1, 1, 0, 0, 0, 1, 0, 0, 0])"
            ]
          },
          "metadata": {
            "tags": []
          },
          "execution_count": 218
        }
      ]
    },
    {
      "cell_type": "code",
      "metadata": {
        "colab": {
          "base_uri": "https://localhost:8080/"
        },
        "id": "hdXLPughXdwE",
        "outputId": "5ef15dce-7482-414b-e406-d916ece94842"
      },
      "source": [
        "# Compare Predictions to truth labels to evaluate the model\n",
        "y_preds = clf.predict(X_test)\n",
        "np.mean(y_preds == y_test)"
      ],
      "execution_count": null,
      "outputs": [
        {
          "output_type": "execute_result",
          "data": {
            "text/plain": [
              "0.8524590163934426"
            ]
          },
          "metadata": {
            "tags": []
          },
          "execution_count": 219
        }
      ]
    },
    {
      "cell_type": "code",
      "metadata": {
        "colab": {
          "base_uri": "https://localhost:8080/"
        },
        "id": "VFd-J3lH5KuI",
        "outputId": "c3f77308-8646-4092-e466-cb818ae7a05c"
      },
      "source": [
        "from sklearn.metrics import accuracy_score\n",
        "accuracy_score(y_test, y_preds)"
      ],
      "execution_count": null,
      "outputs": [
        {
          "output_type": "execute_result",
          "data": {
            "text/plain": [
              "0.8524590163934426"
            ]
          },
          "metadata": {
            "tags": []
          },
          "execution_count": 220
        }
      ]
    },
    {
      "cell_type": "markdown",
      "metadata": {
        "id": "kYe2DBC3bUT6"
      },
      "source": [
        "Make predictions using `predict_proba()`\n",
        "\n",
        "`predict_proba()` does probability estimates"
      ]
    },
    {
      "cell_type": "code",
      "metadata": {
        "id": "g08UeMRy5eO6",
        "colab": {
          "base_uri": "https://localhost:8080/"
        },
        "outputId": "c8f98961-d864-49f9-9c38-dd0dc0845a3f"
      },
      "source": [
        "# predict_proba() returns probabilities of a classification label\n",
        "# Say the probability of 1 or 0 \n",
        "clf.predict_proba(X_test[:5])"
      ],
      "execution_count": null,
      "outputs": [
        {
          "output_type": "execute_result",
          "data": {
            "text/plain": [
              "array([[0.89, 0.11],\n",
              "       [0.49, 0.51],\n",
              "       [0.43, 0.57],\n",
              "       [0.84, 0.16],\n",
              "       [0.18, 0.82]])"
            ]
          },
          "metadata": {
            "tags": []
          },
          "execution_count": 221
        }
      ]
    },
    {
      "cell_type": "code",
      "metadata": {
        "colab": {
          "base_uri": "https://localhost:8080/"
        },
        "id": "DNtZPPd2gZfC",
        "outputId": "c2fadd38-1d7c-47eb-8a70-7b79c64f281b"
      },
      "source": [
        "# Let's predict() on the same data\n",
        "clf.predict(X_test[:5])          "
      ],
      "execution_count": null,
      "outputs": [
        {
          "output_type": "execute_result",
          "data": {
            "text/plain": [
              "array([0, 1, 1, 0, 1])"
            ]
          },
          "metadata": {
            "tags": []
          },
          "execution_count": 222
        }
      ]
    },
    {
      "cell_type": "markdown",
      "metadata": {
        "id": "5fAs4wAIO3OZ"
      },
      "source": [
        "`predict()` can also be used on Regression Models\n"
      ]
    },
    {
      "cell_type": "code",
      "metadata": {
        "colab": {
          "base_uri": "https://localhost:8080/"
        },
        "id": "ZoKicQ43PKN_",
        "outputId": "fa5ebdef-2254-4b3e-a492-e60c5aa83993"
      },
      "source": [
        "boston_df.head(7)"
      ],
      "execution_count": null,
      "outputs": [
        {
          "output_type": "execute_result",
          "data": {
            "text/html": [
              "<div>\n",
              "<style scoped>\n",
              "    .dataframe tbody tr th:only-of-type {\n",
              "        vertical-align: middle;\n",
              "    }\n",
              "\n",
              "    .dataframe tbody tr th {\n",
              "        vertical-align: top;\n",
              "    }\n",
              "\n",
              "    .dataframe thead th {\n",
              "        text-align: right;\n",
              "    }\n",
              "</style>\n",
              "<table border=\"1\" class=\"dataframe\">\n",
              "  <thead>\n",
              "    <tr style=\"text-align: right;\">\n",
              "      <th></th>\n",
              "      <th>CRIM</th>\n",
              "      <th>ZN</th>\n",
              "      <th>INDUS</th>\n",
              "      <th>CHAS</th>\n",
              "      <th>NOX</th>\n",
              "      <th>RM</th>\n",
              "      <th>AGE</th>\n",
              "      <th>DIS</th>\n",
              "      <th>RAD</th>\n",
              "      <th>TAX</th>\n",
              "      <th>PTRATIO</th>\n",
              "      <th>B</th>\n",
              "      <th>LSTAT</th>\n",
              "      <th>target</th>\n",
              "    </tr>\n",
              "  </thead>\n",
              "  <tbody>\n",
              "    <tr>\n",
              "      <th>0</th>\n",
              "      <td>0.00632</td>\n",
              "      <td>18.0</td>\n",
              "      <td>2.31</td>\n",
              "      <td>0.0</td>\n",
              "      <td>0.538</td>\n",
              "      <td>6.575</td>\n",
              "      <td>65.2</td>\n",
              "      <td>4.0900</td>\n",
              "      <td>1.0</td>\n",
              "      <td>296.0</td>\n",
              "      <td>15.3</td>\n",
              "      <td>396.90</td>\n",
              "      <td>4.98</td>\n",
              "      <td>24.0</td>\n",
              "    </tr>\n",
              "    <tr>\n",
              "      <th>1</th>\n",
              "      <td>0.02731</td>\n",
              "      <td>0.0</td>\n",
              "      <td>7.07</td>\n",
              "      <td>0.0</td>\n",
              "      <td>0.469</td>\n",
              "      <td>6.421</td>\n",
              "      <td>78.9</td>\n",
              "      <td>4.9671</td>\n",
              "      <td>2.0</td>\n",
              "      <td>242.0</td>\n",
              "      <td>17.8</td>\n",
              "      <td>396.90</td>\n",
              "      <td>9.14</td>\n",
              "      <td>21.6</td>\n",
              "    </tr>\n",
              "    <tr>\n",
              "      <th>2</th>\n",
              "      <td>0.02729</td>\n",
              "      <td>0.0</td>\n",
              "      <td>7.07</td>\n",
              "      <td>0.0</td>\n",
              "      <td>0.469</td>\n",
              "      <td>7.185</td>\n",
              "      <td>61.1</td>\n",
              "      <td>4.9671</td>\n",
              "      <td>2.0</td>\n",
              "      <td>242.0</td>\n",
              "      <td>17.8</td>\n",
              "      <td>392.83</td>\n",
              "      <td>4.03</td>\n",
              "      <td>34.7</td>\n",
              "    </tr>\n",
              "    <tr>\n",
              "      <th>3</th>\n",
              "      <td>0.03237</td>\n",
              "      <td>0.0</td>\n",
              "      <td>2.18</td>\n",
              "      <td>0.0</td>\n",
              "      <td>0.458</td>\n",
              "      <td>6.998</td>\n",
              "      <td>45.8</td>\n",
              "      <td>6.0622</td>\n",
              "      <td>3.0</td>\n",
              "      <td>222.0</td>\n",
              "      <td>18.7</td>\n",
              "      <td>394.63</td>\n",
              "      <td>2.94</td>\n",
              "      <td>33.4</td>\n",
              "    </tr>\n",
              "    <tr>\n",
              "      <th>4</th>\n",
              "      <td>0.06905</td>\n",
              "      <td>0.0</td>\n",
              "      <td>2.18</td>\n",
              "      <td>0.0</td>\n",
              "      <td>0.458</td>\n",
              "      <td>7.147</td>\n",
              "      <td>54.2</td>\n",
              "      <td>6.0622</td>\n",
              "      <td>3.0</td>\n",
              "      <td>222.0</td>\n",
              "      <td>18.7</td>\n",
              "      <td>396.90</td>\n",
              "      <td>5.33</td>\n",
              "      <td>36.2</td>\n",
              "    </tr>\n",
              "    <tr>\n",
              "      <th>5</th>\n",
              "      <td>0.02985</td>\n",
              "      <td>0.0</td>\n",
              "      <td>2.18</td>\n",
              "      <td>0.0</td>\n",
              "      <td>0.458</td>\n",
              "      <td>6.430</td>\n",
              "      <td>58.7</td>\n",
              "      <td>6.0622</td>\n",
              "      <td>3.0</td>\n",
              "      <td>222.0</td>\n",
              "      <td>18.7</td>\n",
              "      <td>394.12</td>\n",
              "      <td>5.21</td>\n",
              "      <td>28.7</td>\n",
              "    </tr>\n",
              "    <tr>\n",
              "      <th>6</th>\n",
              "      <td>0.08829</td>\n",
              "      <td>12.5</td>\n",
              "      <td>7.87</td>\n",
              "      <td>0.0</td>\n",
              "      <td>0.524</td>\n",
              "      <td>6.012</td>\n",
              "      <td>66.6</td>\n",
              "      <td>5.5605</td>\n",
              "      <td>5.0</td>\n",
              "      <td>311.0</td>\n",
              "      <td>15.2</td>\n",
              "      <td>395.60</td>\n",
              "      <td>12.43</td>\n",
              "      <td>22.9</td>\n",
              "    </tr>\n",
              "  </tbody>\n",
              "</table>\n",
              "</div>"
            ],
            "text/plain": [
              "      CRIM    ZN  INDUS  CHAS    NOX  ...    TAX  PTRATIO       B  LSTAT  target\n",
              "0  0.00632  18.0   2.31   0.0  0.538  ...  296.0     15.3  396.90   4.98    24.0\n",
              "1  0.02731   0.0   7.07   0.0  0.469  ...  242.0     17.8  396.90   9.14    21.6\n",
              "2  0.02729   0.0   7.07   0.0  0.469  ...  242.0     17.8  392.83   4.03    34.7\n",
              "3  0.03237   0.0   2.18   0.0  0.458  ...  222.0     18.7  394.63   2.94    33.4\n",
              "4  0.06905   0.0   2.18   0.0  0.458  ...  222.0     18.7  396.90   5.33    36.2\n",
              "5  0.02985   0.0   2.18   0.0  0.458  ...  222.0     18.7  394.12   5.21    28.7\n",
              "6  0.08829  12.5   7.87   0.0  0.524  ...  311.0     15.2  395.60  12.43    22.9\n",
              "\n",
              "[7 rows x 14 columns]"
            ]
          },
          "metadata": {
            "tags": []
          },
          "execution_count": 223
        }
      ]
    },
    {
      "cell_type": "code",
      "metadata": {
        "id": "CV-7e4x4g89V",
        "colab": {
          "base_uri": "https://localhost:8080/"
        },
        "outputId": "dea94454-23a1-4a69-e0a3-abee9652b68f"
      },
      "source": [
        "from sklearn.ensemble import RandomForestRegressor\n",
        "\n",
        "np.random.seed(42)\n",
        "\n",
        "# Create the data\n",
        "X = boston_df.drop(\"target\", axis=1)\n",
        "y = boston_df[\"target\"] \n",
        "\n",
        "# Split into training and test data\n",
        "X_test, X_train, y_test, y_train = train_test_split(X, y, test_size=0.2)\n",
        "\n",
        "# Instantiate and fit model\n",
        "model = RandomForestRegressor().fit(X_train, y_train) # Same as `model = RandomForestRegressor()` then `model.fit(X_train, y_train)`\n",
        "\n",
        "# Make Predictions\n",
        "y_preds = model.predict(X_test)\n",
        "y_preds"
      ],
      "execution_count": null,
      "outputs": [
        {
          "output_type": "execute_result",
          "data": {
            "text/plain": [
              "array([10.602, 21.753, 24.429, 14.095, 20.358, 25.265, 23.793, 25.109,\n",
              "       10.952, 15.502, 24.131, 23.346, 28.796, 15.36 , 32.338, 17.39 ,\n",
              "       18.784, 25.436, 18.997, 24.843, 10.36 , 21.285, 24.08 , 23.752,\n",
              "       25.227, 33.185, 18.291, 42.192, 17.146, 24.021, 18.546, 18.989,\n",
              "       13.39 , 19.143, 22.684, 33.66 , 31.956, 17.457, 17.809, 27.228,\n",
              "       20.974, 19.076,  7.667, 22.491, 18.357, 13.765, 14.502, 39.201,\n",
              "       16.852, 15.861, 24.33 , 19.964, 21.018, 22.658, 14.794, 28.276,\n",
              "       34.071,  8.947, 21.738, 19.661, 18.537, 24.383, 21.591, 20.107,\n",
              "       35.424, 14.216, 17.918, 17.936, 17.506, 19.997, 21.808, 37.952,\n",
              "       19.023, 19.124, 21.451, 25.368, 35.764, 25.935, 13.233, 11.566,\n",
              "       11.31 , 15.124, 31.195, 26.204, 15.433, 11.561, 37.161, 22.019,\n",
              "       17.917, 22.915, 18.13 , 13.876, 10.194, 28.296, 25.354, 18.303,\n",
              "       15.533, 14.139, 24.494, 18.748, 24.606, 28.779, 23.685, 23.969,\n",
              "       23.581, 44.352, 33.232, 29.538, 23.459, 24.122, 15.032, 39.214,\n",
              "       19.113, 28.858, 24.932, 20.836, 17.923, 10.471, 39.451, 34.261,\n",
              "       33.98 ,  9.816, 14.835, 21.464, 38.562, 14.634, 38.312, 21.934,\n",
              "       25.072, 10.71 , 22.182, 23.804, 27.668, 21.269, 19.791, 33.589,\n",
              "       28.508, 29.021, 33.314, 18.082, 24.674, 12.89 , 21.368, 22.311,\n",
              "       17.877, 10.104, 18.349, 25.68 , 21.376, 19.02 , 19.115, 15.851,\n",
              "       34.968, 25.536, 31.492, 13.001, 18.72 , 13.757, 13.416, 13.426,\n",
              "       24.984, 17.467, 10.735, 22.039, 13.018, 25.958, 32.651, 39.748,\n",
              "       32.818, 19.144, 26.481, 47.021, 22.121, 18.66 , 25.166, 21.835,\n",
              "       28.004, 11.927, 21.617, 19.653, 25.603, 26.104, 15.127, 22.744,\n",
              "       14.127, 15.933, 32.82 , 19.879, 12.922, 21.463, 20.846, 20.655,\n",
              "       22.149, 38.468, 10.627, 19.174, 30.018, 19.351, 23.685, 24.051,\n",
              "       20.828, 15.5  , 39.146, 24.541, 21.185, 16.712, 30.57 , 35.342,\n",
              "       40.672, 19.197, 19.609, 22.156, 39.04 , 11.663, 22.014, 16.118,\n",
              "       25.447, 10.466, 18.457, 11.22 , 14.321, 17.425, 15.469, 23.09 ,\n",
              "       18.386, 29.66 , 47.078, 26.099, 23.315, 39.856, 10.646, 33.855,\n",
              "       19.059, 21.544, 18.613, 18.153, 13.383, 13.081, 27.419, 18.741,\n",
              "       26.095, 22.974, 24.835, 11.371, 11.234, 26.643, 30.96 , 10.775,\n",
              "       14.702, 22.315, 43.223, 23.515, 11.91 , 28.021, 39.965, 17.186,\n",
              "       24.639, 40.542, 16.145, 23.326, 15.865, 19.175, 40.09 , 30.029,\n",
              "       22.778, 19.647, 18.735, 14.916, 35.208, 19.854, 34.594, 15.522,\n",
              "       17.058, 15.662, 21.438, 30.471, 25.005, 45.712, 12.431, 13.936,\n",
              "       25.124, 17.226, 17.036, 27.505, 17.052, 24.415, 17.171, 28.177,\n",
              "       28.131, 21.276, 17.569, 34.137, 11.395, 17.504, 18.389, 21.531,\n",
              "       33.032, 11.965, 27.388, 20.673, 25.326, 18.848, 21.245, 26.227,\n",
              "       16.818, 29.788, 18.021, 16.767, 31.907, 24.952, 21.591, 25.973,\n",
              "       42.702, 24.336, 24.08 , 11.225, 29.052, 21.286, 34.122, 17.681,\n",
              "       23.226, 11.517, 24.133, 15.425, 12.716, 20.237, 12.041, 25.775,\n",
              "       21.499, 15.26 , 16.169, 26.219, 13.51 , 15.922, 24.237, 21.635,\n",
              "       15.358, 26.187, 21.236, 32.273, 21.025, 22.532, 20.663, 27.535,\n",
              "       10.281, 32.05 , 44.305, 20.998, 17.934, 16.285, 30.129, 18.426,\n",
              "       19.435, 25.023, 17.871, 17.027, 20.975, 17.653, 21.853, 11.979,\n",
              "       28.997, 24.127, 22.456, 27.135, 23.62 , 23.987, 17.947, 31.417,\n",
              "       22.237, 32.309, 17.95 , 23.743, 16.694, 30.048, 29.562, 13.748,\n",
              "       31.958,  9.864, 23.078, 14.58 , 26.661, 36.207, 31.029, 14.777,\n",
              "       18.698, 17.9  , 18.647, 29.416, 37.062, 23.121, 16.256, 22.613,\n",
              "       18.378, 16.509, 19.995, 25.208, 14.526, 31.755, 21.732, 15.881,\n",
              "       20.351, 25.871, 12.068, 23.088])"
            ]
          },
          "metadata": {
            "tags": []
          },
          "execution_count": 224
        }
      ]
    },
    {
      "cell_type": "code",
      "metadata": {
        "colab": {
          "base_uri": "https://localhost:8080/"
        },
        "id": "Qi-qNEl1Pzp1",
        "outputId": "4dab6d74-9b80-437b-f9b1-da14ca4124ad"
      },
      "source": [
        "model.score(X_test, y_test)"
      ],
      "execution_count": null,
      "outputs": [
        {
          "output_type": "execute_result",
          "data": {
            "text/plain": [
              "0.8238769438502933"
            ]
          },
          "metadata": {
            "tags": []
          },
          "execution_count": 225
        }
      ]
    },
    {
      "cell_type": "code",
      "metadata": {
        "colab": {
          "base_uri": "https://localhost:8080/"
        },
        "id": "jhR9rniVRacr",
        "outputId": "ac0cd376-5c26-48d0-d195-5e8f1c78fa51"
      },
      "source": [
        "# Compare the predictions to the truth\n",
        "from sklearn.metrics import mean_absolute_error\n",
        "mean_absolute_error(y_test, y_preds)"
      ],
      "execution_count": null,
      "outputs": [
        {
          "output_type": "execute_result",
          "data": {
            "text/plain": [
              "2.8664950495049513"
            ]
          },
          "metadata": {
            "tags": []
          },
          "execution_count": 226
        }
      ]
    },
    {
      "cell_type": "markdown",
      "metadata": {
        "id": "0u4Gx0v2Zohk"
      },
      "source": [
        "### 4. Evaluating Machine Learning Model\n",
        "\n",
        "Three ways to evaluate Scikit-Learn models/estimators:\n",
        "1. Estimator `score` method\n",
        "2. The `scoring` parameter\n",
        "3. Problem-specific metric functions\n",
        "\n",
        "*4.1 Evaluating a model with the `score` method*\n"
      ]
    },
    {
      "cell_type": "code",
      "metadata": {
        "colab": {
          "base_uri": "https://localhost:8080/"
        },
        "id": "KDrDSbxBRwnO",
        "outputId": "0a77ae14-ebb7-48cf-8bfe-08a069b33c4e"
      },
      "source": [
        "from sklearn.ensemble import RandomForestClassifier\n",
        "\n",
        "np.random.seed(42)\n",
        "\n",
        "X = heart_disease.drop(\"target\", axis = 1)\n",
        "y = heart_disease[\"target\"]\n",
        "\n",
        "X_train, X_test, y_train, y_test = train_test_split(X, y, test_size=0.2)\n",
        "\n",
        "clf = RandomForestClassifier()\n",
        "\n",
        "clf.fit(X_train, y_train) "
      ],
      "execution_count": null,
      "outputs": [
        {
          "output_type": "execute_result",
          "data": {
            "text/plain": [
              "RandomForestClassifier(bootstrap=True, ccp_alpha=0.0, class_weight=None,\n",
              "                       criterion='gini', max_depth=None, max_features='auto',\n",
              "                       max_leaf_nodes=None, max_samples=None,\n",
              "                       min_impurity_decrease=0.0, min_impurity_split=None,\n",
              "                       min_samples_leaf=1, min_samples_split=2,\n",
              "                       min_weight_fraction_leaf=0.0, n_estimators=100,\n",
              "                       n_jobs=None, oob_score=False, random_state=None,\n",
              "                       verbose=0, warm_start=False)"
            ]
          },
          "metadata": {
            "tags": []
          },
          "execution_count": 227
        }
      ]
    },
    {
      "cell_type": "code",
      "metadata": {
        "colab": {
          "base_uri": "https://localhost:8080/"
        },
        "id": "YR0i8MoibJ0Q",
        "outputId": "f3b16c6d-ae9b-440e-aa9e-281930ecac01"
      },
      "source": [
        "clf.score(X_test, y_test)"
      ],
      "execution_count": null,
      "outputs": [
        {
          "output_type": "execute_result",
          "data": {
            "text/plain": [
              "0.8524590163934426"
            ]
          },
          "metadata": {
            "tags": []
          },
          "execution_count": 228
        }
      ]
    },
    {
      "cell_type": "markdown",
      "metadata": {
        "id": "l6EGj2p6biYn"
      },
      "source": [
        "Let's do the same but for Regression "
      ]
    },
    {
      "cell_type": "code",
      "metadata": {
        "id": "2cwHz4TlbMGW"
      },
      "source": [
        "from sklearn.ensemble import RandomForestRegressor\n",
        "\n",
        "np.random.seed(42)\n",
        "\n",
        "# Create the data\n",
        "X = boston_df.drop(\"target\", axis=1)\n",
        "y = boston_df[\"target\"] \n",
        "\n",
        "# Split into training and test data\n",
        "X_test, X_train, y_test, y_train = train_test_split(X, y, test_size=0.2)\n",
        "\n",
        "# Instantiate and fit model\n",
        "model = RandomForestRegressor().fit(X_train, y_train) # Same as `model = RandomForestRegressor()` then `model.fit(X_train, y_train)`"
      ],
      "execution_count": null,
      "outputs": []
    },
    {
      "cell_type": "code",
      "metadata": {
        "colab": {
          "base_uri": "https://localhost:8080/"
        },
        "id": "ZDc78CEWbsCW",
        "outputId": "73d0521b-f23a-4b94-9315-b55344be3544"
      },
      "source": [
        "model.score(X_test, y_test)"
      ],
      "execution_count": null,
      "outputs": [
        {
          "output_type": "execute_result",
          "data": {
            "text/plain": [
              "0.8238769438502933"
            ]
          },
          "metadata": {
            "tags": []
          },
          "execution_count": 230
        }
      ]
    },
    {
      "cell_type": "markdown",
      "metadata": {
        "id": "Oo3WoaeOclmS"
      },
      "source": [
        "*4.2 Evaluating A Model using `scoring` parameter*"
      ]
    },
    {
      "cell_type": "code",
      "metadata": {
        "id": "zvbxbXkUbuFW"
      },
      "source": [
        "from sklearn.model_selection import cross_val_score\n",
        "\n",
        "from sklearn.ensemble import RandomForestClassifier\n",
        "\n",
        "np.random.seed(42)\n",
        "\n",
        "X = heart_disease.drop(\"target\", axis = 1)\n",
        "y = heart_disease[\"target\"]\n",
        "\n",
        "X_train, X_test, y_train, y_test = train_test_split(X, y, test_size=0.2)\n",
        "\n",
        "clf = RandomForestClassifier()\n",
        "\n",
        "clf.fit(X_train, y_train); \n",
        "\n"
      ],
      "execution_count": null,
      "outputs": []
    },
    {
      "cell_type": "code",
      "metadata": {
        "colab": {
          "base_uri": "https://localhost:8080/"
        },
        "id": "pvsbHD1QfRwR",
        "outputId": "2d2ea6f1-1383-4232-b373-d52197e20770"
      },
      "source": [
        "clf.score(X_test, y_test)"
      ],
      "execution_count": null,
      "outputs": [
        {
          "output_type": "execute_result",
          "data": {
            "text/plain": [
              "0.8524590163934426"
            ]
          },
          "metadata": {
            "tags": []
          },
          "execution_count": 232
        }
      ]
    },
    {
      "cell_type": "code",
      "metadata": {
        "colab": {
          "base_uri": "https://localhost:8080/"
        },
        "id": "o7odaEygfVdt",
        "outputId": "a1e1100d-f7b8-43c8-c37c-83cd54d0d51f"
      },
      "source": [
        "cross_val_score(clf, X, y, cv=10) # By default this is 5-Fold Cross Validation "
      ],
      "execution_count": null,
      "outputs": [
        {
          "output_type": "execute_result",
          "data": {
            "text/plain": [
              "array([0.90322581, 0.80645161, 0.87096774, 0.9       , 0.86666667,\n",
              "       0.76666667, 0.7       , 0.83333333, 0.73333333, 0.8       ])"
            ]
          },
          "metadata": {
            "tags": []
          },
          "execution_count": 233
        }
      ]
    },
    {
      "cell_type": "code",
      "metadata": {
        "colab": {
          "base_uri": "https://localhost:8080/"
        },
        "id": "MdpxHpR9fZ01",
        "outputId": "69e9d037-be8d-4961-ffc8-db45a8427ce0"
      },
      "source": [
        "np.random.seed(42)\n",
        "\n",
        "# Single training and test split score\n",
        "clf_single_score = clf.score(X_test, y_test)\n",
        "\n",
        "# Take the mean of 5-fold cross-validation score\n",
        "clf_cross_val_score = np.mean(cross_val_score(clf, X, y, cv=5))\n",
        "\n",
        "# Compare the two\n",
        "clf_single_score, clf_cross_val_score"
      ],
      "execution_count": null,
      "outputs": [
        {
          "output_type": "execute_result",
          "data": {
            "text/plain": [
              "(0.8524590163934426, 0.8248087431693989)"
            ]
          },
          "metadata": {
            "tags": []
          },
          "execution_count": 234
        }
      ]
    },
    {
      "cell_type": "code",
      "metadata": {
        "id": "IEIsKGmgr3c0"
      },
      "source": [
        "# Default scoring parameter of classifier = mean accuracy\n",
        "# clf.score()"
      ],
      "execution_count": null,
      "outputs": []
    },
    {
      "cell_type": "code",
      "metadata": {
        "colab": {
          "base_uri": "https://localhost:8080/"
        },
        "id": "eoR7LJHqnw5S",
        "outputId": "58b11d22-de56-49ba-a160-7e32a82a2363"
      },
      "source": [
        "# Scoring Parameter set to None by default\n",
        "cross_val_score(clf, X, y, cv=5, scoring=None) "
      ],
      "execution_count": null,
      "outputs": [
        {
          "output_type": "execute_result",
          "data": {
            "text/plain": [
              "array([0.78688525, 0.86885246, 0.80327869, 0.78333333, 0.76666667])"
            ]
          },
          "metadata": {
            "tags": []
          },
          "execution_count": 236
        }
      ]
    },
    {
      "cell_type": "markdown",
      "metadata": {
        "id": "4GGbqslst5uG"
      },
      "source": [
        "*4.2.1 Classification Models evaluation metrics*\n",
        "\n",
        "1. Accuracy\n",
        "2. Area Under ROC curve\n",
        "3. Confusion Matrix\n",
        "4. Classification report"
      ]
    },
    {
      "cell_type": "markdown",
      "metadata": {
        "id": "0qkWiAJWoPrK"
      },
      "source": [
        "**Accuracy**"
      ]
    },
    {
      "cell_type": "code",
      "metadata": {
        "id": "GQUV0HN5sAEx",
        "colab": {
          "base_uri": "https://localhost:8080/"
        },
        "outputId": "921a69fa-cb21-4e04-ecd4-4e9c1db88833"
      },
      "source": [
        "from sklearn.model_selection import cross_val_score\n",
        "from sklearn.ensemble import RandomForestClassifier\n",
        "\n",
        "np.random.seed(42) \n",
        "\n",
        "X = heart_disease.drop(\"target\", axis=1)\n",
        "y = heart_disease[\"target\"]\n",
        "\n",
        "\n",
        "#X_train, X_test, y_train, y_test = train_test_split(X, y, test_size=0.2)\n",
        "\n",
        "clf = RandomForestClassifier().fit(X_train, y_train)\n",
        "cross_val_score = cross_val_score(clf, X, y, cv=5)\n",
        "cross_val_score\n",
        "#clf.score(X_test, y_test)"
      ],
      "execution_count": null,
      "outputs": [
        {
          "output_type": "execute_result",
          "data": {
            "text/plain": [
              "array([0.83606557, 0.8852459 , 0.83606557, 0.8       , 0.75      ])"
            ]
          },
          "metadata": {
            "tags": []
          },
          "execution_count": 237
        }
      ]
    },
    {
      "cell_type": "code",
      "metadata": {
        "colab": {
          "base_uri": "https://localhost:8080/"
        },
        "id": "mnHZYg7bkTfQ",
        "outputId": "8d5f715e-0441-4295-ab23-84289c077961"
      },
      "source": [
        "np.mean(cross_val_score)"
      ],
      "execution_count": null,
      "outputs": [
        {
          "output_type": "execute_result",
          "data": {
            "text/plain": [
              "0.8214754098360656"
            ]
          },
          "metadata": {
            "tags": []
          },
          "execution_count": 238
        }
      ]
    },
    {
      "cell_type": "code",
      "metadata": {
        "colab": {
          "base_uri": "https://localhost:8080/"
        },
        "id": "dH8NADTWkpQW",
        "outputId": "10c13fb1-c3e5-48e5-eeb8-9e7e33316c90"
      },
      "source": [
        "print(f\"Heart Disease Classifier Cross-Validated Accuracy: {np.mean(cross_val_score) * 100:.2f}%\")"
      ],
      "execution_count": null,
      "outputs": [
        {
          "output_type": "stream",
          "text": [
            "Heart Disease Classifier Cross-Validated Accuracy: 82.15%\n"
          ],
          "name": "stdout"
        }
      ]
    },
    {
      "cell_type": "markdown",
      "metadata": {
        "id": "ifj5CqHQoLVs"
      },
      "source": [
        "**Area Under the Receiver Operating Characteristic Curve (AUC/ROC)**\n",
        "* Area Under Curve (AUC)\n",
        "* ROC Curve\n",
        "\n",
        "ROC Curves are a comparison of a model's true positive rate (TPR) versus a models false positive rates (FPR).\n",
        "\n",
        "* True Positive = Model Predicts 1 When Truth is 1\n",
        "* False Positive = Model Predicts 1 When Truth is 0\n",
        "* True Negative = Model Predicts 0 When Truth is 0\n",
        "* False Negative = Model Predicts 0 When Truth is 1\n"
      ]
    },
    {
      "cell_type": "code",
      "metadata": {
        "id": "Wr8xbXPhdb4G"
      },
      "source": [
        "# Create X_test... etc\n",
        "X_train, X_test, y_train, y_test = train_test_split(X, y, test_size=0.2)"
      ],
      "execution_count": null,
      "outputs": []
    },
    {
      "cell_type": "code",
      "metadata": {
        "colab": {
          "base_uri": "https://localhost:8080/"
        },
        "id": "UyCJ2jaBk8pu",
        "outputId": "aff3f09b-1e7a-40c8-f6f9-cd28cb1e2736"
      },
      "source": [
        "from sklearn.metrics import roc_curve\n",
        "\n",
        "# Fit the classifier\n",
        "clf.fit(X_train, y_train)\n",
        "\n",
        "# Make predictions with probabilities\n",
        "y_probs = clf.predict_proba(X_test)\n",
        "\n",
        "y_probs[:10]"
      ],
      "execution_count": null,
      "outputs": [
        {
          "output_type": "execute_result",
          "data": {
            "text/plain": [
              "array([[0.81, 0.19],\n",
              "       [0.62, 0.38],\n",
              "       [0.59, 0.41],\n",
              "       [0.94, 0.06],\n",
              "       [0.24, 0.76],\n",
              "       [0.83, 0.17],\n",
              "       [0.03, 0.97],\n",
              "       [0.17, 0.83],\n",
              "       [0.03, 0.97],\n",
              "       [0.68, 0.32]])"
            ]
          },
          "metadata": {
            "tags": []
          },
          "execution_count": 241
        }
      ]
    },
    {
      "cell_type": "code",
      "metadata": {
        "colab": {
          "base_uri": "https://localhost:8080/"
        },
        "id": "omOpYl8Hd04w",
        "outputId": "8bbf183b-c834-40ad-a7c1-e14e140334e6"
      },
      "source": [
        "y_probs_positive = y_probs[:, 1]\n",
        "y_probs_positive[:10]"
      ],
      "execution_count": null,
      "outputs": [
        {
          "output_type": "execute_result",
          "data": {
            "text/plain": [
              "array([0.19, 0.38, 0.41, 0.06, 0.76, 0.17, 0.97, 0.83, 0.97, 0.32])"
            ]
          },
          "metadata": {
            "tags": []
          },
          "execution_count": 242
        }
      ]
    },
    {
      "cell_type": "code",
      "metadata": {
        "colab": {
          "base_uri": "https://localhost:8080/"
        },
        "id": "0Fn8bs8TeEG3",
        "outputId": "60cb700b-82df-4a55-aa72-ffa82151dcda"
      },
      "source": [
        "# Calculat fpr, tpr, thresholds\n",
        "fpr, tpr, thresholds = roc_curve(y_test, y_probs_positive)\n",
        "# Check the false positive rates\n",
        "fpr"
      ],
      "execution_count": null,
      "outputs": [
        {
          "output_type": "execute_result",
          "data": {
            "text/plain": [
              "array([0.        , 0.        , 0.        , 0.        , 0.        ,\n",
              "       0.        , 0.        , 0.        , 0.03448276, 0.03448276,\n",
              "       0.03448276, 0.03448276, 0.03448276, 0.06896552, 0.10344828,\n",
              "       0.20689655, 0.20689655, 0.27586207, 0.31034483, 0.37931034,\n",
              "       0.4137931 , 0.4137931 , 0.48275862, 0.5862069 , 0.5862069 ,\n",
              "       0.65517241, 0.68965517, 0.68965517, 0.79310345, 0.89655172,\n",
              "       1.        ])"
            ]
          },
          "metadata": {
            "tags": []
          },
          "execution_count": 243
        }
      ]
    },
    {
      "cell_type": "code",
      "metadata": {
        "colab": {
          "base_uri": "https://localhost:8080/"
        },
        "id": "lf4BRxbwhbp9",
        "outputId": "3b26a9c0-24f3-4cd3-9f96-6e47281cc151"
      },
      "source": [
        "# Create a function for plotting ROC Curve\n",
        "import matplotlib.pyplot as plt\n",
        "\n",
        "def plot_roc_curve(fpr, tpr):\n",
        "  \"\"\"\n",
        "  Plots are ROC Curve given the false positive rate(fpr)\n",
        "  and true positive rate (tpr) of a model\n",
        "  \"\"\"\n",
        "\n",
        "  # Plot roc curve\n",
        "  plt.plot(fpr, tpr, color=\"orange\", label=\"ROC\")\n",
        "  # Plot line with no predictive power (baseline)\n",
        "  plt.plot([0, 1], [0, 1], color=\"darkblue\", linestyle=\"--\", label=\"Guessing\")\n",
        "\n",
        "  # Customize the plot\n",
        "  plt.xlabel(\"False Positive Rate (fpr)\")\n",
        "  plt.ylabel(\"True Positive Rate (tpr)\")\n",
        "  plt.title(\"Receiver Operating Characteristic (ROC) Curve\")\n",
        "  plt.legend()\n",
        "  plt.show()\n",
        "\n",
        "plot_roc_curve(fpr, tpr)"
      ],
      "execution_count": null,
      "outputs": [
        {
          "output_type": "display_data",
          "data": {
            "image/png": "[encoded data removed]",
            "text/plain": [
              "<Figure size 432x288 with 1 Axes>"
            ]
          },
          "metadata": {
            "tags": [],
            "needs_background": "light"
          }
        }
      ]
    },
    {
      "cell_type": "code",
      "metadata": {
        "colab": {
          "base_uri": "https://localhost:8080/"
        },
        "id": "Fvw7s4sAnDPu",
        "outputId": "d8869449-ffea-485d-9acb-5cbecba490b2"
      },
      "source": [
        "from sklearn.metrics import roc_auc_score\n",
        "\n",
        "roc_auc_score(y_test, y_probs_positive)"
      ],
      "execution_count": null,
      "outputs": [
        {
          "output_type": "execute_result",
          "data": {
            "text/plain": [
              "0.918103448275862"
            ]
          },
          "metadata": {
            "tags": []
          },
          "execution_count": 245
        }
      ]
    },
    {
      "cell_type": "code",
      "metadata": {
        "colab": {
          "base_uri": "https://localhost:8080/"
        },
        "id": "K-iACSCrnqTF",
        "outputId": "ae64b5b6-33eb-492c-a25d-cc0794fb77c7"
      },
      "source": [
        "# Plot perfect ROC curve and AUC Score\n",
        "fpr, tpr, thresholds = roc_curve(y_test, y_test)\n",
        "plot_roc_curve(fpr, tpr)"
      ],
      "execution_count": null,
      "outputs": [
        {
          "output_type": "display_data",
          "data": {
            "image/png": "[encoded data removed]",
            "text/plain": [
              "<Figure size 432x288 with 1 Axes>"
            ]
          },
          "metadata": {
            "tags": [],
            "needs_background": "light"
          }
        }
      ]
    },
    {
      "cell_type": "code",
      "metadata": {
        "colab": {
          "base_uri": "https://localhost:8080/"
        },
        "id": "TLuNm3C9p4sd",
        "outputId": "0e18614e-d9bd-4669-e82f-5607ccc04756"
      },
      "source": [
        "# Perfect AUC score\n",
        "roc_auc_score(y_test, y_test)"
      ],
      "execution_count": null,
      "outputs": [
        {
          "output_type": "execute_result",
          "data": {
            "text/plain": [
              "1.0"
            ]
          },
          "metadata": {
            "tags": []
          },
          "execution_count": 247
        }
      ]
    },
    {
      "cell_type": "markdown",
      "metadata": {
        "id": "MHttTCrEr-oE"
      },
      "source": [
        "**Confusion Matrix**\n",
        "\n",
        "A confusion matrix is a quick way to compare the labels a model predicts and the actual labels it was supposed to predict.\n",
        "\n",
        "In essence, giving you an idea of where the model is getting confused."
      ]
    },
    {
      "cell_type": "code",
      "metadata": {
        "colab": {
          "base_uri": "https://localhost:8080/"
        },
        "id": "FfEZmD7WqL9S",
        "outputId": "0786fea2-48d4-426d-8796-51d95f3f6fb2"
      },
      "source": [
        "from sklearn.metrics import confusion_matrix\n",
        "\n",
        "y_preds = clf.predict(X_test)\n",
        "\n",
        "confusion_matrix(y_test, y_preds)"
      ],
      "execution_count": null,
      "outputs": [
        {
          "output_type": "execute_result",
          "data": {
            "text/plain": [
              "array([[23,  6],\n",
              "       [ 4, 28]])"
            ]
          },
          "metadata": {
            "tags": []
          },
          "execution_count": 248
        }
      ]
    },
    {
      "cell_type": "code",
      "metadata": {
        "colab": {
          "base_uri": "https://localhost:8080/"
        },
        "id": "z6kjx_c6uk5r",
        "outputId": "d740742f-ab3b-47a3-ee96-d2cf77a23d46"
      },
      "source": [
        "# Visualize Confusion Matrix with pd.crosstab()\n",
        "\n",
        "pd.crosstab(y_test,\n",
        "            y_preds,\n",
        "            rownames=[\"Actual Label\"],\n",
        "            colnames=[\"Predicted Labels\"])"
      ],
      "execution_count": null,
      "outputs": [
        {
          "output_type": "execute_result",
          "data": {
            "text/html": [
              "<div>\n",
              "<style scoped>\n",
              "    .dataframe tbody tr th:only-of-type {\n",
              "        vertical-align: middle;\n",
              "    }\n",
              "\n",
              "    .dataframe tbody tr th {\n",
              "        vertical-align: top;\n",
              "    }\n",
              "\n",
              "    .dataframe thead th {\n",
              "        text-align: right;\n",
              "    }\n",
              "</style>\n",
              "<table border=\"1\" class=\"dataframe\">\n",
              "  <thead>\n",
              "    <tr style=\"text-align: right;\">\n",
              "      <th>Predicted Labels</th>\n",
              "      <th>0</th>\n",
              "      <th>1</th>\n",
              "    </tr>\n",
              "    <tr>\n",
              "      <th>Actual Label</th>\n",
              "      <th></th>\n",
              "      <th></th>\n",
              "    </tr>\n",
              "  </thead>\n",
              "  <tbody>\n",
              "    <tr>\n",
              "      <th>0</th>\n",
              "      <td>23</td>\n",
              "      <td>6</td>\n",
              "    </tr>\n",
              "    <tr>\n",
              "      <th>1</th>\n",
              "      <td>4</td>\n",
              "      <td>28</td>\n",
              "    </tr>\n",
              "  </tbody>\n",
              "</table>\n",
              "</div>"
            ],
            "text/plain": [
              "Predicted Labels   0   1\n",
              "Actual Label            \n",
              "0                 23   6\n",
              "1                  4  28"
            ]
          },
          "metadata": {
            "tags": []
          },
          "execution_count": 249
        }
      ]
    },
    {
      "cell_type": "code",
      "metadata": {
        "colab": {
          "base_uri": "https://localhost:8080/"
        },
        "id": "046n6C1u_myu",
        "outputId": "d0caa749-db19-4a54-d7a8-c35228ba41a0"
      },
      "source": [
        "!pip install seaborn"
      ],
      "execution_count": null,
      "outputs": [
        {
          "output_type": "stream",
          "text": [
            "Requirement already satisfied: seaborn in /usr/local/lib/python3.7/dist-packages (0.11.1)\n",
            "Requirement already satisfied: numpy>=1.15 in /usr/local/lib/python3.7/dist-packages (from seaborn) (1.19.5)\n",
            "Requirement already satisfied: pandas>=0.23 in /usr/local/lib/python3.7/dist-packages (from seaborn) (1.1.5)\n",
            "Requirement already satisfied: matplotlib>=2.2 in /usr/local/lib/python3.7/dist-packages (from seaborn) (3.2.2)\n",
            "Requirement already satisfied: scipy>=1.0 in /usr/local/lib/python3.7/dist-packages (from seaborn) (1.4.1)\n",
            "Requirement already satisfied: python-dateutil>=2.7.3 in /usr/local/lib/python3.7/dist-packages (from pandas>=0.23->seaborn) (2.8.1)\n",
            "Requirement already satisfied: pytz>=2017.2 in /usr/local/lib/python3.7/dist-packages (from pandas>=0.23->seaborn) (2018.9)\n",
            "Requirement already satisfied: cycler>=0.10 in /usr/local/lib/python3.7/dist-packages (from matplotlib>=2.2->seaborn) (0.10.0)\n",
            "Requirement already satisfied: pyparsing!=2.0.4,!=2.1.2,!=2.1.6,>=2.0.1 in /usr/local/lib/python3.7/dist-packages (from matplotlib>=2.2->seaborn) (2.4.7)\n",
            "Requirement already satisfied: kiwisolver>=1.0.1 in /usr/local/lib/python3.7/dist-packages (from matplotlib>=2.2->seaborn) (1.3.1)\n",
            "Requirement already satisfied: six>=1.5 in /usr/local/lib/python3.7/dist-packages (from python-dateutil>=2.7.3->pandas>=0.23->seaborn) (1.15.0)\n"
          ],
          "name": "stdout"
        }
      ]
    },
    {
      "cell_type": "code",
      "metadata": {
        "colab": {
          "base_uri": "https://localhost:8080/"
        },
        "id": "IJ-0mEWo-iau",
        "outputId": "173c3bdb-5c49-4e93-984c-bceb344c67f1"
      },
      "source": [
        "# Make our confusion matrix more visual with Seaborn's Heatmap\n",
        "import seaborn as sns\n",
        "\n",
        "# Set the font scale\n",
        "sns.set(font_scale=1.5)\n",
        "\n",
        "# Create a confusion matrix\n",
        "conf_mat = confusion_matrix(y_test, y_preds)\n",
        "\n",
        "# Plot it using seaborn\n",
        "sns.heatmap(conf_mat);"
      ],
      "execution_count": null,
      "outputs": [
        {
          "output_type": "display_data",
          "data": {
            "image/png": "[encoded data removed]",
            "text/plain": [
              "<Figure size 432x288 with 2 Axes>"
            ]
          },
          "metadata": {
            "tags": []
          }
        }
      ]
    },
    {
      "cell_type": "code",
      "metadata": {
        "colab": {
          "base_uri": "https://localhost:8080/"
        },
        "id": "rD0MZPSp_7Ax",
        "outputId": "11293b68-49a9-4958-9752-df9414f56cc6"
      },
      "source": [
        "def plot_conf_mat(conf_mat):\n",
        "  \"\"\"\n",
        "  Plots a confusion matrix using Seaborn's heatmap().\n",
        "  \"\"\"\n",
        "\n",
        "  fig, ax = plt.subplots(figsize=(3, 3))\n",
        "  ax = sns.heatmap(conf_mat,\n",
        "                   annot=True, # Annotate the boxes with conf_mat info\n",
        "                   cbar=False)\n",
        "\n",
        "  plt.xlabel(\"True Label\")\n",
        "  plt.ylabel(\"Predicted Label\");\n",
        "\n",
        "plot_conf_mat(conf_mat)"
      ],
      "execution_count": null,
      "outputs": [
        {
          "output_type": "display_data",
          "data": {
            "image/png": "[encoded data removed]",
            "text/plain": [
              "<Figure size 216x216 with 1 Axes>"
            ]
          },
          "metadata": {
            "tags": []
          }
        }
      ]
    },
    {
      "cell_type": "code",
      "metadata": {
        "colab": {
          "base_uri": "https://localhost:8080/"
        },
        "id": "x5yRqPXVKvWB",
        "outputId": "f80a7e3d-58f6-42e6-cbfb-00e8c5ef5e15"
      },
      "source": [
        "from sklearn.metrics import plot_confusion_matrix\n",
        "\n",
        "plot_confusion_matrix(clf, X, y)"
      ],
      "execution_count": null,
      "outputs": [
        {
          "output_type": "execute_result",
          "data": {
            "text/plain": [
              "<sklearn.metrics._plot.confusion_matrix.ConfusionMatrixDisplay at 0x7ff4e4735f50>"
            ]
          },
          "metadata": {
            "tags": []
          },
          "execution_count": 253
        },
        {
          "output_type": "display_data",
          "data": {
            "image/png": "[encoded data removed]",
            "text/plain": [
              "<Figure size 432x288 with 2 Axes>"
            ]
          },
          "metadata": {
            "tags": []
          }
        }
      ]
    },
    {
      "cell_type": "markdown",
      "metadata": {
        "id": "Wx1ZnwGSNB0l"
      },
      "source": [
        "**Classification Report**"
      ]
    },
    {
      "cell_type": "code",
      "metadata": {
        "id": "jgpptUBgMpk-",
        "colab": {
          "base_uri": "https://localhost:8080/"
        },
        "outputId": "a4cc20ca-69ea-4ffb-f6b0-b348387e5824"
      },
      "source": [
        "from sklearn.metrics import classification_report\n",
        "\n",
        "print(classification_report(y_test, y_preds))"
      ],
      "execution_count": null,
      "outputs": [
        {
          "output_type": "stream",
          "text": [
            "              precision    recall  f1-score   support\n",
            "\n",
            "           0       0.85      0.79      0.82        29\n",
            "           1       0.82      0.88      0.85        32\n",
            "\n",
            "    accuracy                           0.84        61\n",
            "   macro avg       0.84      0.83      0.83        61\n",
            "weighted avg       0.84      0.84      0.84        61\n",
            "\n"
          ],
          "name": "stdout"
        }
      ]
    },
    {
      "cell_type": "code",
      "metadata": {
        "colab": {
          "base_uri": "https://localhost:8080/"
        },
        "id": "slbuXTothRDJ",
        "outputId": "e1d68523-e6b2-4eea-de7c-19520fc4af9f"
      },
      "source": [
        "# Where Precision and Recall become valuable\n",
        "disease_true = np.zeros(10000)\n",
        "disease_true[0] = 1 # Only one positive case\n",
        "\n",
        "disease_preds = np.zeros(10000) # Model predicts every case as 0\n",
        "\n",
        "pd.DataFrame(classification_report(disease_true,\n",
        "                                   disease_preds,\n",
        "                                   output_dict=True))\n"
      ],
      "execution_count": null,
      "outputs": [
        {
          "output_type": "stream",
          "text": [
            "/usr/local/lib/python3.7/dist-packages/sklearn/metrics/_classification.py:1272: UndefinedMetricWarning: Precision and F-score are ill-defined and being set to 0.0 in labels with no predicted samples. Use `zero_division` parameter to control this behavior.\n",
            "  _warn_prf(average, modifier, msg_start, len(result))\n"
          ],
          "name": "stderr"
        },
        {
          "output_type": "execute_result",
          "data": {
            "text/html": [
              "<div>\n",
              "<style scoped>\n",
              "    .dataframe tbody tr th:only-of-type {\n",
              "        vertical-align: middle;\n",
              "    }\n",
              "\n",
              "    .dataframe tbody tr th {\n",
              "        vertical-align: top;\n",
              "    }\n",
              "\n",
              "    .dataframe thead th {\n",
              "        text-align: right;\n",
              "    }\n",
              "</style>\n",
              "<table border=\"1\" class=\"dataframe\">\n",
              "  <thead>\n",
              "    <tr style=\"text-align: right;\">\n",
              "      <th></th>\n",
              "      <th>0.0</th>\n",
              "      <th>1.0</th>\n",
              "      <th>accuracy</th>\n",
              "      <th>macro avg</th>\n",
              "      <th>weighted avg</th>\n",
              "    </tr>\n",
              "  </thead>\n",
              "  <tbody>\n",
              "    <tr>\n",
              "      <th>precision</th>\n",
              "      <td>0.99990</td>\n",
              "      <td>0.0</td>\n",
              "      <td>0.9999</td>\n",
              "      <td>0.499950</td>\n",
              "      <td>0.99980</td>\n",
              "    </tr>\n",
              "    <tr>\n",
              "      <th>recall</th>\n",
              "      <td>1.00000</td>\n",
              "      <td>0.0</td>\n",
              "      <td>0.9999</td>\n",
              "      <td>0.500000</td>\n",
              "      <td>0.99990</td>\n",
              "    </tr>\n",
              "    <tr>\n",
              "      <th>f1-score</th>\n",
              "      <td>0.99995</td>\n",
              "      <td>0.0</td>\n",
              "      <td>0.9999</td>\n",
              "      <td>0.499975</td>\n",
              "      <td>0.99985</td>\n",
              "    </tr>\n",
              "    <tr>\n",
              "      <th>support</th>\n",
              "      <td>9999.00000</td>\n",
              "      <td>1.0</td>\n",
              "      <td>0.9999</td>\n",
              "      <td>10000.000000</td>\n",
              "      <td>10000.00000</td>\n",
              "    </tr>\n",
              "  </tbody>\n",
              "</table>\n",
              "</div>"
            ],
            "text/plain": [
              "                  0.0  1.0  accuracy     macro avg  weighted avg\n",
              "precision     0.99990  0.0    0.9999      0.499950       0.99980\n",
              "recall        1.00000  0.0    0.9999      0.500000       0.99990\n",
              "f1-score      0.99995  0.0    0.9999      0.499975       0.99985\n",
              "support    9999.00000  1.0    0.9999  10000.000000   10000.00000"
            ]
          },
          "metadata": {
            "tags": []
          },
          "execution_count": 255
        }
      ]
    },
    {
      "cell_type": "markdown",
      "metadata": {
        "id": "xkXYzCGhmH7N"
      },
      "source": [
        "*4.2.2 Regression Model Evaluation Metrics*\n",
        "\n",
        "Model Evaluation Metrics Documentation: https://scikit-learn.org/stable/modules/model_evaluation.html\n",
        "\n",
        "1. R^2 (pronounced r-squared) or coefficient of determination.\n",
        "2. Mean Absolute Error (MAE)\n",
        "3. Mean Squared Error (MSE)"
      ]
    },
    {
      "cell_type": "markdown",
      "metadata": {
        "id": "v6xZ2QEtnSvw"
      },
      "source": [
        "**R^2**\n",
        "\n",
        "What R^2 Does: Compares your model's predictions to the mean of the targets. Values can range from negative infinity (a very poor model) to 1. For example, if all your model does is predict the mean of targets, it's R^2 value would be 0. And if your model perfectly predicts a range of numbers it's R^2 value would be 1."
      ]
    },
    {
      "cell_type": "code",
      "metadata": {
        "id": "55xwh95sivcZ"
      },
      "source": [
        "from sklearn.ensemble import RandomForestRegressor\n",
        "\n",
        "np.random.seed(42)\n",
        "\n",
        "X = boston_df.drop(\"target\", axis=1)\n",
        "y = boston_df[\"target\"]\n",
        "\n",
        "X_train, X_test, y_train, y_test = train_test_split(X, y, test_size=0.2)\n",
        "\n",
        "model = RandomForestRegressor()\n",
        "model.fit(X_train, y_train);"
      ],
      "execution_count": null,
      "outputs": []
    },
    {
      "cell_type": "code",
      "metadata": {
        "colab": {
          "base_uri": "https://localhost:8080/"
        },
        "id": "nzZ3y3B0nG-l",
        "outputId": "8a253e40-c255-491b-d1e1-d5410e67d901"
      },
      "source": [
        "model.score(X_test, y_test)"
      ],
      "execution_count": null,
      "outputs": [
        {
          "output_type": "execute_result",
          "data": {
            "text/plain": [
              "0.873969014117403"
            ]
          },
          "metadata": {
            "tags": []
          },
          "execution_count": 257
        }
      ]
    },
    {
      "cell_type": "code",
      "metadata": {
        "colab": {
          "base_uri": "https://localhost:8080/"
        },
        "id": "EC4bs0OP2n2z",
        "outputId": "f9659d0c-6a19-4c2c-a59d-6f138358f4e3"
      },
      "source": [
        "y_test.head()"
      ],
      "execution_count": null,
      "outputs": [
        {
          "output_type": "execute_result",
          "data": {
            "text/plain": [
              "173    23.6\n",
              "274    32.4\n",
              "491    13.6\n",
              "72     22.8\n",
              "452    16.1\n",
              "Name: target, dtype: float64"
            ]
          },
          "metadata": {
            "tags": []
          },
          "execution_count": 258
        }
      ]
    },
    {
      "cell_type": "code",
      "metadata": {
        "id": "bnjGzm03nPjJ"
      },
      "source": [
        "from sklearn.metrics import r2_score\n",
        "\n",
        "# Fill an array with y_test_mean\n",
        "\n",
        "y_test_mean = np.full(len(y_test), y_test.mean())\n"
      ],
      "execution_count": null,
      "outputs": []
    },
    {
      "cell_type": "code",
      "metadata": {
        "colab": {
          "base_uri": "https://localhost:8080/"
        },
        "id": "ffsRPJlHoNp6",
        "outputId": "dab6c31a-5a54-4161-e6d8-067c101780ab"
      },
      "source": [
        "y_test_mean"
      ],
      "execution_count": null,
      "outputs": [
        {
          "output_type": "execute_result",
          "data": {
            "text/plain": [
              "array([21.48823529, 21.48823529, 21.48823529, 21.48823529, 21.48823529,\n",
              "       21.48823529, 21.48823529, 21.48823529, 21.48823529, 21.48823529,\n",
              "       21.48823529, 21.48823529, 21.48823529, 21.48823529, 21.48823529,\n",
              "       21.48823529, 21.48823529, 21.48823529, 21.48823529, 21.48823529,\n",
              "       21.48823529, 21.48823529, 21.48823529, 21.48823529, 21.48823529,\n",
              "       21.48823529, 21.48823529, 21.48823529, 21.48823529, 21.48823529,\n",
              "       21.48823529, 21.48823529, 21.48823529, 21.48823529, 21.48823529,\n",
              "       21.48823529, 21.48823529, 21.48823529, 21.48823529, 21.48823529,\n",
              "       21.48823529, 21.48823529, 21.48823529, 21.48823529, 21.48823529,\n",
              "       21.48823529, 21.48823529, 21.48823529, 21.48823529, 21.48823529,\n",
              "       21.48823529, 21.48823529, 21.48823529, 21.48823529, 21.48823529,\n",
              "       21.48823529, 21.48823529, 21.48823529, 21.48823529, 21.48823529,\n",
              "       21.48823529, 21.48823529, 21.48823529, 21.48823529, 21.48823529,\n",
              "       21.48823529, 21.48823529, 21.48823529, 21.48823529, 21.48823529,\n",
              "       21.48823529, 21.48823529, 21.48823529, 21.48823529, 21.48823529,\n",
              "       21.48823529, 21.48823529, 21.48823529, 21.48823529, 21.48823529,\n",
              "       21.48823529, 21.48823529, 21.48823529, 21.48823529, 21.48823529,\n",
              "       21.48823529, 21.48823529, 21.48823529, 21.48823529, 21.48823529,\n",
              "       21.48823529, 21.48823529, 21.48823529, 21.48823529, 21.48823529,\n",
              "       21.48823529, 21.48823529, 21.48823529, 21.48823529, 21.48823529,\n",
              "       21.48823529, 21.48823529])"
            ]
          },
          "metadata": {
            "tags": []
          },
          "execution_count": 260
        }
      ]
    },
    {
      "cell_type": "code",
      "metadata": {
        "colab": {
          "base_uri": "https://localhost:8080/"
        },
        "id": "Kpa6O9jmoPNw",
        "outputId": "9386f6e9-4620-415b-9dfd-6264208e5925"
      },
      "source": [
        "r2_score(y_test, y_test_mean)"
      ],
      "execution_count": null,
      "outputs": [
        {
          "output_type": "execute_result",
          "data": {
            "text/plain": [
              "2.220446049250313e-16"
            ]
          },
          "metadata": {
            "tags": []
          },
          "execution_count": 261
        }
      ]
    },
    {
      "cell_type": "code",
      "metadata": {
        "colab": {
          "base_uri": "https://localhost:8080/"
        },
        "id": "oF1YR3yRoaUK",
        "outputId": "72a405fb-17d6-4e1f-aa16-cef716307cc5"
      },
      "source": [
        "r2_score(y_test, y_test)"
      ],
      "execution_count": null,
      "outputs": [
        {
          "output_type": "execute_result",
          "data": {
            "text/plain": [
              "1.0"
            ]
          },
          "metadata": {
            "tags": []
          },
          "execution_count": 262
        }
      ]
    },
    {
      "cell_type": "markdown",
      "metadata": {
        "id": "LaTA35LCt4NN"
      },
      "source": [
        "**Mean Absolute Error (MAE)**\n",
        "\n",
        "MAE is the average of the absolute differences between predictions and actual values. It gives you an idea of how wrong your models predictions are."
      ]
    },
    {
      "cell_type": "code",
      "metadata": {
        "colab": {
          "base_uri": "https://localhost:8080/"
        },
        "id": "LYk7Ai3Iog9o",
        "outputId": "fb493713-059b-4598-fb73-0bb8abec9dbc"
      },
      "source": [
        "# Mean Absolute Error\n",
        "from sklearn.metrics import mean_absolute_error\n",
        "\n",
        "y_preds = model.predict(X_test)\n",
        "mae = mean_absolute_error(y_test, y_preds)\n",
        "mae"
      ],
      "execution_count": null,
      "outputs": [
        {
          "output_type": "execute_result",
          "data": {
            "text/plain": [
              "2.1226372549019623"
            ]
          },
          "metadata": {
            "tags": []
          },
          "execution_count": 263
        }
      ]
    },
    {
      "cell_type": "code",
      "metadata": {
        "colab": {
          "base_uri": "https://localhost:8080/"
        },
        "id": "7-NtvRKAuNaV",
        "outputId": "22ef28be-50b9-4de4-fbce-df0ab6bfa450"
      },
      "source": [
        "df = pd.DataFrame(data={\"actual values\": y_test,\n",
        "                        \"predicted values\": y_preds})\n",
        "df[\"differences\"] = df[\"predicted values\"] - df[\"actual values\"]\n",
        "df"
      ],
      "execution_count": null,
      "outputs": [
        {
          "output_type": "execute_result",
          "data": {
            "text/html": [
              "<div>\n",
              "<style scoped>\n",
              "    .dataframe tbody tr th:only-of-type {\n",
              "        vertical-align: middle;\n",
              "    }\n",
              "\n",
              "    .dataframe tbody tr th {\n",
              "        vertical-align: top;\n",
              "    }\n",
              "\n",
              "    .dataframe thead th {\n",
              "        text-align: right;\n",
              "    }\n",
              "</style>\n",
              "<table border=\"1\" class=\"dataframe\">\n",
              "  <thead>\n",
              "    <tr style=\"text-align: right;\">\n",
              "      <th></th>\n",
              "      <th>actual values</th>\n",
              "      <th>predicted values</th>\n",
              "      <th>differences</th>\n",
              "    </tr>\n",
              "  </thead>\n",
              "  <tbody>\n",
              "    <tr>\n",
              "      <th>173</th>\n",
              "      <td>23.6</td>\n",
              "      <td>23.002</td>\n",
              "      <td>-0.598</td>\n",
              "    </tr>\n",
              "    <tr>\n",
              "      <th>274</th>\n",
              "      <td>32.4</td>\n",
              "      <td>30.826</td>\n",
              "      <td>-1.574</td>\n",
              "    </tr>\n",
              "    <tr>\n",
              "      <th>491</th>\n",
              "      <td>13.6</td>\n",
              "      <td>16.734</td>\n",
              "      <td>3.134</td>\n",
              "    </tr>\n",
              "    <tr>\n",
              "      <th>72</th>\n",
              "      <td>22.8</td>\n",
              "      <td>23.467</td>\n",
              "      <td>0.667</td>\n",
              "    </tr>\n",
              "    <tr>\n",
              "      <th>452</th>\n",
              "      <td>16.1</td>\n",
              "      <td>16.853</td>\n",
              "      <td>0.753</td>\n",
              "    </tr>\n",
              "    <tr>\n",
              "      <th>...</th>\n",
              "      <td>...</td>\n",
              "      <td>...</td>\n",
              "      <td>...</td>\n",
              "    </tr>\n",
              "    <tr>\n",
              "      <th>412</th>\n",
              "      <td>17.9</td>\n",
              "      <td>13.030</td>\n",
              "      <td>-4.870</td>\n",
              "    </tr>\n",
              "    <tr>\n",
              "      <th>436</th>\n",
              "      <td>9.6</td>\n",
              "      <td>12.490</td>\n",
              "      <td>2.890</td>\n",
              "    </tr>\n",
              "    <tr>\n",
              "      <th>411</th>\n",
              "      <td>17.2</td>\n",
              "      <td>13.406</td>\n",
              "      <td>-3.794</td>\n",
              "    </tr>\n",
              "    <tr>\n",
              "      <th>86</th>\n",
              "      <td>22.5</td>\n",
              "      <td>20.219</td>\n",
              "      <td>-2.281</td>\n",
              "    </tr>\n",
              "    <tr>\n",
              "      <th>75</th>\n",
              "      <td>21.4</td>\n",
              "      <td>23.898</td>\n",
              "      <td>2.498</td>\n",
              "    </tr>\n",
              "  </tbody>\n",
              "</table>\n",
              "<p>102 rows × 3 columns</p>\n",
              "</div>"
            ],
            "text/plain": [
              "     actual values  predicted values  differences\n",
              "173           23.6            23.002       -0.598\n",
              "274           32.4            30.826       -1.574\n",
              "491           13.6            16.734        3.134\n",
              "72            22.8            23.467        0.667\n",
              "452           16.1            16.853        0.753\n",
              "..             ...               ...          ...\n",
              "412           17.9            13.030       -4.870\n",
              "436            9.6            12.490        2.890\n",
              "411           17.2            13.406       -3.794\n",
              "86            22.5            20.219       -2.281\n",
              "75            21.4            23.898        2.498\n",
              "\n",
              "[102 rows x 3 columns]"
            ]
          },
          "metadata": {
            "tags": []
          },
          "execution_count": 264
        }
      ]
    },
    {
      "cell_type": "markdown",
      "metadata": {
        "id": "D-_y8F2oxma4"
      },
      "source": [
        "**Mean Squared Error (MSE)**"
      ]
    },
    {
      "cell_type": "code",
      "metadata": {
        "colab": {
          "base_uri": "https://localhost:8080/"
        },
        "id": "A7TPi-rJuZop",
        "outputId": "1097e04e-706b-419c-d0d0-261e0a2d2ef9"
      },
      "source": [
        "# Mean Squared Error\n",
        "from sklearn.metrics import mean_squared_error\n",
        "\n",
        "y_preds = model.predict(X_test)\n",
        "\n",
        "mse = mean_squared_error(y_test, y_preds)\n",
        "mse\n"
      ],
      "execution_count": null,
      "outputs": [
        {
          "output_type": "execute_result",
          "data": {
            "text/plain": [
              "9.242328990196082"
            ]
          },
          "metadata": {
            "tags": []
          },
          "execution_count": 265
        }
      ]
    },
    {
      "cell_type": "code",
      "metadata": {
        "colab": {
          "base_uri": "https://localhost:8080/"
        },
        "id": "WewibEJ5yCYD",
        "outputId": "469a3ab0-c953-49be-ec7a-443ee65b05e9"
      },
      "source": [
        "# Calculate MSE by hand\n",
        "np.square(df[\"differences\"]).mean() "
      ],
      "execution_count": null,
      "outputs": [
        {
          "output_type": "execute_result",
          "data": {
            "text/plain": [
              "9.24232899019608"
            ]
          },
          "metadata": {
            "tags": []
          },
          "execution_count": 266
        }
      ]
    },
    {
      "cell_type": "markdown",
      "metadata": {
        "id": "5mhr93IoxMj_"
      },
      "source": [
        "*4.2.3 Finally Using The Scoring Parameter*"
      ]
    },
    {
      "cell_type": "code",
      "metadata": {
        "id": "1nrAbz5wyjP3"
      },
      "source": [
        "from sklearn.model_selection import cross_val_score\n",
        "from sklearn.ensemble import RandomForestClassifier\n",
        "\n",
        "np.random.seed(42)\n",
        "\n",
        "X = heart_disease.drop(\"target\", axis=1)\n",
        "y = heart_disease[\"target\"]\n",
        "\n",
        "clf = RandomForestClassifier()"
      ],
      "execution_count": null,
      "outputs": []
    },
    {
      "cell_type": "code",
      "metadata": {
        "colab": {
          "base_uri": "https://localhost:8080/"
        },
        "id": "C46Q1P92xneC",
        "outputId": "486eb588-0efb-4128-ca09-0fb6ff95b7a7"
      },
      "source": [
        "np.random.seed(42)\n",
        "cv_acc = cross_val_score(clf, X, y, cv=5, scoring=None)\n",
        "cv_acc"
      ],
      "execution_count": null,
      "outputs": [
        {
          "output_type": "execute_result",
          "data": {
            "text/plain": [
              "array([0.81967213, 0.90163934, 0.83606557, 0.78333333, 0.78333333])"
            ]
          },
          "metadata": {
            "tags": []
          },
          "execution_count": 268
        }
      ]
    },
    {
      "cell_type": "code",
      "metadata": {
        "colab": {
          "base_uri": "https://localhost:8080/"
        },
        "id": "wCLJLcPix6FB",
        "outputId": "b13985e4-542d-4bb4-f6f3-f56c58e93665"
      },
      "source": [
        "# Cross-Validated Accuracy\n",
        "print(f\"The cross-validated accuracy is: {np.mean(cv_acc)*100:.2f}%\")"
      ],
      "execution_count": null,
      "outputs": [
        {
          "output_type": "stream",
          "text": [
            "The cross-validated accuracy is: 82.48%\n"
          ],
          "name": "stdout"
        }
      ]
    },
    {
      "cell_type": "code",
      "metadata": {
        "colab": {
          "base_uri": "https://localhost:8080/"
        },
        "id": "HNFkRsFoyHbY",
        "outputId": "a97c1a88-2cb0-48af-c810-68bf169635b1"
      },
      "source": [
        "np.random.seed(42)\n",
        "cv_acc = cross_val_score(clf, X, y, cv=5, scoring=\"accuracy\")\n",
        "print(f\"The cross-validated accuracy is: {np.mean(cv_acc)*100:.2f}%\")"
      ],
      "execution_count": null,
      "outputs": [
        {
          "output_type": "stream",
          "text": [
            "The cross-validated accuracy is: 82.48%\n"
          ],
          "name": "stdout"
        }
      ]
    },
    {
      "cell_type": "code",
      "metadata": {
        "colab": {
          "base_uri": "https://localhost:8080/"
        },
        "id": "Ty65JpAiyZds",
        "outputId": "2f8df4db-762f-44f9-9a99-d7f35c7566e7"
      },
      "source": [
        "cv_precision = cross_val_score(clf, X, y, cv=5, scoring=\"precision\")\n",
        "np.mean(cv_precision)"
      ],
      "execution_count": null,
      "outputs": [
        {
          "output_type": "execute_result",
          "data": {
            "text/plain": [
              "0.8085601538512754"
            ]
          },
          "metadata": {
            "tags": []
          },
          "execution_count": 271
        }
      ]
    },
    {
      "cell_type": "code",
      "metadata": {
        "colab": {
          "base_uri": "https://localhost:8080/"
        },
        "id": "IExjbVGjywA1",
        "outputId": "5f1e4fce-15a5-499f-aa26-4aee50658b03"
      },
      "source": [
        "# Recall\n",
        "cv_recall = cross_val_score(clf, X, y, cv=5, scoring=\"recall\")\n",
        "np.mean(cv_recall)"
      ],
      "execution_count": null,
      "outputs": [
        {
          "output_type": "execute_result",
          "data": {
            "text/plain": [
              "0.8424242424242424"
            ]
          },
          "metadata": {
            "tags": []
          },
          "execution_count": 272
        }
      ]
    },
    {
      "cell_type": "code",
      "metadata": {
        "colab": {
          "base_uri": "https://localhost:8080/"
        },
        "id": "gmaiIp4zy-Sf",
        "outputId": "56d32dee-890a-4707-ebd8-2a26342a0d4d"
      },
      "source": [
        "cv_f1 = cross_val_score(clf, X, y, cv=5, scoring=\"f1\")\n",
        "np.mean(cv_f1)"
      ],
      "execution_count": null,
      "outputs": [
        {
          "output_type": "execute_result",
          "data": {
            "text/plain": [
              "0.841476533416832"
            ]
          },
          "metadata": {
            "tags": []
          },
          "execution_count": 273
        }
      ]
    },
    {
      "cell_type": "markdown",
      "metadata": {
        "id": "m3phkhDCzMxw"
      },
      "source": [
        "How about our regression model?"
      ]
    },
    {
      "cell_type": "code",
      "metadata": {
        "id": "mjM_c6_QzHkF"
      },
      "source": [
        "from sklearn.model_selection import cross_val_score\n",
        "from sklearn.ensemble import RandomForestRegressor\n",
        "\n",
        "np.random.seed(42)\n",
        "\n",
        "X = boston_df.drop(\"target\", axis=1)\n",
        "y = boston_df[\"target\"]\n",
        "\n",
        "model = RandomForestRegressor()"
      ],
      "execution_count": null,
      "outputs": []
    },
    {
      "cell_type": "code",
      "metadata": {
        "colab": {
          "base_uri": "https://localhost:8080/"
        },
        "id": "vUGXnxARznRB",
        "outputId": "2d9fb4e8-6be4-4844-e5e4-e692f244b328"
      },
      "source": [
        "np.random.seed(42)\n",
        "cv_r2 = cross_val_score(model, X, y, scoring=None)\n",
        "cv_r2"
      ],
      "execution_count": null,
      "outputs": [
        {
          "output_type": "execute_result",
          "data": {
            "text/plain": [
              "array([0.76861165, 0.85851765, 0.74941131, 0.47891315, 0.25642166])"
            ]
          },
          "metadata": {
            "tags": []
          },
          "execution_count": 275
        }
      ]
    },
    {
      "cell_type": "code",
      "metadata": {
        "colab": {
          "base_uri": "https://localhost:8080/"
        },
        "id": "cSOTj3SIz3xV",
        "outputId": "bd1c1011-7f8c-400a-df77-a3a03604fe84"
      },
      "source": [
        "np.random.seed(42)\n",
        "cv_r2 = cross_val_score(model, X, y, scoring=\"r2\")\n",
        "np.mean(cv_r2)\n",
        "\n",
        "# Same results as scoring=None"
      ],
      "execution_count": null,
      "outputs": [
        {
          "output_type": "execute_result",
          "data": {
            "text/plain": [
              "0.622375083951403"
            ]
          },
          "metadata": {
            "tags": []
          },
          "execution_count": 276
        }
      ]
    },
    {
      "cell_type": "code",
      "metadata": {
        "colab": {
          "base_uri": "https://localhost:8080/"
        },
        "id": "Vjp-WG4c0C5k",
        "outputId": "48bdb166-134a-4f71-a484-c3bb894f35a9"
      },
      "source": [
        "# Mean Absolute Error\n",
        "cv_mae = cross_val_score(model, X, y, scoring=\"neg_mean_absolute_error\")\n",
        "cv_mae"
      ],
      "execution_count": null,
      "outputs": [
        {
          "output_type": "execute_result",
          "data": {
            "text/plain": [
              "array([-2.12751961, -2.53956436, -3.42026733, -3.82432673, -3.06893069])"
            ]
          },
          "metadata": {
            "tags": []
          },
          "execution_count": 277
        }
      ]
    },
    {
      "cell_type": "code",
      "metadata": {
        "colab": {
          "base_uri": "https://localhost:8080/"
        },
        "id": "aZALSVja0XFl",
        "outputId": "371dfeec-dda1-467f-dfe6-b2a14632fa60"
      },
      "source": [
        "# Mean Squared Error\n",
        "cv_mse = cross_val_score(model, X, y, cv=5, scoring=\"neg_mean_squared_error\")\n",
        "cv_mse"
      ],
      "execution_count": null,
      "outputs": [
        {
          "output_type": "execute_result",
          "data": {
            "text/plain": [
              "array([ -7.77433365, -12.76515461, -19.26965413, -46.20221782,\n",
              "       -19.10133112])"
            ]
          },
          "metadata": {
            "tags": []
          },
          "execution_count": 278
        }
      ]
    },
    {
      "cell_type": "code",
      "metadata": {
        "colab": {
          "base_uri": "https://localhost:8080/"
        },
        "id": "Dr0pAMhA2CHM",
        "outputId": "ffd616b2-9964-4e42-8f21-6221cf79b0ca"
      },
      "source": [
        "np.mean(cv_mse)"
      ],
      "execution_count": null,
      "outputs": [
        {
          "output_type": "execute_result",
          "data": {
            "text/plain": [
              "-21.02253826604542"
            ]
          },
          "metadata": {
            "tags": []
          },
          "execution_count": 279
        }
      ]
    },
    {
      "cell_type": "markdown",
      "metadata": {
        "id": "tmKbyWBmRWrg"
      },
      "source": [
        "*4.3 Using different evaluation metrics as Scikit-Learn functions*\n",
        "Classification Evaluation Function"
      ]
    },
    {
      "cell_type": "code",
      "metadata": {
        "colab": {
          "base_uri": "https://localhost:8080/"
        },
        "id": "7KRkSZoi2Mc8",
        "outputId": "0c1ca4e8-d942-47a1-a3b7-2d9659d20419"
      },
      "source": [
        "from sklearn.metrics import accuracy_score, precision_score, recall_score, f1_score\n",
        "from sklearn.ensemble import RandomForestClassifier\n",
        "from sklearn.model_selection import train_test_split\n",
        "\n",
        "np.random.seed(42)\n",
        "\n",
        "X = heart_disease.drop(\"target\", axis=1)\n",
        "y = heart_disease[\"target\"]\n",
        "\n",
        "X_train, X_test, y_train, y_test = train_test_split(X, y, test_size=0.2)\n",
        "\n",
        "clf = RandomForestClassifier()\n",
        "clf.fit(X_train, y_train)\n",
        "\n",
        "# Make some predictions\n",
        "y_preds = clf.predict(X_test)\n",
        "\n",
        "# Evaluate The Classifier\n",
        "print(\"Classifier metrics on the test set\")\n",
        "print(f\"Accuracy: {accuracy_score(y_test, y_preds)*100:.2f}%\")\n",
        "print(f\"Precision: {precision_score(y_test, y_preds)}\")\n",
        "print(f\"Recall: {recall_score(y_test, y_preds)}\")\n",
        "print(f\"F1 Score: {f1_score(y_test, y_preds)}\")"
      ],
      "execution_count": null,
      "outputs": [
        {
          "output_type": "stream",
          "text": [
            "Classifier metrics on the test set\n",
            "Accuracy: 85.25%\n",
            "Precision: 0.8484848484848485\n",
            "Recall: 0.875\n",
            "F1 Score: 0.8615384615384615\n"
          ],
          "name": "stdout"
        }
      ]
    },
    {
      "cell_type": "markdown",
      "metadata": {
        "id": "Qk-S-EwETK5w"
      },
      "source": [
        "Regression Evaluation Functions"
      ]
    },
    {
      "cell_type": "code",
      "metadata": {
        "colab": {
          "base_uri": "https://localhost:8080/"
        },
        "id": "tPDJojkdTCrT",
        "outputId": "06169f7e-d1d5-43df-a8fb-06f62ea73a5c"
      },
      "source": [
        "from sklearn.metrics import r2_score, mean_absolute_error, mean_squared_error\n",
        "from sklearn.ensemble import RandomForestRegressor\n",
        "from sklearn.model_selection import train_test_split\n",
        "\n",
        "np.random.seed(42)\n",
        "\n",
        "X = boston_df.drop(\"target\", axis=1)\n",
        "y = boston_df[\"target\"]\n",
        "\n",
        "X_train, X_test, y_train, y_test = train_test_split(X, y, test_size=0.2)\n",
        "\n",
        "model = RandomForestRegressor()\n",
        "model.fit(X_train, y_train)\n",
        "\n",
        "# Make Predictions using our Regression model\n",
        "y_preds = model.predict(X_test)\n",
        "\n",
        "# Evaluate the regression model\n",
        "print(\"Classifier metrics on the test set\")\n",
        "print(f\"R^2: {r2_score(y_test, y_preds)}\")\n",
        "print(f\"MAE: {mean_absolute_error(y_test, y_preds)}\")\n",
        "print(f\"MSE: {mean_squared_error(y_test, y_preds)}\")"
      ],
      "execution_count": null,
      "outputs": [
        {
          "output_type": "stream",
          "text": [
            "Classifier metrics on the test set\n",
            "R^2: 0.8739690141174031\n",
            "MAE: 2.1226372549019623\n",
            "MSE: 9.242328990196082\n"
          ],
          "name": "stdout"
        }
      ]
    },
    {
      "cell_type": "markdown",
      "metadata": {
        "id": "6gs0rLOBjjie"
      },
      "source": [
        "### 5. Improving A Machine Learning Model\n",
        "\n",
        "First Predictions = Baseline predictions\n",
        "\n",
        "First Model = baseline model\n",
        "\n",
        "From a data perspective:\n",
        "* Could we collect more data? (generally, the more data, the better)\n",
        "* Could we improve our data? (more features maybe?)\n",
        "\n",
        "From a model perspective\n",
        "* Is there a better model we can use?\n",
        "* Could we improve the current model?\n",
        "\n",
        "Hyperparameters vs Parameters\n",
        "* Parameters = Model find these patterns in data\n",
        "* Hyperparameter= Settings on a model you can adjust to (potentially) improve it's ability to find patterns\n",
        "\n",
        "3 Ways to adjust hyperparameters:\n",
        "1. By Hand\n",
        "2. Randomly with RandomSearchCV\n",
        "3. Exhaustively with GridSearchCV"
      ]
    },
    {
      "cell_type": "code",
      "metadata": {
        "id": "bNPeX_0BUULT"
      },
      "source": [
        "from sklearn.ensemble import RandomForestClassifier\n",
        "\n",
        "clf = RandomForestClassifier()"
      ],
      "execution_count": null,
      "outputs": []
    },
    {
      "cell_type": "code",
      "metadata": {
        "colab": {
          "base_uri": "https://localhost:8080/"
        },
        "id": "PaQyRzVbrYd_",
        "outputId": "92aad506-a2c3-4de0-a3b9-11e0d2074716"
      },
      "source": [
        "clf.get_params()        "
      ],
      "execution_count": null,
      "outputs": [
        {
          "output_type": "execute_result",
          "data": {
            "text/plain": [
              "{'bootstrap': True,\n",
              " 'ccp_alpha': 0.0,\n",
              " 'class_weight': None,\n",
              " 'criterion': 'gini',\n",
              " 'max_depth': None,\n",
              " 'max_features': 'auto',\n",
              " 'max_leaf_nodes': None,\n",
              " 'max_samples': None,\n",
              " 'min_impurity_decrease': 0.0,\n",
              " 'min_impurity_split': None,\n",
              " 'min_samples_leaf': 1,\n",
              " 'min_samples_split': 2,\n",
              " 'min_weight_fraction_leaf': 0.0,\n",
              " 'n_estimators': 100,\n",
              " 'n_jobs': None,\n",
              " 'oob_score': False,\n",
              " 'random_state': None,\n",
              " 'verbose': 0,\n",
              " 'warm_start': False}"
            ]
          },
          "metadata": {
            "tags": []
          },
          "execution_count": 283
        }
      ]
    },
    {
      "cell_type": "markdown",
      "metadata": {
        "id": "0_iQ8tq-u3VZ"
      },
      "source": [
        "*5.1 Tuning Hyperparameters By Hand*\n",
        "\n",
        "Let's make 3 sets, training, validation and test"
      ]
    },
    {
      "cell_type": "code",
      "metadata": {
        "colab": {
          "base_uri": "https://localhost:8080/"
        },
        "id": "uVMfBp9mrjvV",
        "outputId": "129adf03-bac0-48cf-e473-4ccd9e160b51"
      },
      "source": [
        "clf.get_params()"
      ],
      "execution_count": null,
      "outputs": [
        {
          "output_type": "execute_result",
          "data": {
            "text/plain": [
              "{'bootstrap': True,\n",
              " 'ccp_alpha': 0.0,\n",
              " 'class_weight': None,\n",
              " 'criterion': 'gini',\n",
              " 'max_depth': None,\n",
              " 'max_features': 'auto',\n",
              " 'max_leaf_nodes': None,\n",
              " 'max_samples': None,\n",
              " 'min_impurity_decrease': 0.0,\n",
              " 'min_impurity_split': None,\n",
              " 'min_samples_leaf': 1,\n",
              " 'min_samples_split': 2,\n",
              " 'min_weight_fraction_leaf': 0.0,\n",
              " 'n_estimators': 100,\n",
              " 'n_jobs': None,\n",
              " 'oob_score': False,\n",
              " 'random_state': None,\n",
              " 'verbose': 0,\n",
              " 'warm_start': False}"
            ]
          },
          "metadata": {
            "tags": []
          },
          "execution_count": 284
        }
      ]
    },
    {
      "cell_type": "markdown",
      "metadata": {
        "id": "IMt9d9BFxKAV"
      },
      "source": [
        "We're going to try and adjust:\n",
        "* `max_depth`\n",
        "* `max_features`\n",
        "* `min_samples_leaf`\n",
        "* `min_samples_split`\n",
        "* `n_estimators`"
      ]
    },
    {
      "cell_type": "code",
      "metadata": {
        "id": "9K_8Acg6xB7_"
      },
      "source": [
        "def evaluate_preds(y_true, y_preds):\n",
        "  \"\"\"\n",
        "  Performs evaluation comparison on y_true labels vs. y_pred labels.\n",
        "  \"\"\"\n",
        "\n",
        "  accuracy = accuracy_score(y_true, y_preds)\n",
        "  precision = precision_score(y_true, y_preds)\n",
        "  recall = recall_score(y_true, y_preds)\n",
        "  f1 = f1_score(y_true, y_preds)\n",
        "  metric_dict = {\"accuracy\": round(accuracy, 2),\n",
        "                 \"precision\": round(precision, 2),\n",
        "                 \"recall\": round(recall, 2),\n",
        "                 \"f1\": round(f1, 2)}\n",
        "\n",
        "  print(f\"Accuracy: {accuracy * 100:.2f}%\")\n",
        "  print(f\"Precision: {precision * 100:.2f}%\")\n",
        "  print(f\"Recall: {recall * 100:.2f}%\")\n",
        "  print(f\"F1 Score: {f1 * 100:.2f}%\")\n",
        "\n",
        "  return metric_dict\n"
      ],
      "execution_count": null,
      "outputs": []
    },
    {
      "cell_type": "code",
      "metadata": {
        "colab": {
          "base_uri": "https://localhost:8080/"
        },
        "id": "cK1rP29Gyvhp",
        "outputId": "acdae026-f72f-47f3-af07-bb3dbdea3402"
      },
      "source": [
        "from sklearn.ensemble import RandomForestClassifier\n",
        "\n",
        "# Shuffle the data\n",
        "heart_disease_shuffled = heart_disease.sample(frac=1)\n",
        "\n",
        "# Split into X and y\n",
        "X = heart_disease_shuffled.drop(\"target\", axis=1)\n",
        "y = heart_disease_shuffled[\"target\"]\n",
        "\n",
        "# Split the data into train, validation & test sets\n",
        "train_split = round(0.7 * len(heart_disease_shuffled)) # 70% of data\n",
        "valid_split = round(train_split + 0.15 * len(heart_disease_shuffled)) # 15% of data\n",
        "X_train, y_train = X[:train_split], y[:train_split]\n",
        "X_valid, y_valid = X[train_split:valid_split], y[train_split:valid_split]\n",
        "X_test, y_test = X[valid_split:], y[valid_split:]\n",
        "\n",
        "clf = RandomForestClassifier()\n",
        "clf.fit(X_train, y_train)\n",
        "\n",
        "# Make Baseline Predictions Using Validation Data Set\n",
        "y_preds = clf.predict(X_valid)\n",
        "\n",
        "# Evaluate the classifier on validation\n",
        "baseline_metrics = evaluate_preds(y_valid, y_preds)\n",
        "baseline_metrics"
      ],
      "execution_count": null,
      "outputs": [
        {
          "output_type": "stream",
          "text": [
            "Accuracy: 80.00%\n",
            "Precision: 75.86%\n",
            "Recall: 91.67%\n",
            "F1 Score: 83.02%\n"
          ],
          "name": "stdout"
        },
        {
          "output_type": "execute_result",
          "data": {
            "text/plain": [
              "{'accuracy': 0.8, 'f1': 0.83, 'precision': 0.76, 'recall': 0.92}"
            ]
          },
          "metadata": {
            "tags": []
          },
          "execution_count": 286
        }
      ]
    },
    {
      "cell_type": "code",
      "metadata": {
        "id": "m0N_KEP9_T41",
        "colab": {
          "base_uri": "https://localhost:8080/"
        },
        "outputId": "16bbfe72-8b8a-46ff-95a9-fca8acfe226c"
      },
      "source": [
        "np.random.seed(42)\n",
        "\n",
        "# Create a second classifier with different hyperparameters\n",
        "clf_2 = RandomForestClassifier(n_estimators=100)\n",
        "clf_2.fit(X_train, y_train)\n",
        "\n",
        "# Make predictions with different hyperparameters\n",
        "y_preds_2 = clf_2.predict(X_valid)\n",
        "\n",
        "# Evaluate the second classifier\n",
        "clf_2_metrics = evaluate_preds(y_valid, y_preds_2)"
      ],
      "execution_count": null,
      "outputs": [
        {
          "output_type": "stream",
          "text": [
            "Accuracy: 80.00%\n",
            "Precision: 74.19%\n",
            "Recall: 95.83%\n",
            "F1 Score: 83.64%\n"
          ],
          "name": "stdout"
        }
      ]
    },
    {
      "cell_type": "markdown",
      "metadata": {
        "id": "-73d2R5r3biP"
      },
      "source": [
        "*5.2 Hyperparameter Tuning Using RandomizedSearchCV*"
      ]
    },
    {
      "cell_type": "code",
      "metadata": {
        "colab": {
          "base_uri": "https://localhost:8080/"
        },
        "id": "GnL4Wf_GIt6r",
        "outputId": "38e5996b-58de-4348-b1fe-a676522f3b7e"
      },
      "source": [
        "from sklearn.model_selection import RandomizedSearchCV\n",
        "\n",
        "grid = {\"n_estimators\": [10, 100, 200, 500, 1000, 1200],\n",
        "        \"max_depth\": [None, 5, 10, 20, 30],\n",
        "        \"max_features\": [\"auto\", \"sqrt\"],\n",
        "        \"min_samples_split\": [2, 4, 6],\n",
        "        \"min_samples_leaf\": [1, 2, 4]}\n",
        "\n",
        "np.random.seed(42)\n",
        "\n",
        "# Split into X & y\n",
        "X = heart_disease_shuffled.drop(\"target\", axis=1)\n",
        "y = heart_disease_shuffled[\"target\"]\n",
        "\n",
        "# Split into train and test sets\n",
        "X_train, X_test, y_train, y_test = train_test_split(X, y, test_size=0.2)\n",
        "\n",
        "# Instantiate RandomForestClassifier\n",
        "clf = RandomForestClassifier(n_jobs=None) # \"n_jobs\" is how much of your processor you'll allocate to your machine learning model\n",
        "\n",
        "# Setup RandomizedSearchCV\n",
        "rs_clf = RandomizedSearchCV(estimator=clf,\n",
        "                            param_distributions=grid,\n",
        "                            n_iter=10, # Number of model to try\n",
        "                            cv=5,\n",
        "                            verbose=2)  \n",
        "\n",
        "# Fit the RandomizedSearchCV version of clf\n",
        "rs_clf.fit(X_train, y_train);\n"
      ],
      "execution_count": null,
      "outputs": [
        {
          "output_type": "stream",
          "text": [
            "Fitting 5 folds for each of 10 candidates, totalling 50 fits\n",
            "[CV] n_estimators=1200, min_samples_split=6, min_samples_leaf=2, max_features=sqrt, max_depth=5 \n"
          ],
          "name": "stdout"
        },
        {
          "output_type": "stream",
          "text": [
            "[Parallel(n_jobs=1)]: Using backend SequentialBackend with 1 concurrent workers.\n"
          ],
          "name": "stderr"
        },
        {
          "output_type": "stream",
          "text": [
            "[CV]  n_estimators=1200, min_samples_split=6, min_samples_leaf=2, max_features=sqrt, max_depth=5, total=   1.9s\n",
            "[CV] n_estimators=1200, min_samples_split=6, min_samples_leaf=2, max_features=sqrt, max_depth=5 \n"
          ],
          "name": "stdout"
        },
        {
          "output_type": "stream",
          "text": [
            "[Parallel(n_jobs=1)]: Done   1 out of   1 | elapsed:    1.9s remaining:    0.0s\n"
          ],
          "name": "stderr"
        },
        {
          "output_type": "stream",
          "text": [
            "[CV]  n_estimators=1200, min_samples_split=6, min_samples_leaf=2, max_features=sqrt, max_depth=5, total=   1.8s\n",
            "[CV] n_estimators=1200, min_samples_split=6, min_samples_leaf=2, max_features=sqrt, max_depth=5 \n",
            "[CV]  n_estimators=1200, min_samples_split=6, min_samples_leaf=2, max_features=sqrt, max_depth=5, total=   2.0s\n",
            "[CV] n_estimators=1200, min_samples_split=6, min_samples_leaf=2, max_features=sqrt, max_depth=5 \n",
            "[CV]  n_estimators=1200, min_samples_split=6, min_samples_leaf=2, max_features=sqrt, max_depth=5, total=   1.8s\n",
            "[CV] n_estimators=1200, min_samples_split=6, min_samples_leaf=2, max_features=sqrt, max_depth=5 \n",
            "[CV]  n_estimators=1200, min_samples_split=6, min_samples_leaf=2, max_features=sqrt, max_depth=5, total=   1.8s\n",
            "[CV] n_estimators=100, min_samples_split=4, min_samples_leaf=2, max_features=auto, max_depth=30 \n",
            "[CV]  n_estimators=100, min_samples_split=4, min_samples_leaf=2, max_features=auto, max_depth=30, total=   0.2s\n",
            "[CV] n_estimators=100, min_samples_split=4, min_samples_leaf=2, max_features=auto, max_depth=30 \n",
            "[CV]  n_estimators=100, min_samples_split=4, min_samples_leaf=2, max_features=auto, max_depth=30, total=   0.2s\n",
            "[CV] n_estimators=100, min_samples_split=4, min_samples_leaf=2, max_features=auto, max_depth=30 \n",
            "[CV]  n_estimators=100, min_samples_split=4, min_samples_leaf=2, max_features=auto, max_depth=30, total=   0.1s\n",
            "[CV] n_estimators=100, min_samples_split=4, min_samples_leaf=2, max_features=auto, max_depth=30 \n",
            "[CV]  n_estimators=100, min_samples_split=4, min_samples_leaf=2, max_features=auto, max_depth=30, total=   0.2s\n",
            "[CV] n_estimators=100, min_samples_split=4, min_samples_leaf=2, max_features=auto, max_depth=30 \n",
            "[CV]  n_estimators=100, min_samples_split=4, min_samples_leaf=2, max_features=auto, max_depth=30, total=   0.2s\n",
            "[CV] n_estimators=200, min_samples_split=2, min_samples_leaf=2, max_features=sqrt, max_depth=10 \n",
            "[CV]  n_estimators=200, min_samples_split=2, min_samples_leaf=2, max_features=sqrt, max_depth=10, total=   0.3s\n",
            "[CV] n_estimators=200, min_samples_split=2, min_samples_leaf=2, max_features=sqrt, max_depth=10 \n",
            "[CV]  n_estimators=200, min_samples_split=2, min_samples_leaf=2, max_features=sqrt, max_depth=10, total=   0.3s\n",
            "[CV] n_estimators=200, min_samples_split=2, min_samples_leaf=2, max_features=sqrt, max_depth=10 \n",
            "[CV]  n_estimators=200, min_samples_split=2, min_samples_leaf=2, max_features=sqrt, max_depth=10, total=   0.3s\n",
            "[CV] n_estimators=200, min_samples_split=2, min_samples_leaf=2, max_features=sqrt, max_depth=10 \n",
            "[CV]  n_estimators=200, min_samples_split=2, min_samples_leaf=2, max_features=sqrt, max_depth=10, total=   0.3s\n",
            "[CV] n_estimators=200, min_samples_split=2, min_samples_leaf=2, max_features=sqrt, max_depth=10 \n",
            "[CV]  n_estimators=200, min_samples_split=2, min_samples_leaf=2, max_features=sqrt, max_depth=10, total=   0.3s\n",
            "[CV] n_estimators=100, min_samples_split=6, min_samples_leaf=1, max_features=auto, max_depth=20 \n",
            "[CV]  n_estimators=100, min_samples_split=6, min_samples_leaf=1, max_features=auto, max_depth=20, total=   0.2s\n",
            "[CV] n_estimators=100, min_samples_split=6, min_samples_leaf=1, max_features=auto, max_depth=20 \n",
            "[CV]  n_estimators=100, min_samples_split=6, min_samples_leaf=1, max_features=auto, max_depth=20, total=   0.2s\n",
            "[CV] n_estimators=100, min_samples_split=6, min_samples_leaf=1, max_features=auto, max_depth=20 \n",
            "[CV]  n_estimators=100, min_samples_split=6, min_samples_leaf=1, max_features=auto, max_depth=20, total=   0.2s\n",
            "[CV] n_estimators=100, min_samples_split=6, min_samples_leaf=1, max_features=auto, max_depth=20 \n",
            "[CV]  n_estimators=100, min_samples_split=6, min_samples_leaf=1, max_features=auto, max_depth=20, total=   0.2s\n",
            "[CV] n_estimators=100, min_samples_split=6, min_samples_leaf=1, max_features=auto, max_depth=20 \n",
            "[CV]  n_estimators=100, min_samples_split=6, min_samples_leaf=1, max_features=auto, max_depth=20, total=   0.2s\n",
            "[CV] n_estimators=10, min_samples_split=4, min_samples_leaf=1, max_features=sqrt, max_depth=5 \n",
            "[CV]  n_estimators=10, min_samples_split=4, min_samples_leaf=1, max_features=sqrt, max_depth=5, total=   0.0s\n",
            "[CV] n_estimators=10, min_samples_split=4, min_samples_leaf=1, max_features=sqrt, max_depth=5 \n",
            "[CV]  n_estimators=10, min_samples_split=4, min_samples_leaf=1, max_features=sqrt, max_depth=5, total=   0.0s\n",
            "[CV] n_estimators=10, min_samples_split=4, min_samples_leaf=1, max_features=sqrt, max_depth=5 \n",
            "[CV]  n_estimators=10, min_samples_split=4, min_samples_leaf=1, max_features=sqrt, max_depth=5, total=   0.0s\n",
            "[CV] n_estimators=10, min_samples_split=4, min_samples_leaf=1, max_features=sqrt, max_depth=5 \n",
            "[CV]  n_estimators=10, min_samples_split=4, min_samples_leaf=1, max_features=sqrt, max_depth=5, total=   0.0s\n",
            "[CV] n_estimators=10, min_samples_split=4, min_samples_leaf=1, max_features=sqrt, max_depth=5 \n",
            "[CV]  n_estimators=10, min_samples_split=4, min_samples_leaf=1, max_features=sqrt, max_depth=5, total=   0.0s\n",
            "[CV] n_estimators=10, min_samples_split=4, min_samples_leaf=2, max_features=auto, max_depth=10 \n",
            "[CV]  n_estimators=10, min_samples_split=4, min_samples_leaf=2, max_features=auto, max_depth=10, total=   0.0s\n",
            "[CV] n_estimators=10, min_samples_split=4, min_samples_leaf=2, max_features=auto, max_depth=10 \n",
            "[CV]  n_estimators=10, min_samples_split=4, min_samples_leaf=2, max_features=auto, max_depth=10, total=   0.0s\n",
            "[CV] n_estimators=10, min_samples_split=4, min_samples_leaf=2, max_features=auto, max_depth=10 \n",
            "[CV]  n_estimators=10, min_samples_split=4, min_samples_leaf=2, max_features=auto, max_depth=10, total=   0.0s\n",
            "[CV] n_estimators=10, min_samples_split=4, min_samples_leaf=2, max_features=auto, max_depth=10 \n",
            "[CV]  n_estimators=10, min_samples_split=4, min_samples_leaf=2, max_features=auto, max_depth=10, total=   0.0s\n",
            "[CV] n_estimators=10, min_samples_split=4, min_samples_leaf=2, max_features=auto, max_depth=10 \n",
            "[CV]  n_estimators=10, min_samples_split=4, min_samples_leaf=2, max_features=auto, max_depth=10, total=   0.0s\n",
            "[CV] n_estimators=500, min_samples_split=6, min_samples_leaf=2, max_features=sqrt, max_depth=None \n",
            "[CV]  n_estimators=500, min_samples_split=6, min_samples_leaf=2, max_features=sqrt, max_depth=None, total=   0.8s\n",
            "[CV] n_estimators=500, min_samples_split=6, min_samples_leaf=2, max_features=sqrt, max_depth=None \n",
            "[CV]  n_estimators=500, min_samples_split=6, min_samples_leaf=2, max_features=sqrt, max_depth=None, total=   0.8s\n",
            "[CV] n_estimators=500, min_samples_split=6, min_samples_leaf=2, max_features=sqrt, max_depth=None \n",
            "[CV]  n_estimators=500, min_samples_split=6, min_samples_leaf=2, max_features=sqrt, max_depth=None, total=   0.8s\n",
            "[CV] n_estimators=500, min_samples_split=6, min_samples_leaf=2, max_features=sqrt, max_depth=None \n",
            "[CV]  n_estimators=500, min_samples_split=6, min_samples_leaf=2, max_features=sqrt, max_depth=None, total=   0.8s\n",
            "[CV] n_estimators=500, min_samples_split=6, min_samples_leaf=2, max_features=sqrt, max_depth=None \n",
            "[CV]  n_estimators=500, min_samples_split=6, min_samples_leaf=2, max_features=sqrt, max_depth=None, total=   0.8s\n",
            "[CV] n_estimators=200, min_samples_split=6, min_samples_leaf=2, max_features=sqrt, max_depth=None \n",
            "[CV]  n_estimators=200, min_samples_split=6, min_samples_leaf=2, max_features=sqrt, max_depth=None, total=   0.3s\n",
            "[CV] n_estimators=200, min_samples_split=6, min_samples_leaf=2, max_features=sqrt, max_depth=None \n",
            "[CV]  n_estimators=200, min_samples_split=6, min_samples_leaf=2, max_features=sqrt, max_depth=None, total=   0.3s\n",
            "[CV] n_estimators=200, min_samples_split=6, min_samples_leaf=2, max_features=sqrt, max_depth=None \n",
            "[CV]  n_estimators=200, min_samples_split=6, min_samples_leaf=2, max_features=sqrt, max_depth=None, total=   0.4s\n",
            "[CV] n_estimators=200, min_samples_split=6, min_samples_leaf=2, max_features=sqrt, max_depth=None \n",
            "[CV]  n_estimators=200, min_samples_split=6, min_samples_leaf=2, max_features=sqrt, max_depth=None, total=   0.4s\n",
            "[CV] n_estimators=200, min_samples_split=6, min_samples_leaf=2, max_features=sqrt, max_depth=None \n",
            "[CV]  n_estimators=200, min_samples_split=6, min_samples_leaf=2, max_features=sqrt, max_depth=None, total=   0.4s\n",
            "[CV] n_estimators=200, min_samples_split=4, min_samples_leaf=4, max_features=auto, max_depth=10 \n",
            "[CV]  n_estimators=200, min_samples_split=4, min_samples_leaf=4, max_features=auto, max_depth=10, total=   0.3s\n",
            "[CV] n_estimators=200, min_samples_split=4, min_samples_leaf=4, max_features=auto, max_depth=10 \n",
            "[CV]  n_estimators=200, min_samples_split=4, min_samples_leaf=4, max_features=auto, max_depth=10, total=   0.3s\n",
            "[CV] n_estimators=200, min_samples_split=4, min_samples_leaf=4, max_features=auto, max_depth=10 \n",
            "[CV]  n_estimators=200, min_samples_split=4, min_samples_leaf=4, max_features=auto, max_depth=10, total=   0.3s\n",
            "[CV] n_estimators=200, min_samples_split=4, min_samples_leaf=4, max_features=auto, max_depth=10 \n",
            "[CV]  n_estimators=200, min_samples_split=4, min_samples_leaf=4, max_features=auto, max_depth=10, total=   0.3s\n",
            "[CV] n_estimators=200, min_samples_split=4, min_samples_leaf=4, max_features=auto, max_depth=10 \n",
            "[CV]  n_estimators=200, min_samples_split=4, min_samples_leaf=4, max_features=auto, max_depth=10, total=   0.3s\n",
            "[CV] n_estimators=1000, min_samples_split=4, min_samples_leaf=2, max_features=sqrt, max_depth=20 \n",
            "[CV]  n_estimators=1000, min_samples_split=4, min_samples_leaf=2, max_features=sqrt, max_depth=20, total=   1.5s\n",
            "[CV] n_estimators=1000, min_samples_split=4, min_samples_leaf=2, max_features=sqrt, max_depth=20 \n",
            "[CV]  n_estimators=1000, min_samples_split=4, min_samples_leaf=2, max_features=sqrt, max_depth=20, total=   1.6s\n",
            "[CV] n_estimators=1000, min_samples_split=4, min_samples_leaf=2, max_features=sqrt, max_depth=20 \n",
            "[CV]  n_estimators=1000, min_samples_split=4, min_samples_leaf=2, max_features=sqrt, max_depth=20, total=   1.5s\n",
            "[CV] n_estimators=1000, min_samples_split=4, min_samples_leaf=2, max_features=sqrt, max_depth=20 \n",
            "[CV]  n_estimators=1000, min_samples_split=4, min_samples_leaf=2, max_features=sqrt, max_depth=20, total=   1.6s\n",
            "[CV] n_estimators=1000, min_samples_split=4, min_samples_leaf=2, max_features=sqrt, max_depth=20 \n",
            "[CV]  n_estimators=1000, min_samples_split=4, min_samples_leaf=2, max_features=sqrt, max_depth=20, total=   1.5s\n"
          ],
          "name": "stdout"
        },
        {
          "output_type": "stream",
          "text": [
            "[Parallel(n_jobs=1)]: Done  50 out of  50 | elapsed:   27.9s finished\n"
          ],
          "name": "stderr"
        }
      ]
    },
    {
      "cell_type": "code",
      "metadata": {
        "colab": {
          "base_uri": "https://localhost:8080/"
        },
        "id": "I9JCnfOC7Uid",
        "outputId": "f3696278-b8d0-4015-c083-3ed0e7022530"
      },
      "source": [
        "rs_clf.best_params_"
      ],
      "execution_count": null,
      "outputs": [
        {
          "output_type": "execute_result",
          "data": {
            "text/plain": [
              "{'max_depth': 10,\n",
              " 'max_features': 'auto',\n",
              " 'min_samples_leaf': 4,\n",
              " 'min_samples_split': 4,\n",
              " 'n_estimators': 200}"
            ]
          },
          "metadata": {
            "tags": []
          },
          "execution_count": 289
        }
      ]
    },
    {
      "cell_type": "code",
      "metadata": {
        "colab": {
          "base_uri": "https://localhost:8080/"
        },
        "id": "ph0oE6ij79fn",
        "outputId": "54bc69f9-f06d-4d58-986f-5de34c190dc9"
      },
      "source": [
        "# Let's make predictions with the best hyperparameters\n",
        "rs_y_preds = rs_clf.predict(X_test)\n",
        "\n",
        "# Evaluate the predictions\n",
        "rs_metrics = evaluate_preds(y_test, rs_y_preds)"
      ],
      "execution_count": null,
      "outputs": [
        {
          "output_type": "stream",
          "text": [
            "Accuracy: 81.97%\n",
            "Precision: 89.19%\n",
            "Recall: 82.50%\n",
            "F1 Score: 85.71%\n"
          ],
          "name": "stdout"
        }
      ]
    },
    {
      "cell_type": "markdown",
      "metadata": {
        "id": "B8md2fDQQMg3"
      },
      "source": [
        "*5.3 Hyperparameter tuning with GridSearchCV*"
      ]
    },
    {
      "cell_type": "code",
      "metadata": {
        "colab": {
          "base_uri": "https://localhost:8080/"
        },
        "id": "C-kGr6FV8Xdr",
        "outputId": "4688db3f-223c-4a15-9b5f-25930f11de60"
      },
      "source": [
        "grid"
      ],
      "execution_count": null,
      "outputs": [
        {
          "output_type": "execute_result",
          "data": {
            "text/plain": [
              "{'max_depth': [None, 5, 10, 20, 30],\n",
              " 'max_features': ['auto', 'sqrt'],\n",
              " 'min_samples_leaf': [1, 2, 4],\n",
              " 'min_samples_split': [2, 4, 6],\n",
              " 'n_estimators': [10, 100, 200, 500, 1000, 1200]}"
            ]
          },
          "metadata": {
            "tags": []
          },
          "execution_count": 291
        }
      ]
    },
    {
      "cell_type": "code",
      "metadata": {
        "id": "YyGwEgYVT8Wy",
        "colab": {
          "base_uri": "https://localhost:8080/"
        },
        "outputId": "72baff80-4321-4843-9728-d67e58015f59"
      },
      "source": [
        "from sklearn.model_selection import GridSearchCV\n",
        "\n",
        "grid_2 = {\"n_estimators\": [100, 200, 500],\n",
        "          \"max_depth\": [10],\n",
        "          \"max_features\": [\"auto\", \"sqrt\"],\n",
        "          \"min_samples_split\": [4],\n",
        "          \"min_samples_leaf\": [2, 4]}\n",
        "\n",
        "# Split into X & y\n",
        "X = heart_disease_shuffled.drop(\"target\", axis=1)\n",
        "y = heart_disease_shuffled[\"target\"]\n",
        "\n",
        "# Instantiate RandomForestClassifier\n",
        "clf = RandomForestClassifier(n_jobs=1)\n",
        "\n",
        "# Setup GridSearchCV\n",
        "gs_clf = GridSearchCV(estimator=clf,\n",
        "                      param_grid=grid_2,\n",
        "                      cv=5,\n",
        "                      verbose=2)\n",
        "\n",
        "# Fit the GridSearchCV version of clf\n",
        "gs_clf.fit(X_train, y_train)"
      ],
      "execution_count": null,
      "outputs": [
        {
          "output_type": "stream",
          "text": [
            "Fitting 5 folds for each of 12 candidates, totalling 60 fits\n",
            "[CV] max_depth=10, max_features=auto, min_samples_leaf=2, min_samples_split=4, n_estimators=100 \n",
            "[CV]  max_depth=10, max_features=auto, min_samples_leaf=2, min_samples_split=4, n_estimators=100, total=   0.2s\n",
            "[CV] max_depth=10, max_features=auto, min_samples_leaf=2, min_samples_split=4, n_estimators=100 \n"
          ],
          "name": "stdout"
        },
        {
          "output_type": "stream",
          "text": [
            "[Parallel(n_jobs=1)]: Using backend SequentialBackend with 1 concurrent workers.\n",
            "[Parallel(n_jobs=1)]: Done   1 out of   1 | elapsed:    0.2s remaining:    0.0s\n"
          ],
          "name": "stderr"
        },
        {
          "output_type": "stream",
          "text": [
            "[CV]  max_depth=10, max_features=auto, min_samples_leaf=2, min_samples_split=4, n_estimators=100, total=   0.2s\n",
            "[CV] max_depth=10, max_features=auto, min_samples_leaf=2, min_samples_split=4, n_estimators=100 \n",
            "[CV]  max_depth=10, max_features=auto, min_samples_leaf=2, min_samples_split=4, n_estimators=100, total=   0.2s\n",
            "[CV] max_depth=10, max_features=auto, min_samples_leaf=2, min_samples_split=4, n_estimators=100 \n",
            "[CV]  max_depth=10, max_features=auto, min_samples_leaf=2, min_samples_split=4, n_estimators=100, total=   0.2s\n",
            "[CV] max_depth=10, max_features=auto, min_samples_leaf=2, min_samples_split=4, n_estimators=100 \n",
            "[CV]  max_depth=10, max_features=auto, min_samples_leaf=2, min_samples_split=4, n_estimators=100, total=   0.2s\n",
            "[CV] max_depth=10, max_features=auto, min_samples_leaf=2, min_samples_split=4, n_estimators=200 \n",
            "[CV]  max_depth=10, max_features=auto, min_samples_leaf=2, min_samples_split=4, n_estimators=200, total=   0.3s\n",
            "[CV] max_depth=10, max_features=auto, min_samples_leaf=2, min_samples_split=4, n_estimators=200 \n",
            "[CV]  max_depth=10, max_features=auto, min_samples_leaf=2, min_samples_split=4, n_estimators=200, total=   0.3s\n",
            "[CV] max_depth=10, max_features=auto, min_samples_leaf=2, min_samples_split=4, n_estimators=200 \n",
            "[CV]  max_depth=10, max_features=auto, min_samples_leaf=2, min_samples_split=4, n_estimators=200, total=   0.3s\n",
            "[CV] max_depth=10, max_features=auto, min_samples_leaf=2, min_samples_split=4, n_estimators=200 \n",
            "[CV]  max_depth=10, max_features=auto, min_samples_leaf=2, min_samples_split=4, n_estimators=200, total=   0.3s\n",
            "[CV] max_depth=10, max_features=auto, min_samples_leaf=2, min_samples_split=4, n_estimators=200 \n",
            "[CV]  max_depth=10, max_features=auto, min_samples_leaf=2, min_samples_split=4, n_estimators=200, total=   0.3s\n",
            "[CV] max_depth=10, max_features=auto, min_samples_leaf=2, min_samples_split=4, n_estimators=500 \n",
            "[CV]  max_depth=10, max_features=auto, min_samples_leaf=2, min_samples_split=4, n_estimators=500, total=   0.8s\n",
            "[CV] max_depth=10, max_features=auto, min_samples_leaf=2, min_samples_split=4, n_estimators=500 \n",
            "[CV]  max_depth=10, max_features=auto, min_samples_leaf=2, min_samples_split=4, n_estimators=500, total=   0.7s\n",
            "[CV] max_depth=10, max_features=auto, min_samples_leaf=2, min_samples_split=4, n_estimators=500 \n",
            "[CV]  max_depth=10, max_features=auto, min_samples_leaf=2, min_samples_split=4, n_estimators=500, total=   0.8s\n",
            "[CV] max_depth=10, max_features=auto, min_samples_leaf=2, min_samples_split=4, n_estimators=500 \n",
            "[CV]  max_depth=10, max_features=auto, min_samples_leaf=2, min_samples_split=4, n_estimators=500, total=   0.8s\n",
            "[CV] max_depth=10, max_features=auto, min_samples_leaf=2, min_samples_split=4, n_estimators=500 \n",
            "[CV]  max_depth=10, max_features=auto, min_samples_leaf=2, min_samples_split=4, n_estimators=500, total=   0.8s\n",
            "[CV] max_depth=10, max_features=auto, min_samples_leaf=4, min_samples_split=4, n_estimators=100 \n",
            "[CV]  max_depth=10, max_features=auto, min_samples_leaf=4, min_samples_split=4, n_estimators=100, total=   0.1s\n",
            "[CV] max_depth=10, max_features=auto, min_samples_leaf=4, min_samples_split=4, n_estimators=100 \n",
            "[CV]  max_depth=10, max_features=auto, min_samples_leaf=4, min_samples_split=4, n_estimators=100, total=   0.2s\n",
            "[CV] max_depth=10, max_features=auto, min_samples_leaf=4, min_samples_split=4, n_estimators=100 \n",
            "[CV]  max_depth=10, max_features=auto, min_samples_leaf=4, min_samples_split=4, n_estimators=100, total=   0.2s\n",
            "[CV] max_depth=10, max_features=auto, min_samples_leaf=4, min_samples_split=4, n_estimators=100 \n",
            "[CV]  max_depth=10, max_features=auto, min_samples_leaf=4, min_samples_split=4, n_estimators=100, total=   0.2s\n",
            "[CV] max_depth=10, max_features=auto, min_samples_leaf=4, min_samples_split=4, n_estimators=100 \n",
            "[CV]  max_depth=10, max_features=auto, min_samples_leaf=4, min_samples_split=4, n_estimators=100, total=   0.2s\n",
            "[CV] max_depth=10, max_features=auto, min_samples_leaf=4, min_samples_split=4, n_estimators=200 \n",
            "[CV]  max_depth=10, max_features=auto, min_samples_leaf=4, min_samples_split=4, n_estimators=200, total=   0.3s\n",
            "[CV] max_depth=10, max_features=auto, min_samples_leaf=4, min_samples_split=4, n_estimators=200 \n",
            "[CV]  max_depth=10, max_features=auto, min_samples_leaf=4, min_samples_split=4, n_estimators=200, total=   0.3s\n",
            "[CV] max_depth=10, max_features=auto, min_samples_leaf=4, min_samples_split=4, n_estimators=200 \n",
            "[CV]  max_depth=10, max_features=auto, min_samples_leaf=4, min_samples_split=4, n_estimators=200, total=   0.3s\n",
            "[CV] max_depth=10, max_features=auto, min_samples_leaf=4, min_samples_split=4, n_estimators=200 \n",
            "[CV]  max_depth=10, max_features=auto, min_samples_leaf=4, min_samples_split=4, n_estimators=200, total=   0.3s\n",
            "[CV] max_depth=10, max_features=auto, min_samples_leaf=4, min_samples_split=4, n_estimators=200 \n",
            "[CV]  max_depth=10, max_features=auto, min_samples_leaf=4, min_samples_split=4, n_estimators=200, total=   0.3s\n",
            "[CV] max_depth=10, max_features=auto, min_samples_leaf=4, min_samples_split=4, n_estimators=500 \n",
            "[CV]  max_depth=10, max_features=auto, min_samples_leaf=4, min_samples_split=4, n_estimators=500, total=   0.8s\n",
            "[CV] max_depth=10, max_features=auto, min_samples_leaf=4, min_samples_split=4, n_estimators=500 \n",
            "[CV]  max_depth=10, max_features=auto, min_samples_leaf=4, min_samples_split=4, n_estimators=500, total=   0.8s\n",
            "[CV] max_depth=10, max_features=auto, min_samples_leaf=4, min_samples_split=4, n_estimators=500 \n",
            "[CV]  max_depth=10, max_features=auto, min_samples_leaf=4, min_samples_split=4, n_estimators=500, total=   0.7s\n",
            "[CV] max_depth=10, max_features=auto, min_samples_leaf=4, min_samples_split=4, n_estimators=500 \n",
            "[CV]  max_depth=10, max_features=auto, min_samples_leaf=4, min_samples_split=4, n_estimators=500, total=   0.8s\n",
            "[CV] max_depth=10, max_features=auto, min_samples_leaf=4, min_samples_split=4, n_estimators=500 \n",
            "[CV]  max_depth=10, max_features=auto, min_samples_leaf=4, min_samples_split=4, n_estimators=500, total=   0.7s\n",
            "[CV] max_depth=10, max_features=sqrt, min_samples_leaf=2, min_samples_split=4, n_estimators=100 \n",
            "[CV]  max_depth=10, max_features=sqrt, min_samples_leaf=2, min_samples_split=4, n_estimators=100, total=   0.2s\n",
            "[CV] max_depth=10, max_features=sqrt, min_samples_leaf=2, min_samples_split=4, n_estimators=100 \n",
            "[CV]  max_depth=10, max_features=sqrt, min_samples_leaf=2, min_samples_split=4, n_estimators=100, total=   0.2s\n",
            "[CV] max_depth=10, max_features=sqrt, min_samples_leaf=2, min_samples_split=4, n_estimators=100 \n",
            "[CV]  max_depth=10, max_features=sqrt, min_samples_leaf=2, min_samples_split=4, n_estimators=100, total=   0.2s\n",
            "[CV] max_depth=10, max_features=sqrt, min_samples_leaf=2, min_samples_split=4, n_estimators=100 \n",
            "[CV]  max_depth=10, max_features=sqrt, min_samples_leaf=2, min_samples_split=4, n_estimators=100, total=   0.2s\n",
            "[CV] max_depth=10, max_features=sqrt, min_samples_leaf=2, min_samples_split=4, n_estimators=100 \n",
            "[CV]  max_depth=10, max_features=sqrt, min_samples_leaf=2, min_samples_split=4, n_estimators=100, total=   0.2s\n",
            "[CV] max_depth=10, max_features=sqrt, min_samples_leaf=2, min_samples_split=4, n_estimators=200 \n",
            "[CV]  max_depth=10, max_features=sqrt, min_samples_leaf=2, min_samples_split=4, n_estimators=200, total=   0.3s\n",
            "[CV] max_depth=10, max_features=sqrt, min_samples_leaf=2, min_samples_split=4, n_estimators=200 \n",
            "[CV]  max_depth=10, max_features=sqrt, min_samples_leaf=2, min_samples_split=4, n_estimators=200, total=   0.3s\n",
            "[CV] max_depth=10, max_features=sqrt, min_samples_leaf=2, min_samples_split=4, n_estimators=200 \n",
            "[CV]  max_depth=10, max_features=sqrt, min_samples_leaf=2, min_samples_split=4, n_estimators=200, total=   0.3s\n",
            "[CV] max_depth=10, max_features=sqrt, min_samples_leaf=2, min_samples_split=4, n_estimators=200 \n",
            "[CV]  max_depth=10, max_features=sqrt, min_samples_leaf=2, min_samples_split=4, n_estimators=200, total=   0.3s\n",
            "[CV] max_depth=10, max_features=sqrt, min_samples_leaf=2, min_samples_split=4, n_estimators=200 \n",
            "[CV]  max_depth=10, max_features=sqrt, min_samples_leaf=2, min_samples_split=4, n_estimators=200, total=   0.3s\n",
            "[CV] max_depth=10, max_features=sqrt, min_samples_leaf=2, min_samples_split=4, n_estimators=500 \n",
            "[CV]  max_depth=10, max_features=sqrt, min_samples_leaf=2, min_samples_split=4, n_estimators=500, total=   0.8s\n",
            "[CV] max_depth=10, max_features=sqrt, min_samples_leaf=2, min_samples_split=4, n_estimators=500 \n",
            "[CV]  max_depth=10, max_features=sqrt, min_samples_leaf=2, min_samples_split=4, n_estimators=500, total=   0.8s\n",
            "[CV] max_depth=10, max_features=sqrt, min_samples_leaf=2, min_samples_split=4, n_estimators=500 \n",
            "[CV]  max_depth=10, max_features=sqrt, min_samples_leaf=2, min_samples_split=4, n_estimators=500, total=   0.8s\n",
            "[CV] max_depth=10, max_features=sqrt, min_samples_leaf=2, min_samples_split=4, n_estimators=500 \n",
            "[CV]  max_depth=10, max_features=sqrt, min_samples_leaf=2, min_samples_split=4, n_estimators=500, total=   0.8s\n",
            "[CV] max_depth=10, max_features=sqrt, min_samples_leaf=2, min_samples_split=4, n_estimators=500 \n",
            "[CV]  max_depth=10, max_features=sqrt, min_samples_leaf=2, min_samples_split=4, n_estimators=500, total=   0.8s\n",
            "[CV] max_depth=10, max_features=sqrt, min_samples_leaf=4, min_samples_split=4, n_estimators=100 \n",
            "[CV]  max_depth=10, max_features=sqrt, min_samples_leaf=4, min_samples_split=4, n_estimators=100, total=   0.2s\n",
            "[CV] max_depth=10, max_features=sqrt, min_samples_leaf=4, min_samples_split=4, n_estimators=100 \n",
            "[CV]  max_depth=10, max_features=sqrt, min_samples_leaf=4, min_samples_split=4, n_estimators=100, total=   0.2s\n",
            "[CV] max_depth=10, max_features=sqrt, min_samples_leaf=4, min_samples_split=4, n_estimators=100 \n",
            "[CV]  max_depth=10, max_features=sqrt, min_samples_leaf=4, min_samples_split=4, n_estimators=100, total=   0.1s\n",
            "[CV] max_depth=10, max_features=sqrt, min_samples_leaf=4, min_samples_split=4, n_estimators=100 \n",
            "[CV]  max_depth=10, max_features=sqrt, min_samples_leaf=4, min_samples_split=4, n_estimators=100, total=   0.2s\n",
            "[CV] max_depth=10, max_features=sqrt, min_samples_leaf=4, min_samples_split=4, n_estimators=100 \n",
            "[CV]  max_depth=10, max_features=sqrt, min_samples_leaf=4, min_samples_split=4, n_estimators=100, total=   0.1s\n",
            "[CV] max_depth=10, max_features=sqrt, min_samples_leaf=4, min_samples_split=4, n_estimators=200 \n",
            "[CV]  max_depth=10, max_features=sqrt, min_samples_leaf=4, min_samples_split=4, n_estimators=200, total=   0.3s\n",
            "[CV] max_depth=10, max_features=sqrt, min_samples_leaf=4, min_samples_split=4, n_estimators=200 \n",
            "[CV]  max_depth=10, max_features=sqrt, min_samples_leaf=4, min_samples_split=4, n_estimators=200, total=   0.3s\n",
            "[CV] max_depth=10, max_features=sqrt, min_samples_leaf=4, min_samples_split=4, n_estimators=200 \n",
            "[CV]  max_depth=10, max_features=sqrt, min_samples_leaf=4, min_samples_split=4, n_estimators=200, total=   0.3s\n",
            "[CV] max_depth=10, max_features=sqrt, min_samples_leaf=4, min_samples_split=4, n_estimators=200 \n",
            "[CV]  max_depth=10, max_features=sqrt, min_samples_leaf=4, min_samples_split=4, n_estimators=200, total=   0.3s\n",
            "[CV] max_depth=10, max_features=sqrt, min_samples_leaf=4, min_samples_split=4, n_estimators=200 \n",
            "[CV]  max_depth=10, max_features=sqrt, min_samples_leaf=4, min_samples_split=4, n_estimators=200, total=   0.3s\n",
            "[CV] max_depth=10, max_features=sqrt, min_samples_leaf=4, min_samples_split=4, n_estimators=500 \n",
            "[CV]  max_depth=10, max_features=sqrt, min_samples_leaf=4, min_samples_split=4, n_estimators=500, total=   0.8s\n",
            "[CV] max_depth=10, max_features=sqrt, min_samples_leaf=4, min_samples_split=4, n_estimators=500 \n",
            "[CV]  max_depth=10, max_features=sqrt, min_samples_leaf=4, min_samples_split=4, n_estimators=500, total=   0.8s\n",
            "[CV] max_depth=10, max_features=sqrt, min_samples_leaf=4, min_samples_split=4, n_estimators=500 \n",
            "[CV]  max_depth=10, max_features=sqrt, min_samples_leaf=4, min_samples_split=4, n_estimators=500, total=   0.8s\n",
            "[CV] max_depth=10, max_features=sqrt, min_samples_leaf=4, min_samples_split=4, n_estimators=500 \n",
            "[CV]  max_depth=10, max_features=sqrt, min_samples_leaf=4, min_samples_split=4, n_estimators=500, total=   0.9s\n",
            "[CV] max_depth=10, max_features=sqrt, min_samples_leaf=4, min_samples_split=4, n_estimators=500 \n",
            "[CV]  max_depth=10, max_features=sqrt, min_samples_leaf=4, min_samples_split=4, n_estimators=500, total=   0.8s\n"
          ],
          "name": "stdout"
        },
        {
          "output_type": "stream",
          "text": [
            "[Parallel(n_jobs=1)]: Done  60 out of  60 | elapsed:   25.1s finished\n"
          ],
          "name": "stderr"
        },
        {
          "output_type": "execute_result",
          "data": {
            "text/plain": [
              "GridSearchCV(cv=5, error_score=nan,\n",
              "             estimator=RandomForestClassifier(bootstrap=True, ccp_alpha=0.0,\n",
              "                                              class_weight=None,\n",
              "                                              criterion='gini', max_depth=None,\n",
              "                                              max_features='auto',\n",
              "                                              max_leaf_nodes=None,\n",
              "                                              max_samples=None,\n",
              "                                              min_impurity_decrease=0.0,\n",
              "                                              min_impurity_split=None,\n",
              "                                              min_samples_leaf=1,\n",
              "                                              min_samples_split=2,\n",
              "                                              min_weight_fraction_leaf=0.0,\n",
              "                                              n_estimators=100, n_jobs=1,\n",
              "                                              oob_score=False,\n",
              "                                              random_state=None, verbose=0,\n",
              "                                              warm_start=False),\n",
              "             iid='deprecated', n_jobs=None,\n",
              "             param_grid={'max_depth': [10], 'max_features': ['auto', 'sqrt'],\n",
              "                         'min_samples_leaf': [2, 4], 'min_samples_split': [4],\n",
              "                         'n_estimators': [100, 200, 500]},\n",
              "             pre_dispatch='2*n_jobs', refit=True, return_train_score=False,\n",
              "             scoring=None, verbose=2)"
            ]
          },
          "metadata": {
            "tags": []
          },
          "execution_count": 292
        }
      ]
    },
    {
      "cell_type": "code",
      "metadata": {
        "colab": {
          "base_uri": "https://localhost:8080/"
        },
        "id": "oshSAQtJLi62",
        "outputId": "a4f99df7-61ee-4193-e3d2-598a0281e677"
      },
      "source": [
        "gs_clf.best_params_"
      ],
      "execution_count": null,
      "outputs": [
        {
          "output_type": "execute_result",
          "data": {
            "text/plain": [
              "{'max_depth': 10,\n",
              " 'max_features': 'sqrt',\n",
              " 'min_samples_leaf': 2,\n",
              " 'min_samples_split': 4,\n",
              " 'n_estimators': 500}"
            ]
          },
          "metadata": {
            "tags": []
          },
          "execution_count": 293
        }
      ]
    },
    {
      "cell_type": "code",
      "metadata": {
        "id": "yXG5CE9eMLwN"
      },
      "source": [
        "gs_y_preds = gs_clf.predict(X_test)"
      ],
      "execution_count": null,
      "outputs": []
    },
    {
      "cell_type": "code",
      "metadata": {
        "colab": {
          "base_uri": "https://localhost:8080/"
        },
        "id": "5m6rgEfiedqR",
        "outputId": "b686d551-3e8f-4a86-c374-276aaf1149da"
      },
      "source": [
        "gs_metrics = evaluate_preds(y_test, gs_y_preds)\n",
        "gs_metrics"
      ],
      "execution_count": null,
      "outputs": [
        {
          "output_type": "stream",
          "text": [
            "Accuracy: 80.33%\n",
            "Precision: 86.84%\n",
            "Recall: 82.50%\n",
            "F1 Score: 84.62%\n"
          ],
          "name": "stdout"
        },
        {
          "output_type": "execute_result",
          "data": {
            "text/plain": [
              "{'accuracy': 0.8, 'f1': 0.85, 'precision': 0.87, 'recall': 0.82}"
            ]
          },
          "metadata": {
            "tags": []
          },
          "execution_count": 295
        }
      ]
    },
    {
      "cell_type": "markdown",
      "metadata": {
        "id": "FXRtqzw-gr1X"
      },
      "source": [
        "**Let's compare our different models metrics**"
      ]
    },
    {
      "cell_type": "code",
      "metadata": {
        "colab": {
          "base_uri": "https://localhost:8080/",
          "height": 570
        },
        "id": "6WFud4sieond",
        "outputId": "c623dd32-9fae-4ac1-abe2-0fed1e93b3b9"
      },
      "source": [
        "compare_metrics = pd.DataFrame({\"baseline\": baseline_metrics,\n",
        "                                \"clf_2\": clf_2_metrics,\n",
        "                                \"random search\": rs_metrics,\n",
        "                                \"grid search\": gs_metrics}) \n",
        "compare_metrics.plot.bar(figsize=(10, 8))"
      ],
      "execution_count": null,
      "outputs": [
        {
          "output_type": "execute_result",
          "data": {
            "text/plain": [
              "<matplotlib.axes._subplots.AxesSubplot at 0x7ff4e4009610>"
            ]
          },
          "metadata": {
            "tags": []
          },
          "execution_count": 297
        },
        {
          "output_type": "display_data",
          "data": {
            "image/png": "[encoded data removed]",
            "text/plain": [
              "<Figure size 720x576 with 1 Axes>"
            ]
          },
          "metadata": {
            "tags": []
          }
        }
      ]
    },
    {
      "cell_type": "markdown",
      "metadata": {
        "id": "9snAXmN1njrS"
      },
      "source": [
        "### 6. Save and Load a Trained Model\n",
        "\n",
        "Two ways to save and load machine learning models:\n",
        "1. With Python's `pickle` module\n",
        "2. With the `joblib` module\n",
        "\n",
        "**Pickle**"
      ]
    },
    {
      "cell_type": "code",
      "metadata": {
        "id": "pAT6Tdqrhcy8"
      },
      "source": [
        "import pickle\n",
        "\n",
        "# Save an exisiting model to file\n",
        "pickle.dump(gs_clf, open(\"gs_random_forest_model_1.pkl\", \"wb\"))"
      ],
      "execution_count": null,
      "outputs": []
    },
    {
      "cell_type": "code",
      "metadata": {
        "id": "z-m09pittcUg"
      },
      "source": [
        "# Load a saved model\n",
        "loaded_pickle_model = pickle.load(open(\"gs_random_forest_model_1.pkl\", \"rb\"))"
      ],
      "execution_count": null,
      "outputs": []
    },
    {
      "cell_type": "code",
      "metadata": {
        "colab": {
          "base_uri": "https://localhost:8080/"
        },
        "id": "M5nz7hnOtt1u",
        "outputId": "eaf98797-6ad7-4249-9c86-123cb713539a"
      },
      "source": [
        "# Make some predictions\n",
        "pickle_y_preds = loaded_pickle_model.predict(X_test)\n",
        "evaluate_preds(y_test, pickle_y_preds)"
      ],
      "execution_count": null,
      "outputs": [
        {
          "output_type": "stream",
          "text": [
            "Accuracy: 80.33%\n",
            "Precision: 86.84%\n",
            "Recall: 82.50%\n",
            "F1 Score: 84.62%\n"
          ],
          "name": "stdout"
        },
        {
          "output_type": "execute_result",
          "data": {
            "text/plain": [
              "{'accuracy': 0.8, 'f1': 0.85, 'precision': 0.87, 'recall': 0.82}"
            ]
          },
          "metadata": {
            "tags": []
          },
          "execution_count": 301
        }
      ]
    },
    {
      "cell_type": "markdown",
      "metadata": {
        "id": "8FvrRwRZxKlu"
      },
      "source": [
        "**Joblib**"
      ]
    },
    {
      "cell_type": "code",
      "metadata": {
        "colab": {
          "base_uri": "https://localhost:8080/"
        },
        "id": "Z2I-7OIDxNdv",
        "outputId": "9ce2e67a-0ee7-4bc8-b39c-8da89db2b178"
      },
      "source": [
        "from joblib import dump, load\n",
        "\n",
        "# Save model to file\n",
        "dump(gs_clf, filename=\"gs_random_forest_model_1.joblib\")\n"
      ],
      "execution_count": null,
      "outputs": [
        {
          "output_type": "execute_result",
          "data": {
            "text/plain": [
              "['gs_random_forest_model_1.joblib']"
            ]
          },
          "metadata": {
            "tags": []
          },
          "execution_count": 302
        }
      ]
    },
    {
      "cell_type": "code",
      "metadata": {
        "id": "YckyarzpyrI4"
      },
      "source": [
        "# Import a saved joblib model\n",
        "loaded_joblib_model = load(filename=\"gs_random_forest_model_1.joblib\")"
      ],
      "execution_count": null,
      "outputs": []
    },
    {
      "cell_type": "code",
      "metadata": {
        "colab": {
          "base_uri": "https://localhost:8080/"
        },
        "id": "WLQuvBBNzr9A",
        "outputId": "6c6a5e12-222c-4b3d-96c0-9c8e41ce0dee"
      },
      "source": [
        "# Make and evaluate joblib predictions\n",
        "joblib_y_preds = loaded_joblib_model.predict(X_test)\n",
        "evaluate_preds(y_test, joblib_y_preds)"
      ],
      "execution_count": null,
      "outputs": [
        {
          "output_type": "stream",
          "text": [
            "Accuracy: 80.33%\n",
            "Precision: 86.84%\n",
            "Recall: 82.50%\n",
            "F1 Score: 84.62%\n"
          ],
          "name": "stdout"
        },
        {
          "output_type": "execute_result",
          "data": {
            "text/plain": [
              "{'accuracy': 0.8, 'f1': 0.85, 'precision': 0.87, 'recall': 0.82}"
            ]
          },
          "metadata": {
            "tags": []
          },
          "execution_count": 304
        }
      ]
    },
    {
      "cell_type": "code",
      "metadata": {
        "id": "s6P68qiwz5i4"
      },
      "source": [
        " # Which one should we use?\n",
        " # Because our model can have multiple numpy arrays which can be huge\n",
        " # It is recommended to use \"joblib\" for better efficiency."
      ],
      "execution_count": null,
      "outputs": []
    },
    {
      "cell_type": "markdown",
      "metadata": {
        "id": "6fxywy-752Bz"
      },
      "source": [
        "### 7. Putting It All Together"
      ]
    },
    {
      "cell_type": "code",
      "metadata": {
        "id": "v3VzUgjn2w-D"
      },
      "source": [
        ""
      ],
      "execution_count": null,
      "outputs": []
    }
  ]
}